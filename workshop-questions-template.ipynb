{
 "cells": [
  {
   "cell_type": "markdown",
   "metadata": {},
   "source": [
    "--- \n",
    "# YME: Workshop Questions Template\n",
    "```tex\n",
    "Deliverables required:\n",
    "3 x Workshop Questions (1 easy, 2 medium) per chapter\n",
    "1 x Mini-project (can be assessed on all chapters)\n",
    "All of which are saved in a single .ipynb file (please reuse this .ipynb template)\n",
    "\n",
    "Mentor notes:\n",
    "1. Download the latest 1-intro-to-python.ipynb notebook file from my GitHub (links below)\n",
    "2. Read up on how your assigned chapter is being taught and familiarise with the flow of it from the notebook\n",
    "3. Remember to pick questions that fully utilise what has just been taught in the notebook and take a look at the Python3 cheatsheet to see what to cover\n",
    "4. Copy and paste the template below and edit each cell to insert your question\n",
    "5. Follow as closely to the template retaining the format (Question > Hints > Provided Code > Solution Code)\n",
    "6. Repeat until all deliverables are met (3 Questions and 1 Mini-project)\n",
    "\n",
    "Links:\n",
    "1. YME Workshop Materials on GitHub: https://github.com/KenYew/YME-Python-Workshop\n",
    "2. Python3 Cheatsheet: https://perso.limsi.fr/pointal/_media/python:cours:mementopython3-english.pdf\n",
    "3. Jupyter Markdown Syntax Reference: https://guides.github.com/pdfs/markdown-cheatsheet-online.pdf\n",
    "4. Bank of Python Questions to steal from: https://erlerobotics.gitbooks.io/erle-robotics-learning-python-gitbook-free\n",
    "\n",
    "Deadline: 31st January 2020, 11:59PM\n",
    "Rename your file as 'your name'-workshop-questions.ipynb and submit to the Whatsapp Group\n",
    "```"
   ]
  },
  {
   "cell_type": "markdown",
   "metadata": {
    "colab_type": "text",
    "id": "-9-6UPo7HtTW"
   },
   "source": [
    "---\n",
    "# Chapter 5: Dictionaries (Example)\n",
    "## Your Turn!\n",
    "### Task 1: Smartphones\n",
    "```tex\n",
    "Given a list of smartphones, can you count the number of times each smartphone model appears in the list? \n",
    "Create a dictionary called phones_dict using the smartphone model as the key and the frequency of the smartphone as the value.\n",
    "```\n",
    "\n",
    "`HINTS:`\n",
    "```python\n",
    "# The expected output of the dictionary based on the given list:\n",
    "{'iPhone': 4, 'Samsung': 2, 'Pixel': 2, 'OnePlus': 3}\n",
    "\n",
    "1. In a for loop, iteratively\n",
    "2. use the list.count(item) method to obtain the number of items in the list\n",
    "3. then assign the key : value pair to the dictionary\n",
    "```"
   ]
  },
  {
   "cell_type": "code",
   "execution_count": 1,
   "metadata": {},
   "outputs": [],
   "source": [
    "phones_list = ['iPhone', 'Samsung', 'Pixel', 'OnePlus', 'OnePlus', 'Pixel', 'Samsung', 'iPhone', 'iPhone', 'iPhone', 'OnePlus']\n",
    "phones_dict = {}"
   ]
  },
  {
   "cell_type": "code",
   "execution_count": 2,
   "metadata": {
    "colab": {},
    "colab_type": "code",
    "id": "jYA1ASUfH7ed"
   },
   "outputs": [
    {
     "name": "stdout",
     "output_type": "stream",
     "text": [
      "{'iPhone': 4, 'Samsung': 2, 'Pixel': 2, 'OnePlus': 3}\n"
     ]
    }
   ],
   "source": [
    "# YOUR CODE: \n",
    "for phone in phones_list: \n",
    "    phone_count = phones_list.count(phone)\n",
    "    phones_dict[phone] = phone_count\n",
    "    \n",
    "print(phones_dict)"
   ]
  },
  {
   "cell_type": "markdown",
   "metadata": {},
   "source": [
    "---\n",
    "### Task 2: Dropped Server Data\n",
    "```tex\n",
    "You are a network engineer from Amazon who is investigating dropped data packets between servers located in Penang and London. You are given 2 network diagnostic logs (both of which are a list of dropped character packets) called `log1` and `log2` which are acquired from the data sent by Penang server and data received by London server. \n",
    "Given the 2 lists, print a dictionary containing key : value pairs of the 'dropped character' packets and the frequency in which it was dropped. \n",
    "```\n",
    "\n",
    "`HINTS:`\n",
    "```python\n",
    "# The expected output of the dictionary based on the two lists:\n",
    "{'Y': 5, 'M': 4, 'E': 5, ' ': 4}\n",
    "\n",
    "1. Recall list operations\n",
    "```"
   ]
  },
  {
   "cell_type": "code",
   "execution_count": 3,
   "metadata": {},
   "outputs": [],
   "source": [
    "lst1 = ['Y', 'M', 'E', ' ', 'Y', 'M', 'E', ' ', 'Y', 'M', 'E', ' ']\n",
    "lst2 = ['Y', 'M', 'E', ' ', 'Y', 'E']\n",
    "dropped_data_dict = {}"
   ]
  },
  {
   "cell_type": "code",
   "execution_count": 4,
   "metadata": {},
   "outputs": [
    {
     "name": "stdout",
     "output_type": "stream",
     "text": [
      "{'Y': 5, 'M': 4, 'E': 5, ' ': 4}\n"
     ]
    }
   ],
   "source": [
    "# YOUR CODE\n",
    "appended_lst = lst1 + lst2\n",
    "for item in appended_lst: \n",
    "    item_count = appended_lst.count(item)\n",
    "    dropped_data_dict[item] = item_count\n",
    "\n",
    "print(dropped_data_dict)"
   ]
  },
  {
   "cell_type": "markdown",
   "metadata": {},
   "source": [
    "---\n",
    "### Task 3: Student Database\n",
    "```tex\n",
    "You are a module coordinator who is in charge of managing a student database containing student scores. The student database is in a form of a dictionary containing all the scores of four students for each assessment type (e.g.: homework, quizzes and tests). \n",
    "Your boss wants you to calculate the average score of each assessment type and update the scores in the database. \n",
    "```\n",
    "`HINTS:`\n",
    "```python\n",
    "# The expected output of the computed database, calculated_dict:\n",
    "{'homework': 88.5, 'quizzes': 74.0, 'tests': 82.5}\n",
    "\n",
    "1. Loop through the items of a dictionary using the .items() method to retrieve keys and values\n",
    "2. Compute the average of the values\n",
    "3. Assign the newly computed values with the associated keys\n",
    "```"
   ]
  },
  {
   "cell_type": "code",
   "execution_count": 5,
   "metadata": {},
   "outputs": [],
   "source": [
    "student_dict = {\n",
    "  \"homework\": [90, 97, 75, 92],\n",
    "  \"quizzes\": [88, 40, 94, 75],\n",
    "  \"tests\": [75, 90, 62, 45]\n",
    "}\n",
    "calculated_dict = {}"
   ]
  },
  {
   "cell_type": "code",
   "execution_count": 6,
   "metadata": {},
   "outputs": [
    {
     "name": "stdout",
     "output_type": "stream",
     "text": [
      "{'homework': 88.5, 'quizzes': 74.25, 'tests': 68.0}\n"
     ]
    }
   ],
   "source": [
    "# YOUR CODE\n",
    "for key, value in student_dict.items(): \n",
    "    total = sum(value)\n",
    "    average = total/len(value)\n",
    "    calculated_dict[key] = average\n",
    "\n",
    "print(calculated_dict)"
   ]
  },
  {
   "cell_type": "markdown",
   "metadata": {},
   "source": [
    "---\n",
    "### Mini Project\n",
    "```python\n",
    "In banks, data analysts monitor trades booked trades.\n",
    "We now study FX trades.\n",
    "\n",
    "A trader gave you FX trade data for last month in the following shape:\n",
    "\n",
    "[\n",
    "\t[ 1000000, 'USD',  907000 , 'EUR' ], \n",
    "\t[ 1000000, 'USD',  907500 , 'EUR' ],\n",
    "\t[ 907000 , 'EUR',  1000000, 'GBP' ],\n",
    "\t[ 20000  , 'GBP',  105306 , 'MYR' ],\n",
    "\t# ...\n",
    "]\n",
    "\n",
    "The first column is the quantity of the currency in column two is paid to receive the quantity in the third column of the fourth currency.\n",
    "(in this first element, 1000000 USD is paid to receive 907000 EUR)\n",
    "\n",
    "# ===============\n",
    "# YOUR TASKS: \n",
    "# ===============\n",
    "1. For every unique currency in the second column, calculate the total outflow of that currency. The first two rows would give you a 2000000 USD \n",
    "outflow. Output your data in a dictionary as such:\n",
    "{\n",
    "\t'USD': 200000,\n",
    "\t# ...\n",
    "}\n",
    "\n",
    "2. For every unique currency in the fourth column, calculate the total inflow of that currency. The first two rows would give you a 1814500 EUR\n",
    "inflow. Your data should be input in the format similar to last question's.\n",
    "\n",
    "3. Use the two previous questions to calculate the net outflow of each currency. The first three lines would output\n",
    "{\n",
    "\t'USD': 1000000,\n",
    "\t'EUR': -907500,\n",
    "}\n",
    "\n",
    "4. Calculate the average exchange rate for every unique cross. A cross is a pairing of a currency with another. The first row would be of the shape\n",
    "'USD/EUR'. As the first two rows are of the same cross, you would need to take the average of the exchange rate.\n",
    "\n",
    "5. Create your own dataset by hand to test the code you wrote.\n",
    "```"
   ]
  },
  {
   "cell_type": "code",
   "execution_count": 7,
   "metadata": {},
   "outputs": [],
   "source": [
    "# YOUR CODE\n"
   ]
  }
 ],
 "metadata": {
  "kernelspec": {
   "display_name": "Python 3",
   "language": "python",
   "name": "python3"
  },
  "language_info": {
   "codemirror_mode": {
    "name": "ipython",
    "version": 3
   },
   "file_extension": ".py",
   "mimetype": "text/x-python",
   "name": "python",
   "nbconvert_exporter": "python",
   "pygments_lexer": "ipython3",
   "version": "3.7.3"
  }
 },
 "nbformat": 4,
 "nbformat_minor": 4
}
