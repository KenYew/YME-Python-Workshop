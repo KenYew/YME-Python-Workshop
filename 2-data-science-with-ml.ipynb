{
 "cells": [
  {
   "cell_type": "markdown",
   "metadata": {},
   "source": [
    "# YME: Data Science with Machine Learning\n",
    "Introduction"
   ]
  },
  {
   "cell_type": "markdown",
   "metadata": {},
   "source": [
    "---\n",
    "## The NumPy Library\n",
    "<div>\n",
    "<img src=\"images/numpy_logo.png\" width=\"500px\" align = \"left\"/>\n",
    "</div>\n",
    "\n",
    "#### __NumPy is the fundamental package for scientific computing with Python. It provides a high-performance multidimensional array object, and tools for working with these arrays. It features:__\n",
    "\n",
    "- flexibility with N-dimensional arrays\n",
    "- broadcasting functions\n",
    "- linear algebra, operations on data etc.."
   ]
  },
  {
   "cell_type": "markdown",
   "metadata": {},
   "source": [
    "<div>\n",
    "<img src=\"images/numpy_array_t.png\" width=\"500px\" align = \"left\"/>\n",
    "</div>\n",
    "\n",
    "#### __An array is an N-dimensional structure that represents any regular data. The dimension in NumPy is called \"axis\" and it starts from 0.__\n",
    "#### For instance, in a 2-dimensional array, axis=0 indicates the rows and axis=1 indicates the columns.\n"
   ]
  },
  {
   "cell_type": "code",
   "execution_count": 2,
   "metadata": {},
   "outputs": [],
   "source": [
    "import numpy as np  # Python library for scientific numerical computation"
   ]
  },
  {
   "cell_type": "markdown",
   "metadata": {},
   "source": [
    "---\n",
    "## Array Creation in NumPy\n",
    "#### __List of NumPy methods__\n",
    "| Function    |          Description              |\n",
    "| --------- | --------------------------------- |\n",
    "| np.zeros   |   n-D array of zeros                |\n",
    "| np.ones |   n-D array of ones |\n",
    "| np.full \t  |   n-D array of constant value      |\n",
    "| np.eye |   Identity matrix of a specific size |"
   ]
  },
  {
   "cell_type": "markdown",
   "metadata": {},
   "source": [
    "#### __Create a 1-D array and explicitly inputing values__"
   ]
  },
  {
   "cell_type": "code",
   "execution_count": null,
   "metadata": {},
   "outputs": [],
   "source": [
    "input_list = [1, 2, 3, 4, 5, 6, 7, 8, 9, 10, 11]\n",
    "v1 = np.array(input_list, dtype=float)\n",
    "# v1 = np.array([1, 2, 3, 4, 5, 6, 7, 8, 9, 10, 11], dtype=float)\n",
    "print(v1)"
   ]
  },
  {
   "cell_type": "markdown",
   "metadata": {},
   "source": [
    "#### __Create a 1-D array with linearly spaced values__"
   ]
  },
  {
   "cell_type": "code",
   "execution_count": null,
   "metadata": {},
   "outputs": [],
   "source": [
    "v2 = np.linspace(start=0, stop=1, num=11, dtype=float)\n",
    "# v2 = np.linspace(0, 1, 11) # This syntax has the same outcome\n",
    "print(v2)"
   ]
  },
  {
   "cell_type": "markdown",
   "metadata": {},
   "source": [
    "#### __Create a 1-D array with random values__"
   ]
  },
  {
   "cell_type": "code",
   "execution_count": null,
   "metadata": {},
   "outputs": [],
   "source": [
    "v3 = np.random.randn(11)\n",
    "print(v3)"
   ]
  },
  {
   "cell_type": "code",
   "execution_count": null,
   "metadata": {},
   "outputs": [],
   "source": [
    "help(np.random.randn)"
   ]
  },
  {
   "cell_type": "markdown",
   "metadata": {},
   "source": [
    "---\n",
    "## Array Manipulation in NumPy\n",
    "#### __NumPy array arithmetic methods__\n",
    "```python \n",
    "np.add(X1, X2) # Two arrays to be arithmetically computed\n",
    "```\n",
    "\n",
    "| Function    |          Description              |\n",
    "| --------- | --------------------------------- |\n",
    "| `np.add` |   Add two arrays |\n",
    "| `np.subtract` |   Subtract two arrays   |\n",
    "| `np.multiply` |   Multiply two arrays |\n",
    "| `np.dot` |   Dot product two arrays   |\n",
    "| `np.cross` |   Cross product two arrays |\n",
    "| `np.divide` |   Divide two arrays   |\n",
    "| `np.sin` |   Apply sine to the array      |\n",
    "| `np.cos`    |   Apply cosine to the array   |\n",
    "| `np.exp` | Apply exponential to the array |\n",
    "| `np.log` | Apply logarithm to the array |"
   ]
  },
  {
   "cell_type": "markdown",
   "metadata": {},
   "source": [
    "#### __Create 2-D arrays with random integers__"
   ]
  },
  {
   "cell_type": "code",
   "execution_count": null,
   "metadata": {},
   "outputs": [],
   "source": [
    "X1 = np.random.randint(low=1, high=5, size=(3, 3)) # Create a 3x3 array with random integers from 1 to 5\n",
    "X2 = np.random.randint(low=1, high=5, size=(3, 3)) # Create a 3x3 array with random integers from 1 to 5\n",
    "print('Array 1:\\n', X1, '\\n')\n",
    "print('Array 2:\\n', X2, '\\n')"
   ]
  },
  {
   "cell_type": "markdown",
   "metadata": {},
   "source": [
    "#### __Array Mathematical Operations__"
   ]
  },
  {
   "cell_type": "code",
   "execution_count": null,
   "metadata": {},
   "outputs": [],
   "source": [
    "print('Addition:\\n', np.add(X1, X2), '\\n')\n",
    "print('Subtraction:\\n', np.subtract(X1, X2), '\\n')\n",
    "print('Multiplication:\\n', np.multiply(X1, X2), '\\n')\n",
    "print('Dot Product:\\n', np.dot(X1, X2), '\\n')\n",
    "print('Cross Product:\\n', np.cross(X1, X2), '\\n')\n",
    "print('Division:\\n', np.divide(X1, X2), '\\n')\n",
    "print('Reciprocal:\\n', np.reciprocal(X1), '\\n')"
   ]
  },
  {
   "cell_type": "code",
   "execution_count": null,
   "metadata": {},
   "outputs": [],
   "source": [
    "my_list = [[1,1,1], [2,2,2], [3,3,3]]\n",
    "my_array = np.array(my_list)\n"
   ]
  },
  {
   "cell_type": "markdown",
   "metadata": {},
   "source": [
    "---\n",
    "## Array Inspection in NumPy\n",
    "\n",
    "#### __NumPy array inspection methods__\n",
    "```python \n",
    "my_list = [[1,1,1], [2,2,2], [3,3,3]]\n",
    "a = np.array(my_list)\n",
    "a.shape # Call the NumPy method directly on array of interest\n",
    "```\n",
    "\n",
    "| Function    |          Description              |\n",
    "| --------- | --------------------------------- |\n",
    "| `a.shape` |   Array dimensions |\n",
    "| `len(a)` |   Length of array |\n",
    "| `a.ndim` |   Number of array dimensions |\n",
    "| `a.size` |   Number of array elements |\n",
    "| `a.dtype` |   Data type of array elements |\n",
    "| `a.dtype.name` |   Name of data type |\n",
    "| `a.astype(int)` |   Convert an array to a different type |\n",
    "\n"
   ]
  },
  {
   "cell_type": "markdown",
   "metadata": {},
   "source": [
    "#### __Determine size of array__"
   ]
  },
  {
   "cell_type": "code",
   "execution_count": 3,
   "metadata": {},
   "outputs": [
    {
     "name": "stdout",
     "output_type": "stream",
     "text": [
      "[[1 1 1]\n",
      " [2 2 2]\n",
      " [3 3 3]] \n",
      "\n",
      "Array shape: (3, 3)\n",
      "Array length: 3\n",
      "Array no. of dimensions: 2\n",
      "Array no. of elements: 9\n",
      "Array element datatype: int64\n",
      "Array element datatype: int64\n",
      "Array datatype conversion:\n",
      " [[1. 1. 1.]\n",
      " [2. 2. 2.]\n",
      " [3. 3. 3.]]\n"
     ]
    }
   ],
   "source": [
    "my_list = [[1,1,1], [2,2,2], [3,3,3]]\n",
    "a = np.array(my_list)\n",
    "print(a, '\\n')\n",
    "\n",
    "print('Array shape:', a.shape) # Dimensions of array\n",
    "print('Array length:', len(a)) # Length of 3 (width of array only)\n",
    "print('Array no. of dimensions:', a.ndim) # 2-dimensional array\n",
    "print('Array no. of elements:', a.size) # Size of 9 elements\n",
    "print('Array element datatype:', a.dtype) # Data type of array elements\n",
    "print('Array element datatype:', a.dtype.name) # Data type of array elements\n",
    "print('Array datatype conversion:\\n', a.astype(float)) # Convert array elements data types to float"
   ]
  },
  {
   "cell_type": "markdown",
   "metadata": {},
   "source": [
    "---\n",
    "## The Pandas Library\n",
    "<div>\n",
    "<img src=\"images/pandas_logo.png\" width=\"500px\" align = \"left\"/>\n",
    "</div>\n",
    "Pandas is an open source library providing high-performance, easy-to-use data structures and data analysis tools for the Python programming language. It is fully compatible with the NumPy package.\n",
    "\n",
    "Instead of axis Pandas uses \"index\" and \"column\" to describe the dimensions"
   ]
  },
  {
   "cell_type": "markdown",
   "metadata": {},
   "source": [
    "<div>\n",
    "<img src=\"images/pandas_basic.png\" width=\"500px\" align = \"left\"/>\n",
    "</div>"
   ]
  },
  {
   "cell_type": "markdown",
   "metadata": {},
   "source": [
    "---\n",
    "## The Matplotlib Library\n",
    "\n",
    "<div>\n",
    "<img src=\"images/matplotlib_logo.svg\" width=\"500px\" align = \"left\"/>\n",
    "</div>\n",
    "\n",
    "Matplotlib is a visualization library in Python for 2D plots of arrays. Matplotlib is a multi-platform data visualization library built on NumPy arrays. \n",
    "\n",
    "One of the greatest benefits of visualization is that it allows us visual access to huge amounts of data in easily digestible visuals. Matplotlib consists of several plots like line, bar, scatter, histogram etc.\n",
    "\n",
    "Pyplot is a Matplotlib module which provides a MATLAB-like interface, with the advantage of being free and open-source. \n",
    "Some useful pyplot functions:\n",
    "\n",
    "| Function    |          Description              |\n",
    "| ----------- | --------------------------------- |\n",
    "| plt.axhline |   Horizontal line across the axis |\n",
    "| plt.axvline |   Vertical line across the axis   |\n",
    "| plt.boxplot |   Box and whisker plot            |\n",
    "| plt.plot    |   Simple line plot                |\n",
    "| plt.hist    |   Histogram plot                  |\n",
    "| plt.scatter |   Scatter plot of y vs. x with varying marker size and/or color |\n",
    "| plt.xlim \t  |   Get or set the x limits         |\n",
    "| plt.xticks  |   Get or set the current tick locations and labels of the x-axis |\n",
    "| plt.ylabel  |   Set the label for the y-axis |\n",
    "| plt.ylim    |\t  Get or set the y limits      |\n",
    "| plt.yticks  |   Get or set the current tick locations and labels of the y-axis |\n",
    "| plt.title   |   Set the title of the plot    |"
   ]
  },
  {
   "cell_type": "markdown",
   "metadata": {},
   "source": [
    "---\n",
    "## The Scikit-Learn Library\n",
    "\n",
    "<div>\n",
    "<img src=\"images/scikit-learn_logo.png\" width=\"500px\" align = \"left\"/>\n",
    "</div>\n",
    "\n",
    "This is a Scikit-Learn library."
   ]
  },
  {
   "cell_type": "code",
   "execution_count": null,
   "metadata": {},
   "outputs": [],
   "source": []
  }
 ],
 "metadata": {
  "kernelspec": {
   "display_name": "Python 3",
   "language": "python",
   "name": "python3"
  },
  "language_info": {
   "codemirror_mode": {
    "name": "ipython",
    "version": 3
   },
   "file_extension": ".py",
   "mimetype": "text/x-python",
   "name": "python",
   "nbconvert_exporter": "python",
   "pygments_lexer": "ipython3",
   "version": "3.7.3"
  }
 },
 "nbformat": 4,
 "nbformat_minor": 4
}
