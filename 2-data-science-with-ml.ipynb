{
 "cells": [
  {
   "cell_type": "markdown",
   "metadata": {},
   "source": [
    "<div>\n",
    "<img src=\"https://ymeglobal.org/wp-content/uploads/2019/02/YME-LOGO-2017.png\" width=\"300px\" align = \"left\"/>\n",
    "</div>\n",
    "\n",
    "# YME: Data Science with Machine Learning Workshop\n",
    "\n",
    "## Introduction to NumPy and Matplotlib\n",
    "In this notebook, we will learn how to use NumPy and Matplotlib methods to perform multi-dimensional array operations and plot MATLAB-like publication-style figures of data.\n",
    "\n",
    "#### Required Libraries:\n",
    "* [NumPy](http://www.numpy.org/)\n",
    "* [Matplotlib](http://matplotlib.org/)"
   ]
  },
  {
   "cell_type": "markdown",
   "metadata": {},
   "source": [
    "---\n",
    "#### Author: Ken Yew Piong\n",
    "\n",
    "<i class=\"fa fa-linkedin-square fa-1x\" aria-hidden=\"true\"></i> Linkedin: [**@Ken Yew Piong**](https://www.linkedin.com/in/ken-yew-piong/)\n",
    "\n",
    "<i class=\"fa fa-github-square fa-1x\" aria-hidden=\"true\"></i> GitHub: [**@KenYew**](https://github.com/KenYew)\n",
    "\n",
    "<i class=\"fa fa-facebook-square fa-1x\" aria-hidden=\"true\"></i> Messenger: [**@kkenyew**](https://m.me/kkenyew)\n",
    "\n",
    "<i class=\"fa fa-envelope-square\" aria-hidden=\"true\"></i> Mail: josephpiong@live.com\n"
   ]
  },
  {
   "cell_type": "markdown",
   "metadata": {},
   "source": [
    "---\n",
    "## Import Libraries"
   ]
  },
  {
   "cell_type": "code",
   "execution_count": null,
   "metadata": {},
   "outputs": [],
   "source": [
    "%%html\n",
    "<style>\n",
    "table {float:left}\n",
    "</style>"
   ]
  },
  {
   "cell_type": "code",
   "execution_count": null,
   "metadata": {},
   "outputs": [],
   "source": [
    "# Import NumPy library\n",
    "import numpy as np \n",
    "# Import Matplotlib library\n",
    "import matplotlib.pyplot as plt"
   ]
  },
  {
   "cell_type": "markdown",
   "metadata": {},
   "source": [
    "---\n",
    "## Chapter 1: The NumPy Library\n",
    "<div>\n",
    "<img src=\"https://raw.githubusercontent.com/KenYew/YME-Python-Workshop/master/images/numpy_logo.png\" width=\"500px\" align = \"left\"/>\n",
    "</div>\n",
    "\n",
    "#### __NumPy is the fundamental package for scientific computing with Python. It provides a high-performance multidimensional array object, and tools for working with these arrays. The benefits of NumPy are:__\n",
    "\n",
    "- **Size** - Numpy data structures take up less space\n",
    "- **Performance** - Efficient memory storage of NumPy arrays enable faster performances than lists \n",
    "- **Functionality** - NumPy have optimized mathematical functions on arrays such as linear algebra operations built in.\n",
    "- **Flexibility** - High flexibility with N-dimensional arrays\n"
   ]
  },
  {
   "cell_type": "markdown",
   "metadata": {},
   "source": [
    "<div>\n",
    "<img src=\"https://raw.githubusercontent.com/KenYew/YME-Python-Workshop/master/images/numpy_array_t.png\" width=\"500px\" align = \"left\"/>\n",
    "</div>\n",
    "\n",
    "#### __An array is an N-dimensional structure that represents any regular data. The dimension in NumPy is called \"axis\" and it starts from 0.__\n",
    "#### For instance, in a 2-dimensional array, axis=0 indicates the rows and axis=1 indicates the columns.\n"
   ]
  },
  {
   "cell_type": "markdown",
   "metadata": {},
   "source": [
    "---\n",
    "## 1.1 Array Creation in NumPy\n",
    "#### __List of NumPy methods__\n",
    "| Function    |          Description              |\n",
    "| --------- | --------------------------------- |\n",
    "| np.zeros   |   n-D array of zeros                |\n",
    "| np.ones |   n-D array of ones |\n",
    "| np.full \t  |   n-D array of constant value      |\n",
    "| np.eye |   Identity matrix of a specific size |"
   ]
  },
  {
   "cell_type": "markdown",
   "metadata": {},
   "source": [
    "### (A) 1-D Array Creation\n",
    "#### Explicitly inputing values"
   ]
  },
  {
   "cell_type": "code",
   "execution_count": null,
   "metadata": {},
   "outputs": [],
   "source": [
    "input_list = [1, 2, 3, 4, 5, 6, 7, 8, 9, 10, 11]\n",
    "arr = np.array(input_list, dtype=float) # OR arr = np.array([1, 2, 3, 4, 5, 6, 7, 8, 9, 10, 11], dtype=float)\n",
    "print(arr)"
   ]
  },
  {
   "cell_type": "markdown",
   "metadata": {},
   "source": [
    "#### Lineary spaced values"
   ]
  },
  {
   "cell_type": "code",
   "execution_count": null,
   "metadata": {},
   "outputs": [],
   "source": [
    "arr_lin = np.linspace(start=0, stop=1, num=11, dtype=float)\n",
    "# arr_lin = np.linspace(0, 1, 11) # This syntax has the same outcome\n",
    "print(arr_lin)"
   ]
  },
  {
   "cell_type": "markdown",
   "metadata": {},
   "source": [
    "#### Random values"
   ]
  },
  {
   "cell_type": "code",
   "execution_count": null,
   "metadata": {},
   "outputs": [],
   "source": [
    "arr_rand = np.random.randn(11)\n",
    "print(arr_rand)"
   ]
  },
  {
   "cell_type": "markdown",
   "metadata": {},
   "source": [
    "### (B) 2-D Array Creation\n",
    "#### Zeros matrix"
   ]
  },
  {
   "cell_type": "code",
   "execution_count": null,
   "metadata": {},
   "outputs": [],
   "source": [
    "arr_zeros = np.zeros((3,3))\n",
    "\n",
    "print(arr_zeros)\n",
    "print('Datatype:', type(arr_zeros)) # array datatype\n",
    "print('Array shape:', arr_zeros.shape) # array shape\n",
    "print('Array dimensions:', arr_zeros.ndim) # array dimension"
   ]
  },
  {
   "cell_type": "markdown",
   "metadata": {},
   "source": [
    "#### Ones matrix"
   ]
  },
  {
   "cell_type": "code",
   "execution_count": null,
   "metadata": {},
   "outputs": [],
   "source": [
    "arr_ones = np.ones((3,3))\n",
    "\n",
    "print(arr_ones)\n",
    "print('Datatype:', type(arr_ones)) # array datatype\n",
    "print('Array shape:', arr_ones.shape) # array shape\n",
    "print('Array dimensions:', arr_ones.ndim) # array dimension"
   ]
  },
  {
   "cell_type": "markdown",
   "metadata": {},
   "source": [
    "#### Identity Matrix"
   ]
  },
  {
   "cell_type": "code",
   "execution_count": null,
   "metadata": {},
   "outputs": [],
   "source": [
    "arr_id = np.eye(3, 3)\n",
    "\n",
    "print(arr_id)\n",
    "print('Datatype:', type(arr_id)) # array datatype\n",
    "print('Array shape:', arr_id.shape) # array shape\n",
    "print('Array dimensions:', arr_id.ndim) # array dimension"
   ]
  },
  {
   "cell_type": "markdown",
   "metadata": {},
   "source": [
    "#### Matrix with same values"
   ]
  },
  {
   "cell_type": "code",
   "execution_count": null,
   "metadata": {},
   "outputs": [],
   "source": [
    "arr_fulls = np.full((3, 3), 8) # Create a 3x3 array filled with numbers 8\n",
    "\n",
    "print(arr_fulls)\n",
    "print('Datatype:', type(arr_fulls)) # array datatype\n",
    "print('Array shape:', arr_fulls.shape) # array shape\n",
    "print('Array dimensions:', arr_fulls.ndim) # array dimension"
   ]
  },
  {
   "cell_type": "markdown",
   "metadata": {},
   "source": [
    "---\n",
    "## 1.2 Array Manipulation in NumPy\n",
    "#### __NumPy array arithmetic methods__\n",
    "```python \n",
    "np.add(X1, X2) # Two arrays to be arithmetically computed\n",
    "```\n",
    "\n",
    "| Function    |          Description              |\n",
    "| --------- | --------------------------------- |\n",
    "| `np.add` |   Add two arrays |\n",
    "| `np.subtract` |   Subtract two arrays   |\n",
    "| `np.multiply` |   Multiply two arrays |\n",
    "| `np.dot` |   Dot product two arrays   |\n",
    "| `np.cross` |   Cross product two arrays |\n",
    "| `np.divide` |   Divide two arrays   |\n",
    "| `np.sin` |   Apply sine to the array      |\n",
    "| `np.cos`    |   Apply cosine to the array   |\n",
    "| `np.exp` | Apply exponential to the array |\n",
    "| `np.log` | Apply logarithm to the array |"
   ]
  },
  {
   "cell_type": "markdown",
   "metadata": {},
   "source": [
    "#### __Create 2-D arrays with random integers__"
   ]
  },
  {
   "cell_type": "code",
   "execution_count": null,
   "metadata": {},
   "outputs": [],
   "source": [
    "X1 = np.random.randint(low=1, high=5, size=(3, 3)) # Create a 3x3 array with random integers from 1 to 5\n",
    "X2 = np.random.randint(low=1, high=5, size=(3, 3)) # Create a 3x3 array with random integers from 1 to 5\n",
    "print('Array 1:\\n', X1, '\\n')\n",
    "print('Array 2:\\n', X2, '\\n')"
   ]
  },
  {
   "cell_type": "markdown",
   "metadata": {},
   "source": [
    "#### __Array Mathematical Operations__"
   ]
  },
  {
   "cell_type": "code",
   "execution_count": null,
   "metadata": {},
   "outputs": [],
   "source": [
    "print('Addition:\\n', np.add(X1, X2), '\\n')\n",
    "print('Subtraction:\\n', np.subtract(X1, X2), '\\n')\n",
    "print('Multiplication:\\n', np.multiply(X1, X2), '\\n')\n",
    "print('Dot Product:\\n', np.dot(X1, X2), '\\n')\n",
    "print('Cross Product:\\n', np.cross(X1, X2), '\\n')\n",
    "print('Division:\\n', np.divide(X1, X2), '\\n')\n",
    "print('Reciprocal:\\n', np.reciprocal(X1), '\\n')"
   ]
  },
  {
   "cell_type": "markdown",
   "metadata": {},
   "source": [
    "---\n",
    "## 1.3 Array Inspection in NumPy\n",
    "\n",
    "#### __NumPy array inspection methods__\n",
    "```python \n",
    "my_list = [[1,1,1], [2,2,2], [3,3,3]]\n",
    "a = np.array(my_list)\n",
    "a.shape # Call the NumPy method directly on array of interest\n",
    "```\n",
    "\n",
    "| Function    |          Description              |\n",
    "| --------- | --------------------------------- |\n",
    "| `a.shape` |   Array dimensions |\n",
    "| `len(a)` |   Length of array |\n",
    "| `a.ndim` |   Number of array dimensions |\n",
    "| `a.size` |   Number of array elements |\n",
    "| `a.dtype` |   Data type of array elements |\n",
    "| `a.dtype.name` |   Name of data type |\n",
    "| `a.astype(int)` |   Convert an array to a different type |\n",
    "\n"
   ]
  },
  {
   "cell_type": "markdown",
   "metadata": {},
   "source": [
    "#### __Determine size of array__"
   ]
  },
  {
   "cell_type": "code",
   "execution_count": null,
   "metadata": {},
   "outputs": [],
   "source": [
    "my_list = [[1,1,1], [2,2,2], [3,3,3]]\n",
    "a = np.array(my_list)\n",
    "print(a, '\\n')\n",
    "\n",
    "print('Array shape:', a.shape) # Dimensions of array\n",
    "print('Array length:', len(a)) # Length of 3 (width of array only)\n",
    "print('Array no. of dimensions:', a.ndim) # 2-dimensional array\n",
    "print('Array no. of elements:', a.size) # Size of 9 elements\n",
    "print('Array element datatype:', a.dtype) # Data type of array elements\n",
    "print('Array element datatype:', a.dtype.name) # Data type of array elements\n",
    "print('Array datatype conversion:\\n', a.astype(float)) # Convert array elements data types to float"
   ]
  },
  {
   "cell_type": "markdown",
   "metadata": {
    "colab_type": "text",
    "id": "-HcXg6Ca6WtX"
   },
   "source": [
    "---\n",
    "## Your Turn!\n",
    "First, let's run this code - we shall use it later to visualise our arrays using Matplotlib. Don't worry if you don't understand what it is doing."
   ]
  },
  {
   "cell_type": "code",
   "execution_count": null,
   "metadata": {
    "colab": {},
    "colab_type": "code",
    "id": "Wwryako66WtZ"
   },
   "outputs": [],
   "source": [
    "def plot_2D_array(my_array,rescale_fig=0.7):\n",
    "    '''\n",
    "    Visualise a given my_array 2D numpy data. Use the optional rescale_fig \n",
    "    to resize the plot accordingly.\n",
    "    \n",
    "    '''\n",
    "    i_dim, j_dim = my_array.shape\n",
    "\n",
    "    fig, ax = plt.subplots(figsize=(j_dim*rescale_fig, i_dim*rescale_fig))\n",
    "    im = ax.imshow(my_array)\n",
    "\n",
    "    ax.set_xticks(np.arange(j_dim))\n",
    "    ax.set_yticks(np.arange(i_dim))\n",
    "    ax.set_xticklabels(np.arange(j_dim))\n",
    "    ax.set_yticklabels(np.arange(i_dim))\n",
    "    ax.set_xlabel('j', fontsize=14)\n",
    "    ax.set_ylabel('i', fontsize=14,rotation=0)\n",
    "\n",
    "    # Loop over data dimensions and create text annotations.\n",
    "    for i in range(i_dim):\n",
    "        for j in range(j_dim):\n",
    "            text = ax.text(j, i, my_array[i, j],\n",
    "                           ha=\"center\", va=\"center\", color=\"w\")\n",
    "    fig.tight_layout()\n",
    "    plt.show()"
   ]
  },
  {
   "cell_type": "markdown",
   "metadata": {
    "colab_type": "text",
    "id": "YpKD6Qkx6Wtf"
   },
   "source": [
    "We now can call ```plot_2D_array``` pass a 2D array for visualisation. For example:"
   ]
  },
  {
   "cell_type": "code",
   "execution_count": null,
   "metadata": {
    "colab": {
     "base_uri": "https://localhost:8080/",
     "height": 378
    },
    "colab_type": "code",
    "executionInfo": {
     "elapsed": 433,
     "status": "error",
     "timestamp": 1549190209827,
     "user": {
      "displayName": "WH T",
      "photoUrl": "https://lh6.googleusercontent.com/-EyeOsga3c2I/AAAAAAAAAAI/AAAAAAAAABU/XBgTHx7UqMY/s64/photo.jpg",
      "userId": "15518651589852019122"
     },
     "user_tz": -480
    },
    "id": "reF0Ll726Wtg",
    "outputId": "db2e23db-1240-4b27-b53b-69cefe547b50"
   },
   "outputs": [],
   "source": [
    "np.random.seed(seed=4400)\n",
    "# create an array\n",
    "A = np.random.randint(100,size=(3,4))\n",
    "print(A)\n",
    "# visualise it by calling plot_2D array we defined above.\n",
    "plot_2D_array(A)"
   ]
  },
  {
   "cell_type": "markdown",
   "metadata": {
    "colab_type": "text",
    "id": "83WhXyvB6Wtn"
   },
   "source": [
    "In the diagram above, the address or index of each array entry is shown on the axes. To access the i-th row and j-th column, we use ```A[i,j]```."
   ]
  },
  {
   "cell_type": "code",
   "execution_count": null,
   "metadata": {
    "colab": {},
    "colab_type": "code",
    "id": "ArY--VKX6Wtp",
    "outputId": "eec26d0e-6125-4e94-e3ff-c5176a951436"
   },
   "outputs": [],
   "source": [
    "A[1,3]"
   ]
  },
  {
   "cell_type": "markdown",
   "metadata": {
    "colab_type": "text",
    "id": "Xxw66y1u6Wtu"
   },
   "source": [
    "We can also access a range of entries in the array, for example:"
   ]
  },
  {
   "cell_type": "code",
   "execution_count": null,
   "metadata": {
    "colab": {},
    "colab_type": "code",
    "id": "wuEI3JLd6WuG",
    "outputId": "374a9f55-894b-441d-a92c-ccac286ac75b"
   },
   "outputs": [],
   "source": [
    "B = A[0:2,1:3]\n",
    "B"
   ]
  },
  {
   "cell_type": "markdown",
   "metadata": {
    "colab_type": "text",
    "id": "FarW72l26WuI"
   },
   "source": [
    "## Task 1: Array Manipulation\n",
    "Below, we create a $8\\times8$ array with random integer between 0 to 100. Change the values in a subset of array A to -50 using the following indexes. We've completed the first one for you.\n",
    "1. ```A[3,:-2]```\n",
    "1. ```A[0,:-1]```\n",
    "1. ```A[:,2:5]```\n",
    "1. ```A[3:6,3:]```"
   ]
  },
  {
   "cell_type": "code",
   "execution_count": null,
   "metadata": {
    "colab": {},
    "colab_type": "code",
    "id": "fsJTgGOr6WuJ",
    "outputId": "828c50a9-1cb4-4ee2-9e7a-f169ddb1391b"
   },
   "outputs": [],
   "source": [
    "np.random.seed(seed=4400)\n",
    "# create an array\n",
    "A = np.random.randint(100,size=(8,8))\n",
    "\n",
    "# Change the indexing here\n",
    "A[3,:-2] = -50\n",
    "\n",
    "# YOUR CODE\n",
    "\n",
    "\n",
    "# visualise it by calling plot_2D array we defined above.\n",
    "plot_2D_array(A)"
   ]
  },
  {
   "cell_type": "markdown",
   "metadata": {},
   "source": [
    "---\n",
    "## Chapter 2: The Matplotlib Library\n",
    "\n",
    "<div>\n",
    "<img src=\"https://matplotlib.org/_static/logo2_compressed.svg\" width=\"500px\" align = \"left\"/>\n",
    "</div>\n",
    "\n",
    "Matplotlib is a visualization library in Python for 2D plots of arrays. Matplotlib is a multi-platform data visualization library built on NumPy arrays. \n",
    "\n",
    "One of the greatest benefits of visualization is that it allows us visual access to huge amounts of data in easily digestible visuals. Matplotlib consists of several plots like line, bar, scatter, histogram etc.\n",
    "\n",
    "Pyplot is a Matplotlib module which provides a MATLAB-like interface, with the advantage of being free and open-source. \n",
    "`Some useful pyplot functions:`\n",
    "\n",
    "| Function    |          Description              |\n",
    "| ----------- | --------------------------------- |\n",
    "| plt.axhline |   Horizontal line across the axis |\n",
    "| plt.axvline |   Vertical line across the axis   |\n",
    "| plt.boxplot |   Box and whisker plot            |\n",
    "| plt.plot    |   Simple line plot                |\n",
    "| plt.hist    |   Histogram plot                  |\n",
    "| plt.scatter |   Scatter plot of y vs. x with varying marker size and/or color |\n",
    "| plt.xlim \t  |   Get or set the x limits         |\n",
    "| plt.xticks  |   Get or set the current tick locations and labels of the x-axis |\n",
    "| plt.ylabel  |   Set the label for the y-axis |\n",
    "| plt.ylim    |\t  Get or set the y limits      |\n",
    "| plt.yticks  |   Get or set the current tick locations and labels of the y-axis |\n",
    "| plt.title   |   Set the title of the plot    |"
   ]
  },
  {
   "cell_type": "markdown",
   "metadata": {
    "colab_type": "text",
    "id": "zcTMqI1r6WuO"
   },
   "source": [
    "---\n",
    "## 2.1 Simple 2-D plot\n",
    "We first create a 1D array called ```time``` using ```np.linspace(0,2,50)```. \n",
    "\n",
    "Then create a sinusoidal signal using $signal = 2\\times np.sin(2\\times np.pi\\times time)$. Here, were are calling built-in ```sin``` and ```pi``` functions in Numpy."
   ]
  },
  {
   "cell_type": "code",
   "execution_count": null,
   "metadata": {
    "colab": {},
    "colab_type": "code",
    "id": "-VN6DHBx6WuQ"
   },
   "outputs": [],
   "source": [
    "time = np.linspace(0,2,50)\n",
    "signal = 2*np.sin(2*np.pi*time)"
   ]
  },
  {
   "cell_type": "markdown",
   "metadata": {
    "colab_type": "text",
    "id": "Yl0C-FPB6WuS"
   },
   "source": [
    "Plot ```time``` vs. ```signal```."
   ]
  },
  {
   "cell_type": "code",
   "execution_count": null,
   "metadata": {
    "colab": {},
    "colab_type": "code",
    "id": "L0mw6kuv6WuT",
    "outputId": "fe23303e-0e3c-4898-db3e-6b9fc292f462"
   },
   "outputs": [],
   "source": [
    "plt.plot(time,signal)"
   ]
  },
  {
   "cell_type": "markdown",
   "metadata": {
    "colab_type": "text",
    "id": "Aek8srbh6WuX"
   },
   "source": [
    "## 2.2 Basic Formating\n",
    "We now explore some of the typical formatting we need for our plot. First run the following ```example_plot``` function (it won't give any output for now)"
   ]
  },
  {
   "cell_type": "code",
   "execution_count": null,
   "metadata": {
    "colab": {},
    "colab_type": "code",
    "id": "LARiQazB6WuY"
   },
   "outputs": [],
   "source": [
    "def example_plot(x,y):\n",
    "    '''\n",
    "    Plots x vs. y values with some pre-determined formatting.  \n",
    "    '''\n",
    "    plt.plot(x, y, '--r', linewidth=3, label='red line')\n",
    "\n",
    "    plt.text(1.25, 1,'Peak')\n",
    "\n",
    "    plt.title('Title with Greek letter $\\sigma$', fontsize=15)\n",
    "\n",
    "    # axis limit\n",
    "    plt.xlim(0,2)\n",
    "    plt.ylim(-2,2)\n",
    "\n",
    "    # axis labels\n",
    "    plt.xlabel('x-axis')\n",
    "    plt.ylabel('y-axis')\n",
    "    \n",
    "    # grids\n",
    "    plt.grid()\n",
    "\n",
    "    # activate legend\n",
    "    plt.legend(loc='upper right')       "
   ]
  },
  {
   "cell_type": "markdown",
   "metadata": {
    "colab_type": "text",
    "id": "LjSLLx6q6Wuc"
   },
   "source": [
    "Then, call ```example_plot``` by passing ```time``` and ```signal``` as `x` and `y`.\n",
    "\n",
    "Then ```plt.savefig``` to save the plot. Optionally, we can use ```plt.tight_layout()``` to get rid of the large white margin in our saved plot."
   ]
  },
  {
   "cell_type": "code",
   "execution_count": null,
   "metadata": {
    "colab": {},
    "colab_type": "code",
    "id": "ZNKRC4pP6Wue",
    "outputId": "ebff1476-9d2d-465b-c5b0-d05cfa910207"
   },
   "outputs": [],
   "source": [
    "# plot time vs. signal by calling example_plot function\n",
    "example_plot(time,signal)\n",
    "\n",
    "# save the figure\n",
    "plt.tight_layout()\n",
    "plt.savefig('./my_saved_plot.png')"
   ]
  },
  {
   "cell_type": "markdown",
   "metadata": {
    "colab_type": "text",
    "id": "B5TL7IVc6Wug"
   },
   "source": [
    "Check your working folder. You should have a new file called 'my_saved_plot.png'. Here we specified it as '.png' format. Of course, you can also use '.jpg'."
   ]
  },
  {
   "cell_type": "markdown",
   "metadata": {
    "colab_type": "text",
    "id": "3GZOTFf86Wuh"
   },
   "source": [
    "---\n",
    "## Your Turn!\n",
    "Now we want to explore some of the formatting ourselves.\n",
    "\n",
    "Without using the ```example_plot``` function, reproduce the plot above but with the following modifications\n",
    "1. Change the solid red line to green star and label this as ```label='Old signal'```\n",
    "2. Add new plot with ```0.1*signal``` in the y axis. Use blue line with ```linewidth=5``` and ```label='New signal'```\n",
    "2. Add an arrow pointing to the peak at (1.25,2) using ```plt.arrow```.\n",
    "2. Relabel the axes with 'Time (s)' (x axis) and 'Signal (kV)' (y axis)\n",
    "3. Change $\\sigma$ in the title to $\\hat{\\omega}_n$ (hint: Google 'Latex greek letters') and change the font size to 20 (hint: use ```fontsize```). \n",
    "4. Make sure the legend is not blocking the lines.\n",
    "\n",
    "Make sure to add the formatting one by one, and see the resulting plot before adding the next formatting. We have added ```plt.plot(time, signal, '*g')``` for item 1 for you the get started."
   ]
  },
  {
   "cell_type": "code",
   "execution_count": null,
   "metadata": {
    "colab": {},
    "colab_type": "code",
    "id": "7WT4o6X26Wuj",
    "outputId": "ad5511db-b54c-4829-e8ca-b1a2c9ccff66"
   },
   "outputs": [],
   "source": [
    "# e.g to change the solid red line to green star\n",
    "plt.plot(time, signal, '*g', label='Old signal')\n",
    "\n",
    "# YOUR CODE\n"
   ]
  },
  {
   "cell_type": "markdown",
   "metadata": {
    "colab_type": "text",
    "id": "6brJu78X6Wum"
   },
   "source": [
    "---\n",
    "## 2.3 Multiple subplots\n",
    "We can also have the previous two plots on separate subplots. To do this we can use ```plt.subplot(total_plot_in_y, total_plot_in_x, increment)```. For example:"
   ]
  },
  {
   "cell_type": "code",
   "execution_count": null,
   "metadata": {
    "colab": {},
    "colab_type": "code",
    "id": "a11ZfJqU6Wun",
    "outputId": "03944bbe-f0bb-42d7-867f-6ad0309b8254"
   },
   "outputs": [],
   "source": [
    "plt.subplot(2, 1, 1)\n",
    "plt.plot(time, signal, '*g', label='Old signal')\n",
    "plt.title('Old signal')\n",
    "plt.xlabel('Time (s)')\n",
    "plt.ylabel('Signal (kV)')\n",
    "\n",
    "plt.subplot(2, 1, 2)\n",
    "plt.plot(time, 0.1*signal, '--k', linewidth=5,label='New signal')\n",
    "plt.title('New signal')\n",
    "plt.xlabel('Time (s)')\n",
    "plt.ylabel('Signal (kV)')\n",
    "\n",
    "plt.tight_layout()"
   ]
  },
  {
   "cell_type": "markdown",
   "metadata": {
    "colab_type": "text",
    "id": "r-J7nXWe6Wup"
   },
   "source": [
    "So far we have been adding the plot on figures, without explicitly creating a figure object. Most of the times, we can get away with this. However, sometimes we may need to have further control on the figure, for example to control the size of the figure in inch. To do this we have to create a figure object using ```plt.figure()``` as pass the ```figsize=(my_x_length, my_y_length)``` as an argument. For example:"
   ]
  },
  {
   "cell_type": "code",
   "execution_count": null,
   "metadata": {
    "colab": {},
    "colab_type": "code",
    "id": "o5n4T8S86Wup",
    "outputId": "687769fc-3785-4247-8c04-57fd200c4d9f"
   },
   "outputs": [],
   "source": [
    "# create a figure object\n",
    "my_fig = plt.figure(figsize=(8,3)) \n",
    "# replot time vs. signal\n",
    "plt.plot(time,signal)"
   ]
  },
  {
   "cell_type": "markdown",
   "metadata": {
    "colab_type": "text",
    "id": "RduVRq8e6Wus"
   },
   "source": [
    "Similarly, we can also explicitly create multiple axis objects using ```plt.subplots(total_plot_in_y, total_plot_in_x)```. For example."
   ]
  },
  {
   "cell_type": "code",
   "execution_count": null,
   "metadata": {
    "colab": {},
    "colab_type": "code",
    "id": "eXPzXrWh6Wut",
    "outputId": "15cf4954-1af6-48aa-f009-8316f9b525f3"
   },
   "outputs": [],
   "source": [
    "# adding multiple axis objects  \n",
    "my_fig, (my_ax1, my_ax2) = plt.subplots(2,1)\n",
    "\n",
    "# plot by calling first axis\n",
    "my_ax1.plot(time, signal, '*g', label='Old signal')\n",
    "my_ax1.set_title('Old signal')\n",
    "my_ax1.set_xlabel('Time (s)')\n",
    "my_ax1.set_ylabel('Signal (kV)')\n",
    "\n",
    "# plot by calling second axis\n",
    "my_ax2.plot(time, 0.1*signal, '--k', linewidth=5,label='New signal')\n",
    "my_ax2.set_title('New signal')\n",
    "my_ax2.set_xlabel('Time (s)')\n",
    "my_ax2.set_ylabel('Signal (kV)')\n",
    "\n",
    "my_fig.tight_layout()"
   ]
  },
  {
   "cell_type": "markdown",
   "metadata": {
    "colab_type": "text",
    "id": "W7qmgAtp6Wux"
   },
   "source": [
    "Notice that we need to plot on the axis (e.g. ```my_ax1.plot()``` instead of ```plt.plot()```) and the formatting syntax is a bit different now (e.g. ```my_ax1.set_title``` instead of ```plt.title()```)."
   ]
  },
  {
   "cell_type": "markdown",
   "metadata": {
    "colab_type": "text",
    "id": "66yPVE1q6Wux"
   },
   "source": [
    "---\n",
    "## 2.4 Histogram"
   ]
  },
  {
   "cell_type": "markdown",
   "metadata": {
    "colab_type": "text",
    "id": "CCxl-uxg6Wuy"
   },
   "source": [
    "First, we generate a 1000 random data with a mean $\\mu$=20 and standard deviation $\\sigma$=10."
   ]
  },
  {
   "cell_type": "code",
   "execution_count": null,
   "metadata": {
    "colab": {},
    "colab_type": "code",
    "id": "cC5HOKKa6Wuz"
   },
   "outputs": [],
   "source": [
    "# Generate random data \n",
    "data = np.random.normal(100,10,1000)"
   ]
  },
  {
   "cell_type": "markdown",
   "metadata": {
    "colab_type": "text",
    "id": "R3Fa7wIf6Wu2"
   },
   "source": [
    "Check that we are really getting the right data by calculating $\\mu$ and $\\sigma$ by using ```np.mean``` and ```np.std```"
   ]
  },
  {
   "cell_type": "code",
   "execution_count": null,
   "metadata": {
    "colab": {},
    "colab_type": "code",
    "id": "fEzzjKfy6Wu2",
    "outputId": "da69cba5-c234-45d1-ba65-6140615e783d"
   },
   "outputs": [],
   "source": [
    "# Fit a normal distribution to the data:\n",
    "mu, std = np.mean(data), np.std(data)\n",
    "mu, std"
   ]
  },
  {
   "cell_type": "markdown",
   "metadata": {
    "colab_type": "text",
    "id": "eWnC12eF6Wu5"
   },
   "source": [
    "Use ```plt.hist``` to plot the histogram of data. Use the optional ``bins`` for number of bins and ```alpha``` to control the transparency of the plot. "
   ]
  },
  {
   "cell_type": "code",
   "execution_count": null,
   "metadata": {
    "colab": {},
    "colab_type": "code",
    "id": "bRpODNP06Wu6",
    "outputId": "9506d579-5fe0-496e-dc2b-6d7733adfbde"
   },
   "outputs": [],
   "source": [
    "# Plot the histogram.\n",
    "plt.hist(data, bins=25, alpha=0.5);"
   ]
  },
  {
   "cell_type": "markdown",
   "metadata": {
    "colab_type": "text",
    "id": "Inegddn56Wu9"
   },
   "source": [
    "---\n",
    "## 2.5 3D plot"
   ]
  },
  {
   "cell_type": "markdown",
   "metadata": {
    "colab_type": "text",
    "id": "Xa2XDtl26Wu9"
   },
   "source": [
    "First we create a 3D data in the  x, y and z directions.\n",
    "1. Create the ranges of values in x and y axes. For example for -5 ot 5 data with 0.25 step in between each point, we use ```x = np.arange(-5, 5, 0.25)```.\n",
    "2. Create X and Y coordinates using ```X, Y = np.meshgrid(x, y)```. This will give us two 2D arrays of ```X``` and ```Y```.\n",
    "3. For a given coordinate in ```X``` and ```Y```, we need to give the value in ```Z``` axis. Let's assume ```Z = np.sin(np.sqrt(X**2 + Y**2))``` (just to get a pretty plot)."
   ]
  },
  {
   "cell_type": "code",
   "execution_count": null,
   "metadata": {
    "colab": {},
    "colab_type": "code",
    "id": "BH05bTgi6Wu-"
   },
   "outputs": [],
   "source": [
    "# Make data.\n",
    "x = np.arange(-5, 5, 0.25)\n",
    "y = np.arange(-5, 5, 0.25)\n",
    "X, Y = np.meshgrid(x, y)\n",
    "Z = np.sin( np.sqrt(X**2 + Y**2) )"
   ]
  },
  {
   "cell_type": "markdown",
   "metadata": {
    "colab_type": "text",
    "id": "d53FMG-Z6WvA"
   },
   "source": [
    "To plot ```X```, ```Y``` and ```Z```: \n",
    "1. We need to import Axes3D using ```from mpl_toolkits.mplot3d import Axes3D```. \n",
    "2. We also need to plot in a dedicated axis object specified as a 3D projection.\n",
    "\n",
    "3. Then use ```plot_surface(X, Y, Z, cmap=my_cmap)``` to plot X, Y and Z data. ```cmap``` is the type of colour mapping. \n",
    "\n",
    "4. We can add the color bar using ```fig.colorbar(my_surface)```. Here we need to explicitly point it to a specific plot, hence the reason we have to give our plot in step 3 a name.\n",
    "\n",
    "For example, the corresponding code for each steps are:"
   ]
  },
  {
   "cell_type": "code",
   "execution_count": null,
   "metadata": {
    "colab": {},
    "colab_type": "code",
    "id": "FtL2thCx6WvB",
    "outputId": "2585ba49-736e-4c2b-e63f-6bb081f89774"
   },
   "outputs": [],
   "source": [
    "# step 1\n",
    "from mpl_toolkits.mplot3d import Axes3D\n",
    "\n",
    "# step 2\n",
    "my_fig = plt.figure() # instantiate a figure object\n",
    "my_ax = my_fig.gca(projection='3d') # instantiate 3D axis\n",
    "\n",
    "# step 3\n",
    "my_surface  = my_ax.plot_surface(X, Y, Z, cmap='viridis')\n",
    "\n",
    "# step 4\n",
    "my_fig.colorbar(my_surface)"
   ]
  }
 ],
 "metadata": {
  "kernelspec": {
   "display_name": "Python 3",
   "language": "python",
   "name": "python3"
  },
  "language_info": {
   "codemirror_mode": {
    "name": "ipython",
    "version": 3
   },
   "file_extension": ".py",
   "mimetype": "text/x-python",
   "name": "python",
   "nbconvert_exporter": "python",
   "pygments_lexer": "ipython3",
   "version": "3.7.3"
  }
 },
 "nbformat": 4,
 "nbformat_minor": 4
}
