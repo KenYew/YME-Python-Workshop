{
 "cells": [
  {
   "cell_type": "markdown",
   "metadata": {},
   "source": [
    "# YME: Introduction to Python Workshop\n",
    "![title](images/python-logo.png)\n",
    "\n",
    "### __Python is a dynamic, interpreted (bytecode-compiled) language.__ In Python, there are no type declarations of variables, parameters, functions, or methods in source code. This makes the code short and flexible, and you lose the compile-time type checking of the source code. Python tracks the types of all values at runtime and flags code that does not make sense as it runs.\n",
    "\n",
    "<!-- <img src=\"images/python-advantages-disadvantages.png\" style=\"width: 200px;\"/> -->\n",
    "\n",
    "### <u>Advantages</u>\n",
    "#### __1. Easy to Read, Learn and Write 📖__\n",
    "> Python is a high-level programming language that has English-like syntax. This makes it easier to read and understand the code. Python is really easy to pick up and learn, that is why a lot of people recommend Python to beginners. You need less lines of code to perform the same task as compared to other major languages like C/C++ and Java.\n",
    "\n",
    "#### __2. Improved Productivity 📈__\n",
    "> Python is a very productive language. Due to the simplicity of Python, developers can focus on solving the problem.\n",
    "They don’t need to spend too much time in understanding the syntax or behaviour of the programming language. You write less code and get more things done.\n",
    "\n",
    "#### __3. Interpreted Programming Language 🖥__\n",
    "> Python is an interpreted language which means that Python directly executes the code line by line. In case of any error, it stops further execution and reports back the error which has occurred.\n",
    "\n",
    "#### __4. Extensive Library Support 📚__\n",
    "> The standard library of Python is huge, you can find almost all the functions needed for your task. Python also has support to  There are readily available tools to deal with most complicated problems in today's world, especially for data science and machine learning. (e.g.: NumPy, Pandas, Scikit-Learn)\n",
    "\n",
    "#### __5. Dynamically Typed 💫__\n",
    "> Python doesn’t know the type of variable until we run the code. It automatically assigns the data type during execution. The programmer doesn’t need to worry about declaring variables and their data types.\n",
    "\n",
    "### <u>Disadvantages</u>\n",
    "#### __1. Slow Speed 🐢__\n",
    "> Since Python is an interpreted language and dynamically-typed language, the line by line execution of code often leads to slow execution. The dynamic nature of Python is also responsible for the slow speed of Python because it has to do the extra work while executing code. So, Python is not used for purposes where speed is an important aspect of the project.\n",
    "\n",
    "#### __2. Not Memory Efficient 💿__\n",
    "> To provide simplicity to the developer, Python has to do a little tradeoff. The Python programming language uses a large amount of memory. This can be a disadvantage while building applications when we prefer memory optimization."
   ]
  },
  {
   "cell_type": "code",
   "execution_count": 1,
   "metadata": {},
   "outputs": [
    {
     "data": {
      "text/html": [
       "<style>\n",
       "table {float:left}\n",
       "</style>\n"
      ],
      "text/plain": [
       "<IPython.core.display.HTML object>"
      ]
     },
     "metadata": {},
     "output_type": "display_data"
    }
   ],
   "source": [
    "%%html\n",
    "<style>\n",
    "table {float:left}\n",
    "</style>"
   ]
  },
  {
   "cell_type": "markdown",
   "metadata": {},
   "source": [
    "---\n",
    "# Quick Reference\n",
    "### Google Collaboratory Start-up\n",
    "> go to the link: www.google.com <br>\n",
    "\n",
    "### Jupyter Notebook Start-up\n",
    "> to run Jupyter notebook, type in terminal: <br>\n",
    "    `jupyter notebook` <br>\n",
    "> alternatively, you may want to run Jupyter lab which is an extensive development environment of Jupyter: <br>\n",
    "    `jupyter lab`\n",
    "\n",
    "### Jupyter Notebook Shortcuts\n",
    "*With the cell selected,* <br>\n",
    "`a` : insert a new cell above <br>\n",
    "`b` : insert a new cell below <br>\n",
    "`m` : change the current cell to Markdown <br>\n",
    "`y` : change the current cell to code <br>\n",
    "`Enter` : go back to edit mode <br>\n",
    "`Shift + Enter` : execute the cell and then move to the next cell <br>\n",
    "`?` : help <br>\n",
    "\n",
    "### Python Programming Quick Reference\n",
    "`Shift + /` : keyboard shortcut to comment highlighted code <br>\n",
    "`#` : comment a single line of code <br>\n",
    "`\"\"\" \"\"\"` : comment multiple lines of code <br>\n",
    "`print(variable)` : prints the variable into output console <br>\n",
    "`type(variable)` : determines the data type of the variable <br>\n",
    "`len(variable)` : determines the length of the variable <br>\n",
    "`function()` : calls the function <br>\n",
    "`variable.method()` : calls and applies the method onto variable <br>\n",
    "\n"
   ]
  },
  {
   "cell_type": "markdown",
   "metadata": {},
   "source": [
    "---\n",
    "# Table of Contents\n",
    "\n",
    "In this workshop, we will briefly cover the key elements that make Python stands out among the other programming languages and also cover the basis of its core data structures.\n",
    "\n",
    "1. **Data Types and Variables**\n",
    "2. **Expressions and Operators**\n",
    "3. **Statements and Loops** \n",
    "    - if, elif, else\n",
    "    - for\n",
    "    - while\n",
    "\n",
    "<!-- #### <li> [Introduction to Python](#intro)</li>\n",
    "#### <li> [Variables and Data Types](#data)</li>\n",
    "#### <li> [Lists](#lists)</li>\n",
    "#### <li> [Conditional Statements](#conditional)</li>\n",
    "#### <li> [For Loops](#for)</li>\n",
    "#### <li> [Dictionaries](#dict)</li>\n",
    "#### <li> [While Loops](#while)</li>\n",
    "#### <li> [Functions](#function)</li>\n",
    "#### <li> [Exercises](#exercise)</li>\n",
    "#### <li> [Classes](#classes)</li> -->"
   ]
  },
  {
   "cell_type": "markdown",
   "metadata": {
    "colab_type": "text",
    "id": "K5SPq-zSys_j"
   },
   "source": [
    "---\n",
    "# <a class=\"anchor\" name=\"var\"></a> Chapter 1: Variables and Data Types"
   ]
  },
  {
   "cell_type": "markdown",
   "metadata": {
    "colab_type": "text",
    "id": "R0uzJ02Mys_o"
   },
   "source": [
    "#### Variables are \"black boxes\" used to store values. When a variable is created, Python reserves some space in memory to store the values. The Python interpreter automatically allocate memory and decides what can be stored in the reserved memory. Hence, Python can dynamically and automatically assign values of any data type to variables without needing to explicitly declare their data types (like in Java). The most common data types are:\n",
    "> - **Strings** - A \"string\" of characters\n",
    "> - **Integers** - Whole numbers\n",
    "> - **Floating-point values** - Decimal numbers\n",
    "> - **Boolean** - Binary logic (True / False)\n",
    "\n",
    "`PYTHON CODE`\n",
    "```python\n",
    "my_string = 'Hello World!'\n",
    "my_integer = 100\n",
    "my_float = 10.5\n",
    "my_boolean = True \n",
    "print(my_string, my_integer, my_float, my_boolean)\n",
    "```\n",
    "\n",
    "`OUTPUT`\n",
    "```\n",
    "Hello World! 100 10.5 True\n",
    "```"
   ]
  },
  {
   "cell_type": "markdown",
   "metadata": {},
   "source": [
    "---\n",
    "## 1.1 Commenting\n",
    "`Comment Syntax in Python`\n",
    "```python\n",
    " # SINGLE HASHTAG for single-line comments \n",
    " \"\"\" \n",
    " TRIPLE QUOTATION MARKS for multi-line comments\n",
    " \"\"\"\n",
    "```\n",
    "`EXAMPLE`\n",
    "```python\n",
    "a = 5 # setting variable a to value 5\n",
    "\"\"\"\n",
    "This piece of code assigns the variable a to value 5\n",
    "Commenting is a good programming practice to help developers understand your code!\n",
    "\"\"\"\n",
    "```"
   ]
  },
  {
   "cell_type": "markdown",
   "metadata": {},
   "source": [
    "---\n",
    "## 1.2 Variable Declaring\n",
    "##### __In this example, we will declare 4 different variables of different data types! We can use the type() function to verify each variable's data type!__"
   ]
  },
  {
   "cell_type": "code",
   "execution_count": 2,
   "metadata": {
    "colab": {},
    "colab_type": "code",
    "id": "69iBV3nPys_3"
   },
   "outputs": [
    {
     "data": {
      "text/plain": [
       "int"
      ]
     },
     "execution_count": 2,
     "metadata": {},
     "output_type": "execute_result"
    }
   ],
   "source": [
    "a = 5  # the variable a is assigned the value 5\n",
    "type(a)  # the type() function displays the variable type of the argument in the brackets"
   ]
  },
  {
   "cell_type": "code",
   "execution_count": 3,
   "metadata": {
    "colab": {},
    "colab_type": "code",
    "id": "n9V5K04UytAJ"
   },
   "outputs": [
    {
     "data": {
      "text/plain": [
       "float"
      ]
     },
     "execution_count": 3,
     "metadata": {},
     "output_type": "execute_result"
    }
   ],
   "source": [
    "# python automatically guesses the variable type of your input, can you google what this variable type stands for?\n",
    "b = 0.299\n",
    "type(b)"
   ]
  },
  {
   "cell_type": "code",
   "execution_count": 4,
   "metadata": {},
   "outputs": [
    {
     "data": {
      "text/plain": [
       "str"
      ]
     },
     "execution_count": 4,
     "metadata": {},
     "output_type": "execute_result"
    }
   ],
   "source": [
    "c = 'Hello World!'\n",
    "type(c)"
   ]
  },
  {
   "cell_type": "code",
   "execution_count": 5,
   "metadata": {},
   "outputs": [
    {
     "data": {
      "text/plain": [
       "bool"
      ]
     },
     "execution_count": 5,
     "metadata": {},
     "output_type": "execute_result"
    }
   ],
   "source": [
    "d = False\n",
    "type(d)"
   ]
  },
  {
   "cell_type": "markdown",
   "metadata": {},
   "source": [
    "---\n",
    "## 1.3 Strings"
   ]
  },
  {
   "cell_type": "code",
   "execution_count": 6,
   "metadata": {},
   "outputs": [
    {
     "name": "stdout",
     "output_type": "stream",
     "text": [
      "I can declare strings using single quotes!\n",
      "I can declare strings using double quotes!\n",
      "I can write special characters like '' inside double quotes!\n"
     ]
    }
   ],
   "source": [
    "single_quotes = 'I can declare strings using single quotes!'\n",
    "double_quotes = \"I can declare strings using double quotes!\"\n",
    "wrap_single_quotes = \"I can write special characters like '' inside double quotes!\"\n",
    "\n",
    "print(single_quotes)\n",
    "print(double_quotes)\n",
    "print(wrap_single_quotes)"
   ]
  },
  {
   "cell_type": "markdown",
   "metadata": {
    "colab_type": "text",
    "id": "ERLdW1OwytAQ"
   },
   "source": [
    "---\n",
    "## 1.4 Printing\n",
    "In order to print out the value of a variable or a calculation, you can use the function print()\n",
    "##### __Simple Printing__"
   ]
  },
  {
   "cell_type": "code",
   "execution_count": 7,
   "metadata": {
    "colab": {},
    "colab_type": "code",
    "id": "nEzFvIjgytAS"
   },
   "outputs": [
    {
     "name": "stdout",
     "output_type": "stream",
     "text": [
      "5\n",
      "0.299\n",
      "5 0.299\n",
      "My numbers are 5 and 0.299\n"
     ]
    }
   ],
   "source": [
    "print(a) # don't forget the brackets ()!\n",
    "print(b)\n",
    "print(a, b) # the ',' separator provides a space between variables when printing\n",
    "print('My numbers are', a, 'and', b) # You can combine more strings and variables with ','"
   ]
  },
  {
   "cell_type": "markdown",
   "metadata": {},
   "source": [
    "##### __Format Printing__"
   ]
  },
  {
   "cell_type": "code",
   "execution_count": 8,
   "metadata": {},
   "outputs": [
    {
     "name": "stdout",
     "output_type": "stream",
     "text": [
      "My name is Ken and my favourite number is 27\n",
      "My name is Ken and my favourite number is 27\n"
     ]
    }
   ],
   "source": [
    "# Declare variables of different data types\n",
    "my_name = 'Ken'\n",
    "my_number = 27\n",
    "\n",
    "# Format printing\n",
    "print('My name is {} and my favourite number is {}'.format(my_name, my_number))\n",
    "\n",
    "# f-string printing (Python 3.6 and above only)\n",
    "print(f'My name is {my_name} and my favourite number is {my_number}')"
   ]
  },
  {
   "cell_type": "markdown",
   "metadata": {},
   "source": [
    "##### __Printing new spaces and lines__"
   ]
  },
  {
   "cell_type": "code",
   "execution_count": 9,
   "metadata": {},
   "outputs": [
    {
     "name": "stdout",
     "output_type": "stream",
     "text": [
      "This is a string \t with a space and \n",
      " a new line.\n"
     ]
    }
   ],
   "source": [
    "# Using \\t and \\n to create a new space and line respectively\n",
    "print('This is a string \\t with a space and \\n a new line.')"
   ]
  },
  {
   "cell_type": "code",
   "execution_count": 10,
   "metadata": {},
   "outputs": [
    {
     "name": "stdout",
     "output_type": "stream",
     "text": [
      "My name is Ken\n",
      " and my favourite number is, wait for it... \t 27!\n"
     ]
    }
   ],
   "source": [
    "# Combining everything we've learned\n",
    "print(f'My name is {my_name}\\n and my favourite number is, wait for it... \\t {my_number}!')"
   ]
  },
  {
   "cell_type": "markdown",
   "metadata": {
    "colab_type": "text",
    "id": "I7EGrWPkytAW"
   },
   "source": [
    "---\n",
    "## 1.5 Mathematical Operations"
   ]
  },
  {
   "cell_type": "markdown",
   "metadata": {},
   "source": [
    "##### __Python Syntax for Mathematical Operations__\n",
    "| Operation | Description |       \n",
    "| :--: |:------------- |\n",
    "|`x + y`| sum of x and y | \n",
    "| `x - y` | difference of x and y |\n",
    "|`x * y`| product of x and y | \n",
    "| `x / y` | quotient of x and y |\n",
    "|`x // y`| floored quotient of x and y | \n",
    "| `x % y` | remainder of x / y (modulo) |\n",
    "|`x ** y`| x to the power of y | "
   ]
  },
  {
   "cell_type": "code",
   "execution_count": 11,
   "metadata": {
    "colab": {},
    "colab_type": "code",
    "id": "71xmcVtLytAY"
   },
   "outputs": [
    {
     "name": "stdout",
     "output_type": "stream",
     "text": [
      "12\n",
      "8\n",
      "20\n",
      "5.0\n",
      "3\n",
      "0\n",
      "100\n"
     ]
    }
   ],
   "source": [
    "# Assign variable x to the value 10\n",
    "x = 10\n",
    "\n",
    "# Perform the following mathematical operations and print the results\n",
    "print(x + 2)\n",
    "print(x - 2)\n",
    "print(x * 2)\n",
    "print(x / 2)\n",
    "print(x // 3)\n",
    "print(x % 2)\n",
    "print(x ** 2)"
   ]
  },
  {
   "cell_type": "markdown",
   "metadata": {},
   "source": [
    "---\n",
    "## 1.6 Multi-variable Operations\n",
    "##### It is possible to add multiple variables of different data types in Python. The resulting type is chosen automomatically. This is called broadcasting"
   ]
  },
  {
   "cell_type": "code",
   "execution_count": 12,
   "metadata": {},
   "outputs": [
    {
     "name": "stdout",
     "output_type": "stream",
     "text": [
      "8.5\n",
      "5.5\n"
     ]
    }
   ],
   "source": [
    "type1 = 'str'   # string\n",
    "type2 = 4       # int\n",
    "type3 = 4.5     # float\n",
    "type4 = True    # bool (logic value True / False)\n",
    "\n",
    "print(type2 + type3)\n",
    "print(type3 + type4)\n",
    "# print(type1 + type2)"
   ]
  },
  {
   "cell_type": "markdown",
   "metadata": {},
   "source": [
    "**Some types cannot be added together as you can see above! Error messages are a useful feature that allow you to find bugs in your code. Also notice that when adding a float and an int, the result is chosen to be a float. This is called upcasting.**"
   ]
  },
  {
   "cell_type": "markdown",
   "metadata": {
    "colab_type": "text",
    "id": "r_8UBDGdytAv"
   },
   "source": [
    "---\n",
    "## 1.7 Strings Revisited\n",
    "##### __There is an arithmetic associated to the string data type, see how a string behaves under the following operands:__"
   ]
  },
  {
   "cell_type": "code",
   "execution_count": 13,
   "metadata": {
    "colab": {},
    "colab_type": "code",
    "id": "e3MAURfOytA2"
   },
   "outputs": [
    {
     "name": "stdout",
     "output_type": "stream",
     "text": [
      "Hello World!\n",
      "Hello Hello World!\n"
     ]
    }
   ],
   "source": [
    "hello = \"Hello\"\n",
    "space = \" \"\n",
    "world = \"World!\"\n",
    "print(hello + space + world)\n",
    "print((hello + space)*2 + world)"
   ]
  },
  {
   "cell_type": "markdown",
   "metadata": {
    "colab_type": "text",
    "id": "M-QB2q5IytA6"
   },
   "source": [
    "##### _Notice that the sign \"+\" concatenates strings, but adds numbers when applied to `int`s or `float`s. An operator with different operations for different types is called an \"overloaded operator\"._"
   ]
  },
  {
   "cell_type": "markdown",
   "metadata": {},
   "source": [
    "---\n",
    "## 1.8 Data Type Conversion\n",
    "##### __It is possible to manually change the data type of a variable, for example strings to integers or floating-point numbers.__"
   ]
  },
  {
   "cell_type": "code",
   "execution_count": 14,
   "metadata": {
    "colab": {},
    "colab_type": "code",
    "id": "gseYgE4uytA7"
   },
   "outputs": [
    {
     "name": "stdout",
     "output_type": "stream",
     "text": [
      "123\n",
      "123.0\n"
     ]
    }
   ],
   "source": [
    "# Declare the string s\n",
    "s = \"123\"\n",
    "\n",
    "# Convert String to Integer\n",
    "si = int(s) # string s converted to an integer\n",
    "print(si)\n",
    "\n",
    "# Convert String to Float\n",
    "sf = float(s) # string s converted to a floating point number\n",
    "print(sf)"
   ]
  },
  {
   "cell_type": "markdown",
   "metadata": {
    "colab_type": "text",
    "id": "c25_KoGNytA-"
   },
   "source": [
    "##### __... or vice-versa:__"
   ]
  },
  {
   "cell_type": "code",
   "execution_count": 15,
   "metadata": {
    "colab": {},
    "colab_type": "code",
    "id": "NSwvC4X2ytA_"
   },
   "outputs": [
    {
     "name": "stdout",
     "output_type": "stream",
     "text": [
      "this is a string: 123 <class 'str'>\n"
     ]
    }
   ],
   "source": [
    "# Declare the integer d\n",
    "d = 123\n",
    "\n",
    "# Convert Integer to String\n",
    "ds = str(d)\n",
    "print('this is a string:', ds, type(ds))"
   ]
  },
  {
   "cell_type": "markdown",
   "metadata": {
    "colab_type": "text",
    "id": "P5ffVwZ4ytBH"
   },
   "source": [
    "##### __Finally, strings can be split into lists!__"
   ]
  },
  {
   "cell_type": "code",
   "execution_count": 16,
   "metadata": {
    "colab": {},
    "colab_type": "code",
    "id": "qdbkPdTIytBJ"
   },
   "outputs": [
    {
     "name": "stdout",
     "output_type": "stream",
     "text": [
      "3\n"
     ]
    },
    {
     "data": {
      "text/plain": [
       "['1', '2', '3']"
      ]
     },
     "execution_count": 16,
     "metadata": {},
     "output_type": "execute_result"
    }
   ],
   "source": [
    "s = \"123\"\n",
    "print(len(s))   # How long is this string?\n",
    "list(s)"
   ]
  },
  {
   "cell_type": "markdown",
   "metadata": {},
   "source": [
    "___\n",
    "## Your Turn!"
   ]
  },
  {
   "cell_type": "markdown",
   "metadata": {
    "colab_type": "text",
    "id": "x09KPyb1ytAd"
   },
   "source": [
    "#### Task 1: Write a code to print the sum of the variables `a` and `b`"
   ]
  },
  {
   "cell_type": "code",
   "execution_count": 17,
   "metadata": {
    "colab": {},
    "colab_type": "code",
    "id": "7Y48TaCTytAe"
   },
   "outputs": [],
   "source": [
    "# CODE HERE"
   ]
  },
  {
   "cell_type": "markdown",
   "metadata": {
    "colab_type": "text",
    "id": "Z93CuafdytAh"
   },
   "source": [
    "#### Task 2: Python can also work as a very powerful calculator, what is 99 to the power of 99? (use Python mathematical operations)"
   ]
  },
  {
   "cell_type": "code",
   "execution_count": 18,
   "metadata": {
    "colab": {},
    "colab_type": "code",
    "id": "gXyUWiEiytAi"
   },
   "outputs": [],
   "source": [
    "# CODE HERE"
   ]
  },
  {
   "cell_type": "markdown",
   "metadata": {
    "colab_type": "text",
    "id": "V2SNEu4KytAl"
   },
   "source": [
    "#### Task 3: Create a new variable and print out its type"
   ]
  },
  {
   "cell_type": "code",
   "execution_count": 19,
   "metadata": {
    "colab": {},
    "colab_type": "code",
    "id": "9lBq_8nfytAn"
   },
   "outputs": [],
   "source": [
    "# CODE HERE"
   ]
  },
  {
   "cell_type": "markdown",
   "metadata": {
    "colab_type": "text",
    "id": "vmgTV-wfytBE"
   },
   "source": [
    "#### Task 4: Create a new string variable \"2019\", convert it to an integer, and add the result to the float number number = 5.7"
   ]
  },
  {
   "cell_type": "code",
   "execution_count": 20,
   "metadata": {
    "colab": {},
    "colab_type": "code",
    "id": "OXg5uV0SytBF"
   },
   "outputs": [],
   "source": [
    "# CODE HERE"
   ]
  },
  {
   "cell_type": "markdown",
   "metadata": {
    "colab_type": "text",
    "id": "702b-7R9ytBM"
   },
   "source": [
    "---\n",
    "# <a class=\"anchor\" name=\"lists\"></a>Chapter 2: Lists\n",
    "#### List is a collection consisting of mutable sequences of elements (e.g.: once created, the separate elements can be changed). Lists are ordered, changeable and allow duplicate members.\n",
    "<div>\n",
    "<img src=\"images/list_example.png\" width=\"600px\" align = \"left\"/>\n",
    "</div>\n",
    "\n",
    "`PYTHON CODE`\n",
    "```python\n",
    "colors = ['red', 'blue', 'green']\n",
    "print colors[0]    ## red\n",
    "print colors[2]    ## green\n",
    "print len(colors)  ## 3\n",
    "```"
   ]
  },
  {
   "cell_type": "markdown",
   "metadata": {},
   "source": [
    "---\n",
    "## 2.1 List Manipulation\n",
    "#### __Creating a list__\n",
    "`PYTHON CODE`\n",
    "```python\n",
    "# Use square brackets to create your list\n",
    "a = [element1, element2, element3]\n",
    "```"
   ]
  },
  {
   "cell_type": "code",
   "execution_count": 21,
   "metadata": {},
   "outputs": [
    {
     "name": "stdout",
     "output_type": "stream",
     "text": [
      "['red', 'blue', 'green']\n"
     ]
    }
   ],
   "source": [
    "my_list = ['red', 'blue', 'green']\n",
    "print(my_list)"
   ]
  },
  {
   "cell_type": "markdown",
   "metadata": {
    "colab_type": "text",
    "id": "IdRf-zTOytBp"
   },
   "source": [
    "The elements in a list do not need to be all of the same type."
   ]
  },
  {
   "cell_type": "code",
   "execution_count": 22,
   "metadata": {
    "colab": {},
    "colab_type": "code",
    "id": "VB5FOZsPytBp"
   },
   "outputs": [
    {
     "name": "stdout",
     "output_type": "stream",
     "text": [
      "['Data Science', 485, True, 0.001]\n"
     ]
    }
   ],
   "source": [
    "good_list = ['Data Science', 485, True, 0.001]\n",
    "print(good_list)"
   ]
  },
  {
   "cell_type": "markdown",
   "metadata": {},
   "source": [
    "---\n",
    "#### __Adding a new element to the list__\n",
    "`PYTHON CODE`\n",
    "```python\n",
    "# Use the append method to add a new element at the end of the list\n",
    "my_list.append(element)\n",
    "```"
   ]
  },
  {
   "cell_type": "code",
   "execution_count": 23,
   "metadata": {},
   "outputs": [
    {
     "name": "stdout",
     "output_type": "stream",
     "text": [
      "['red', 'blue', 'green', 'orange']\n"
     ]
    }
   ],
   "source": [
    "my_list.append('orange')\n",
    "print(my_list)"
   ]
  },
  {
   "cell_type": "markdown",
   "metadata": {},
   "source": [
    "`PYTHON CODE`\n",
    "```python\n",
    "# You can also use the insert method to add your element at a specific index\n",
    "my_list.insert(index, element)\n",
    "```"
   ]
  },
  {
   "cell_type": "code",
   "execution_count": 24,
   "metadata": {},
   "outputs": [
    {
     "name": "stdout",
     "output_type": "stream",
     "text": [
      "['red', 'blue', 'purple', 'green', 'orange']\n"
     ]
    }
   ],
   "source": [
    "my_list.insert(2, 'purple')\n",
    "print(my_list)"
   ]
  },
  {
   "cell_type": "markdown",
   "metadata": {},
   "source": [
    "---\n",
    "#### __Removing an element from the list__\n",
    "`PYTHON CODE`\n",
    "```python\n",
    "# Use the remove method to remove the specified element\n",
    "my_list.remove(element) \n",
    "# Or use the pop method to remove an element from the end of the list\n",
    "my_list.pop()\n",
    "```"
   ]
  },
  {
   "cell_type": "code",
   "execution_count": 25,
   "metadata": {},
   "outputs": [
    {
     "name": "stdout",
     "output_type": "stream",
     "text": [
      "['red', 'blue', 'green']\n"
     ]
    }
   ],
   "source": [
    "my_list.remove('orange')\n",
    "my_list.remove('purple')\n",
    "print(my_list)"
   ]
  },
  {
   "cell_type": "markdown",
   "metadata": {},
   "source": [
    "---\n",
    "#### __Lists operations__\n",
    "Lists can be added together! The code below appends list b to list a!"
   ]
  },
  {
   "cell_type": "code",
   "execution_count": 26,
   "metadata": {
    "colab": {},
    "colab_type": "code",
    "id": "Ep_znahsytBM"
   },
   "outputs": [
    {
     "name": "stdout",
     "output_type": "stream",
     "text": [
      "[1, 2, 3, 2, 5]\n"
     ]
    }
   ],
   "source": [
    "a = [1, 2, 3]\n",
    "b = [2, 5]\n",
    "c = a + b        # Lists can be added together, this appends list b to list a!\n",
    "print(c)"
   ]
  },
  {
   "cell_type": "markdown",
   "metadata": {
    "colab_type": "text",
    "id": "gAikpIxhytBQ"
   },
   "source": [
    "Try if lists can be subtracted or multiplied!"
   ]
  },
  {
   "cell_type": "code",
   "execution_count": 27,
   "metadata": {
    "colab": {},
    "colab_type": "code",
    "id": "dBqm9EgMytBR"
   },
   "outputs": [],
   "source": [
    "# CODE HERE\n",
    "a = [1, 2, 3]\n",
    "b = [2, 5]\n",
    "# Hint: c = a ? b\n",
    "# print(c)"
   ]
  },
  {
   "cell_type": "markdown",
   "metadata": {
    "colab_type": "text",
    "id": "WzYdiIUcytBi"
   },
   "source": [
    "---\n",
    "#### __List statistics__\n",
    "Below you can see some handy functions that can be perfomed on a list:"
   ]
  },
  {
   "cell_type": "code",
   "execution_count": 28,
   "metadata": {
    "colab": {},
    "colab_type": "code",
    "id": "qXTGj0IsytBj"
   },
   "outputs": [
    {
     "name": "stdout",
     "output_type": "stream",
     "text": [
      "3\n",
      "6\n"
     ]
    }
   ],
   "source": [
    "lst = [1, 2, 3]\n",
    "print(len(lst)) # Prints the length of the list\n",
    "print(sum(lst)) # Prints the total sum of elements of the list"
   ]
  },
  {
   "cell_type": "markdown",
   "metadata": {
    "colab_type": "text",
    "id": "Fgq54YXlytBl"
   },
   "source": [
    "---\n",
    "#### __Sorting a list__\n",
    "`PYTHON CODE`\n",
    "```python\n",
    "# Use the sort method to sort the list\n",
    "lst.sort()\n",
    "\n",
    "# Use the reverse() method to reverse the list\n",
    "lst.reverse()\n",
    "```\n",
    "> __Note:__ _sort() and reverse() methods are void methods (it does not return any value) but rather applies their effect on the list._"
   ]
  },
  {
   "cell_type": "code",
   "execution_count": 29,
   "metadata": {},
   "outputs": [
    {
     "name": "stdout",
     "output_type": "stream",
     "text": [
      "[1, 3, 5, 8]\n",
      "[8, 5, 3, 1]\n"
     ]
    }
   ],
   "source": [
    "lst = [5, 3, 8, 1]\n",
    "lst.sort()\n",
    "print(lst)\n",
    "lst.reverse()\n",
    "print(lst)"
   ]
  },
  {
   "cell_type": "markdown",
   "metadata": {
    "colab_type": "text",
    "id": "osv5N2hCNUNN"
   },
   "source": [
    "---\n",
    "#### __Create a list of unique elements__\n",
    "The set() function for lists which returns all the unique elements in a list:"
   ]
  },
  {
   "cell_type": "code",
   "execution_count": 30,
   "metadata": {
    "colab": {
     "base_uri": "https://localhost:8080/",
     "height": 50
    },
    "colab_type": "code",
    "executionInfo": {
     "elapsed": 487,
     "status": "ok",
     "timestamp": 1548976865850,
     "user": {
      "displayName": "Edward Lim",
      "photoUrl": "",
      "userId": "05219823243799720278"
     },
     "user_tz": 0
    },
    "id": "klLThBQqNaCt",
    "outputId": "ece73dcc-3a5e-471f-83c6-593ff95318bc"
   },
   "outputs": [
    {
     "name": "stdout",
     "output_type": "stream",
     "text": [
      "{1, 2, 3, 4}\n",
      "{'l', 'e', ' ', '!', 'r', 'o', 'H', 'W', 'd'}\n"
     ]
    }
   ],
   "source": [
    "sample_list = [1, 1, 1, 1, 2, 2, 2, 2, 3, 3, 3, 3, 3, 4, 4, 4, 4, 4]\n",
    "print(set(sample_list)) # set() method outputs only a list of unique elements\n",
    "\n",
    "# Also works for strings as python treats strings as a list of characters!\n",
    "sample_string = \"Hello World!\"\n",
    "print(set(sample_string))\n",
    "\n",
    "# Note that the outputs of set are not sorted and it also included the empty space ' ' as a unique character"
   ]
  },
  {
   "cell_type": "markdown",
   "metadata": {
    "colab_type": "text",
    "id": "i1RZU2O4ytBt"
   },
   "source": [
    "How many elements does the list `[[0,1,2,3,4,5,6]]` have? Use the `len()` function to see if you were right."
   ]
  },
  {
   "cell_type": "code",
   "execution_count": 31,
   "metadata": {
    "colab": {},
    "colab_type": "code",
    "id": "N5g5CLGhytBv"
   },
   "outputs": [],
   "source": [
    "# CODE HERE"
   ]
  },
  {
   "cell_type": "markdown",
   "metadata": {
    "colab_type": "text",
    "id": "mCRtYeahytBx"
   },
   "source": [
    "---\n",
    "#### __Range function__\n",
    "`range()` is a particularly useful iterator that can be converted into a list:"
   ]
  },
  {
   "cell_type": "code",
   "execution_count": 32,
   "metadata": {
    "colab": {},
    "colab_type": "code",
    "id": "ZHLB9hsOytBy"
   },
   "outputs": [
    {
     "name": "stdout",
     "output_type": "stream",
     "text": [
      "range(0, 10)\n"
     ]
    }
   ],
   "source": [
    "r = range(10)\n",
    "print(r)"
   ]
  },
  {
   "cell_type": "markdown",
   "metadata": {
    "colab_type": "text",
    "id": "6Ru7tQ0kytB0"
   },
   "source": [
    "In the future you will see that the result of the `range()` function behaves just like a list would when combined with certain functions or in loops. If you want the result to really be a list, make sure to convert it!"
   ]
  },
  {
   "cell_type": "code",
   "execution_count": 33,
   "metadata": {
    "colab": {},
    "colab_type": "code",
    "id": "KjfgDKfCytB2"
   },
   "outputs": [
    {
     "name": "stdout",
     "output_type": "stream",
     "text": [
      "[0, 1, 2, 3, 4, 5, 6, 7, 8, 9]\n",
      "10 45\n"
     ]
    }
   ],
   "source": [
    "r = list(r)    \n",
    "print(r)\n",
    "print(len(r), sum(r))"
   ]
  },
  {
   "cell_type": "markdown",
   "metadata": {
    "colab_type": "text",
    "id": "xpQtn2_oytB3"
   },
   "source": [
    "The `range()` function can have a specified start, end and step size. The syntax is: range(first element, last element, step size)\n",
    "\n",
    "If step size is not specified, the default value is one."
   ]
  },
  {
   "cell_type": "code",
   "execution_count": 34,
   "metadata": {
    "colab": {},
    "colab_type": "code",
    "id": "UF7VlbhNytB5"
   },
   "outputs": [
    {
     "name": "stdout",
     "output_type": "stream",
     "text": [
      "[1, 3, 5, 7, 9]\n",
      "[1, 2, 3, 4, 5, 6, 7, 8, 9]\n",
      "[10, 9, 8, 7, 6, 5, 4, 3, 2]\n"
     ]
    }
   ],
   "source": [
    "print(list(range(1,10,2)))\n",
    "print(list(range(1,10)))\n",
    "print(list(range(10,1,-1)))"
   ]
  },
  {
   "cell_type": "markdown",
   "metadata": {
    "colab_type": "text",
    "id": "ZpkvJKyAytB9"
   },
   "source": [
    "### Exercise: \n",
    "Create a list of all the multiples of three between 1000 and 2500:"
   ]
  },
  {
   "cell_type": "code",
   "execution_count": 35,
   "metadata": {
    "colab": {},
    "colab_type": "code",
    "id": "wYQsHh7LytB-"
   },
   "outputs": [],
   "source": [
    "# CODE HERE"
   ]
  },
  {
   "cell_type": "markdown",
   "metadata": {},
   "source": [
    "### Quick Recap!\n",
    "<div>\n",
    "<img src=\"images/list_operations.png\" width=\"600px\" align = \"middle\"/>\n",
    "</div>"
   ]
  },
  {
   "cell_type": "markdown",
   "metadata": {
    "colab_type": "text",
    "id": "QEtzHGOfytCA"
   },
   "source": [
    "---\n",
    "## 2.2 Accessing elements in a list\n",
    "- #### Elements in a list can be accessed separately, each element has an associated index starting from 0.\n",
    "- #### Most programming languages including Python use zero-based indexing meaning the first element of the list is associated with index 0 first and so on. \n",
    "<div>\n",
    "<img src=\"images/list_indexing.png\" width=\"1000px\" align = \"middle\"/>\n",
    "</div>\n"
   ]
  },
  {
   "cell_type": "markdown",
   "metadata": {},
   "source": [
    "---\n",
    "#### __Accessing elements in a list__"
   ]
  },
  {
   "cell_type": "code",
   "execution_count": 36,
   "metadata": {
    "colab": {},
    "colab_type": "code",
    "id": "S3wfzy1oytBV"
   },
   "outputs": [
    {
     "name": "stdout",
     "output_type": "stream",
     "text": [
      "1\n",
      "3\n",
      "3\n",
      "[5, 2, 3]\n"
     ]
    }
   ],
   "source": [
    "lst = [1, 2, 3] # Instantiate list containing integers 1, 2 and 3\n",
    "print(lst[0])     # Accessing the first element by index 0, not 1! PYTHON uses zero-based indexing!\n",
    "print(lst[2])     # Accessing the third element of the list\n",
    "print(lst[-1])    # Accessing the last element of the list\n",
    "lst[0] = 5        # Overwriting the first element with value 5\n",
    "print(lst)        # Printing out the modified list"
   ]
  },
  {
   "cell_type": "markdown",
   "metadata": {
    "colab_type": "text",
    "id": "imBwfA-8ytBY"
   },
   "source": [
    "Write a code to access the 10th element of the list `a`:"
   ]
  },
  {
   "cell_type": "code",
   "execution_count": 37,
   "metadata": {
    "colab": {},
    "colab_type": "code",
    "id": "fn-C6fDtytBZ"
   },
   "outputs": [],
   "source": [
    "# CODE HERE"
   ]
  },
  {
   "cell_type": "markdown",
   "metadata": {
    "colab_type": "text",
    "id": "PswJ3ndxytBc"
   },
   "source": [
    "Can you use your python knowledge of lists and strings to find the 10th character in the sentence below?\n",
    "\n",
    "`s = \"This is a string with an exciting 10th character!\"`"
   ]
  },
  {
   "cell_type": "code",
   "execution_count": 38,
   "metadata": {
    "colab": {},
    "colab_type": "code",
    "id": "wXGfbsNZytBe"
   },
   "outputs": [],
   "source": [
    "# CODE HERE"
   ]
  },
  {
   "cell_type": "markdown",
   "metadata": {
    "colab_type": "text",
    "id": "nkOPjlwDytCB"
   },
   "source": [
    "You have already seen how to access a single element in a list:"
   ]
  },
  {
   "cell_type": "code",
   "execution_count": 39,
   "metadata": {
    "colab": {},
    "colab_type": "code",
    "id": "HKmAi3HgytCB"
   },
   "outputs": [
    {
     "name": "stdout",
     "output_type": "stream",
     "text": [
      "3\n",
      "1\n",
      "9\n"
     ]
    }
   ],
   "source": [
    "a = [3, 1, 4, 1, 5, 9, 2, 6, 5, 3, 5, 9]\n",
    "print(a[0])\n",
    "print(a[1])\n",
    "print(a[-1])"
   ]
  },
  {
   "cell_type": "markdown",
   "metadata": {
    "colab_type": "text",
    "id": "X4g7XvT4ytCG"
   },
   "source": [
    "---\n",
    "#### __Accessing multiple elements (sublists) from a list__\n",
    "In python, you can also access \"sublists\" of lists, the syntax is: list[ start : end : step ]"
   ]
  },
  {
   "cell_type": "code",
   "execution_count": 40,
   "metadata": {
    "colab": {},
    "colab_type": "code",
    "id": "BzDu75JbytCG"
   },
   "outputs": [
    {
     "name": "stdout",
     "output_type": "stream",
     "text": [
      "[3, 1]\n",
      "[3, 1]\n",
      "[6, 5, 3, 5, 9]\n",
      "[5, 9]\n",
      "[3, 4, 5, 2, 5, 5]\n"
     ]
    }
   ],
   "source": [
    "#print(a[0],a[1],a[2])\n",
    "print(a[0:2])   # first two elements\n",
    "print(a[:2])    # from the start to element two\n",
    "print(a[7:])    # from element seven to the end\n",
    "print(a[-2:])   \n",
    "print(a[::2])   # every second element from the start to the end"
   ]
  },
  {
   "cell_type": "markdown",
   "metadata": {
    "colab_type": "text",
    "id": "bk5wvWPxytCI"
   },
   "source": [
    "Create a list containing 11 elements, print out the following sublists:\n",
    "    - All elements between the 2nd and 5th element\n",
    "    - Every second element of the list\n",
    "    - Print out the whole list backwards\n",
    "    - Exchange the order of the 4th and 5th element and the 8th and 9th element."
   ]
  },
  {
   "cell_type": "code",
   "execution_count": 41,
   "metadata": {
    "colab": {},
    "colab_type": "code",
    "id": "Tf_6cDBrytCJ"
   },
   "outputs": [],
   "source": [
    "# CODE HERE"
   ]
  },
  {
   "cell_type": "markdown",
   "metadata": {
    "colab_type": "text",
    "id": "3rF0S3N8ytBr"
   },
   "source": [
    "Lists can also contain more lists, exciting! Let's append a list at the end of a list:"
   ]
  },
  {
   "cell_type": "code",
   "execution_count": 42,
   "metadata": {
    "colab": {},
    "colab_type": "code",
    "id": "DSs_j8lCytBs"
   },
   "outputs": [
    {
     "name": "stdout",
     "output_type": "stream",
     "text": [
      "['Data Science', 485, True, 0.001, ['another', 'list']]\n",
      "another\n"
     ]
    }
   ],
   "source": [
    "good_list.append(['another', 'list'])\n",
    "print(good_list)\n",
    "print(good_list[-1][0]) # picks the first element of the last element of good_list"
   ]
  },
  {
   "cell_type": "markdown",
   "metadata": {
    "colab_type": "text",
    "id": "5J3FjoDiytCK"
   },
   "source": [
    "---\n",
    "## 2.3 Boolean Operations"
   ]
  },
  {
   "cell_type": "markdown",
   "metadata": {
    "colab_type": "text",
    "id": "VczvzFbMytCL"
   },
   "source": [
    "In Python it is often necessary to write down conditions which result in a boolean value (either `False` or `True`). It is important to learn how to evaluate such conditions using basic logic. Let's look at some logic operations first:\n",
    "\n",
    "##### __Python Syntax for Boolean Operations__\n",
    "| Operation | Description |       \n",
    "| :--: |:------------- |\n",
    "|`x or y`| if x is false, then y, else x | \n",
    "| `x and y` | if x is false, then x, else y |\n",
    "|`not x`| f x is false, then `True`, else `False` | "
   ]
  },
  {
   "cell_type": "code",
   "execution_count": 43,
   "metadata": {
    "colab": {},
    "colab_type": "code",
    "id": "oHfPNnCiytCM"
   },
   "outputs": [
    {
     "name": "stdout",
     "output_type": "stream",
     "text": [
      "True\n",
      "False\n",
      "True\n",
      "False\n",
      "True\n",
      "False\n",
      "True\n",
      "False\n"
     ]
    }
   ],
   "source": [
    "#or operator\n",
    "print(True or False)\n",
    "print(False or False)\n",
    "print(True or True)\n",
    "\n",
    "#and operator\n",
    "print(False and False)\n",
    "print(True and True)\n",
    "print(True and False)\n",
    "\n",
    "#not operator\n",
    "print(not False)\n",
    "print(not True)"
   ]
  },
  {
   "cell_type": "markdown",
   "metadata": {
    "colab_type": "text",
    "id": "aPqthjLzytCN"
   },
   "source": [
    "#### This can be summarised into this table\n",
    "\n",
    "![alt text](https://upload.wikimedia.org/wikipedia/commons/4/4a/Truth_table_for_AND%2C_OR%2C_and_NOT.png)"
   ]
  },
  {
   "cell_type": "markdown",
   "metadata": {
    "colab_type": "text",
    "id": "wi1Y6_IEytCO"
   },
   "source": [
    "These logical operations can be incorporated in terms of mathematical operations, let's define a few variables:"
   ]
  },
  {
   "cell_type": "code",
   "execution_count": 44,
   "metadata": {
    "colab": {},
    "colab_type": "code",
    "id": "GA3UmCy3ytCP"
   },
   "outputs": [],
   "source": [
    "a = 5 # an integer\n",
    "b = 6 # another integer\n",
    "c = [0,1,2,3,4,5] # a list"
   ]
  },
  {
   "cell_type": "markdown",
   "metadata": {
    "colab_type": "text",
    "id": "LYLE8QNPytCQ"
   },
   "source": [
    "---\n",
    "## 2.4 Comparison Operations\n",
    "Now we can test a few logic operations on these variables, look at the cell below and try to guess the output! Write your guesses down before running the cell!\n",
    "\n",
    "##### __Python Syntax for Comparisons Operations__\n",
    "| Operation | Description |       \n",
    "| :--: |:------------- |\n",
    "|`<`| strictly less than | \n",
    "|`<=`| less than or equal | \n",
    "|`>`| strictly greater than | \n",
    "|`>=`| greater than or equal | \n",
    "|`==`| equal | \n",
    "|`!=`| not equal | "
   ]
  },
  {
   "cell_type": "code",
   "execution_count": 45,
   "metadata": {
    "colab": {},
    "colab_type": "code",
    "id": "l4CWfIjuytCR"
   },
   "outputs": [
    {
     "name": "stdout",
     "output_type": "stream",
     "text": [
      "False\n",
      "False\n",
      "True\n",
      "False\n",
      "True\n",
      "True\n"
     ]
    }
   ],
   "source": [
    "print(a == b) # a equal to b\n",
    "print(a+a == b) # 2a equal to b\n",
    "print(a != b) # a not equal to b\n",
    "print(a > b) # a greater than b\n",
    "print(a < b) # a lesser than b\n",
    "print(a <= b) # a lesser or equal to b"
   ]
  },
  {
   "cell_type": "markdown",
   "metadata": {
    "colab_type": "text",
    "id": "KWWdKfYVytCS"
   },
   "source": [
    "There are a few more intuitive operations that will come handy later on:\n",
    "\n",
    "##### __Python Syntax for More Comparisons Operations__\n",
    "| Operation | Description |       \n",
    "| :--: |:------------- |\n",
    "|`in`| object within | \n",
    "|`not in`| negated object within | \n",
    "|`is`| object identity | \n",
    "|`is not`| negated object identity | \n"
   ]
  },
  {
   "cell_type": "code",
   "execution_count": 46,
   "metadata": {
    "colab": {},
    "colab_type": "code",
    "id": "BBIW3nYpytCT"
   },
   "outputs": [
    {
     "name": "stdout",
     "output_type": "stream",
     "text": [
      "True\n",
      "False\n",
      "False\n",
      "True\n",
      "False\n",
      "5\n",
      "False\n",
      "True\n",
      "True\n"
     ]
    }
   ],
   "source": [
    "print(a in c) #if a is in c?\n",
    "print(b in c) #if b is in c?\n",
    "print(a not in c) #if a is not in c?\n",
    "print(b not in c) #if b is not in c?\n",
    "print(a and b in c) #if both a and b is in c?\n",
    "print(a or b in c) #if either a or b is in c?\n",
    "\n",
    "print(2 is '2') #if integer 2 is string 2?\n",
    "print(\"2\" is '2') #double quote and single quotes are equivalent?\n",
    "print(2 is not '2') #if integer 2 is not string 2?"
   ]
  },
  {
   "cell_type": "markdown",
   "metadata": {
    "colab_type": "text",
    "id": "6q5R49RFytCW"
   },
   "source": [
    "Make sure you understand each of the above results, if you don't, ask one of the demonstrators."
   ]
  },
  {
   "cell_type": "markdown",
   "metadata": {
    "colab_type": "text",
    "id": "tWs3jw4tytCX"
   },
   "source": [
    "---\n",
    "# <a class=\"anchor\" name=\"conditional\"></a> Chapter 3: Conditional Statements\n",
    "Conditional statements are useful when we want to run some parts of the code only if some conditions are fulfilled. \n",
    "If the `[Condition]` in the if statement has the value True, the `[Code]` will be executed, otherwise it will not.\n",
    "\n",
    "\n",
    "`if statement syntax`\n",
    "```python\n",
    "if condition: # If condition is True\n",
    "    code # then run this block of code\n",
    "```\n",
    "\n",
    "`if, elif, else statement syntax`\n",
    "```python\n",
    "if condition 1:   # If condition 1 is True, run code 1\n",
    "    code 1 \n",
    "elif condition 2: # If condition 1 is False but condition 2 is True, run code 2\n",
    "    code 2\n",
    "else:             # If condition 1 and 2 are False, run code 3\n",
    "    code 3\n",
    "```\n",
    "\n",
    "`NOTE: In Python, every conditional statement must follow with a colon ':' and the code block within must be INDENTED!`"
   ]
  },
  {
   "cell_type": "code",
   "execution_count": 47,
   "metadata": {
    "colab": {},
    "colab_type": "code",
    "id": "oIAOLb61ytCY"
   },
   "outputs": [
    {
     "name": "stdout",
     "output_type": "stream",
     "text": [
      "The condition after \"if\" is true!\n"
     ]
    }
   ],
   "source": [
    "# Lets start with a few simple conditional statements\n",
    "if True:\n",
    "    print(\"The condition after \\\"if\\\" is true!\")"
   ]
  },
  {
   "cell_type": "code",
   "execution_count": 48,
   "metadata": {
    "colab": {},
    "colab_type": "code",
    "id": "G5eyzpX_ytCZ"
   },
   "outputs": [],
   "source": [
    "if False:\n",
    "    print(\"The condition after \\\"if\\\" is false :( !\")"
   ]
  },
  {
   "cell_type": "code",
   "execution_count": 49,
   "metadata": {
    "colab": {},
    "colab_type": "code",
    "id": "r9pFl2QCytCg",
    "scrolled": true
   },
   "outputs": [
    {
     "name": "stdout",
     "output_type": "stream",
     "text": [
      "a is not equal to either two, three or four!\n"
     ]
    }
   ],
   "source": [
    "# It is possible to include a number of conditions! If neither is true, then the code in else will run.\n",
    "a = 5\n",
    "if a == 2:\n",
    "    print(\"a is equal to two!\")\n",
    "elif a == 3 or a == 4:\n",
    "    print(\"a is equal to three or four?\")\n",
    "else:\n",
    "    print(\"a is not equal to either two, three or four!\")"
   ]
  },
  {
   "cell_type": "markdown",
   "metadata": {},
   "source": [
    "---\n",
    "## Your Turn!\n",
    "### Task 1: Check Length of String"
   ]
  },
  {
   "cell_type": "markdown",
   "metadata": {
    "colab_type": "text",
    "id": "JXvtFCHSytCm"
   },
   "source": [
    "Write a code that takes a list with n elements on its input, and returns the string `\"Too long\"` if the n > 10, `\"Too short\"` if n < 10, and `\"Ideal\"` if n = 10."
   ]
  },
  {
   "cell_type": "code",
   "execution_count": 50,
   "metadata": {
    "colab": {},
    "colab_type": "code",
    "id": "VNn7ALlnytCn"
   },
   "outputs": [],
   "source": [
    "# Your Code"
   ]
  },
  {
   "cell_type": "markdown",
   "metadata": {
    "colab_type": "text",
    "id": "P59pCAkFytCp"
   },
   "source": [
    "---\n",
    "# <a class=\"anchor\" name=\"for\"></a>Chapter 4: For Loops"
   ]
  },
  {
   "cell_type": "markdown",
   "metadata": {
    "colab_type": "text",
    "id": "OohG3uF2ytCr"
   },
   "source": [
    "Loops are one of the most important structures you will learn today, they allow cerain parts of the code to be executed multiple times. In Python the `for` loop is used extensively. \n",
    "\n",
    "`FOR LOOP SYNTAX`\n",
    "```python\n",
    "list_of_elements = [element1, element2, element3]\n",
    "for variable in list_of_elements:\n",
    "    # Iteration 1: variable = element1 \n",
    "    # Iteration 2: variable = element2\n",
    "    # Iteration 3: variable = element3\n",
    "```\n",
    "\n",
    "`EXAMPLE PYTHON CODE`\n",
    "```python\n",
    "items_list = ['apples', 'oranges', 'bananas']\n",
    "for item in items_list: \n",
    "    print(item)\n",
    "```\n",
    "`OUTPUT`\n",
    "```\n",
    "apples\n",
    "oranges\n",
    "bananas\n",
    "```"
   ]
  },
  {
   "cell_type": "markdown",
   "metadata": {},
   "source": [
    "---\n",
    "## 4.1 Lists in For Loops"
   ]
  },
  {
   "cell_type": "code",
   "execution_count": 51,
   "metadata": {},
   "outputs": [
    {
     "name": "stdout",
     "output_type": "stream",
     "text": [
      "John\n",
      "Amy\n",
      "Kate\n"
     ]
    }
   ],
   "source": [
    "# One by one, each element of the list is assigned to the variable, i, then the code inside the For Loop is executed\n",
    "namelist = ['John', 'Amy', 'Kate']\n",
    "for name in namelist:\n",
    "    print(name)"
   ]
  },
  {
   "cell_type": "code",
   "execution_count": 52,
   "metadata": {
    "colab": {},
    "colab_type": "code",
    "id": "LlooAVMUytCu"
   },
   "outputs": [
    {
     "name": "stdout",
     "output_type": "stream",
     "text": [
      "4\n",
      "1.27\n",
      "my_string\n",
      "True\n"
     ]
    }
   ],
   "source": [
    "# You can use lists containing elements of different datatypes as well!\n",
    "fancy_list = [4, 1.27, 'my_string', True]\n",
    "for item in fancy_list: \n",
    "    print(item)"
   ]
  },
  {
   "cell_type": "code",
   "execution_count": 53,
   "metadata": {
    "colab": {},
    "colab_type": "code",
    "id": "mI4vD_beytCy"
   },
   "outputs": [
    {
     "name": "stdout",
     "output_type": "stream",
     "text": [
      "a\n",
      "b\n",
      "c\n"
     ]
    }
   ],
   "source": [
    "# You can also iterate each character of a string\n",
    "for i in \"abc\":   \n",
    "    print(i)\n",
    "# This is because python treats a string as an array of characters ie. ['a','b','c']"
   ]
  },
  {
   "cell_type": "code",
   "execution_count": 54,
   "metadata": {
    "colab": {},
    "colab_type": "code",
    "id": "9aGP8V3mytC1"
   },
   "outputs": [
    {
     "name": "stdout",
     "output_type": "stream",
     "text": [
      "1 0\n",
      "1 1\n",
      "2 0\n",
      "2 1\n",
      "3 0\n",
      "3 1\n"
     ]
    }
   ],
   "source": [
    "# sometimes it is useful to have two nested for loops, keep in mind the more nested loops the slower the code!\n",
    "for i in [1,2,3]:\n",
    "    for j in range(2):\n",
    "        print(i, j)"
   ]
  },
  {
   "cell_type": "markdown",
   "metadata": {},
   "source": [
    "---\n",
    "## 4.2 Range function\n",
    "```tex \n",
    "The range() function generates the integer numbers between the given start integer to the stop integer, which is generally used to iterate over with for loop. \n",
    "```\n",
    "`PYTHON CODE`\n",
    "```python\n",
    "range(start, stop, step)\n",
    "my_range = range(1, 10, 2)\n",
    "print(list(my_range))\n",
    "```\n",
    "\n",
    "`OUTPUT` \n",
    "`[1, 3, 5, 7, 9]`"
   ]
  },
  {
   "cell_type": "code",
   "execution_count": 55,
   "metadata": {},
   "outputs": [
    {
     "name": "stdout",
     "output_type": "stream",
     "text": [
      "[0, 1, 2, 3, 4]\n"
     ]
    }
   ],
   "source": [
    "# The range() function outputs an object with a list of numbers that follow zero-based indexing!\n",
    "my_range = range(5) # Generates an object with a list of numbers from 0 to 4\n",
    "print(list(my_range)) # You have to convert it into a list to print the list of numbers"
   ]
  },
  {
   "cell_type": "markdown",
   "metadata": {},
   "source": [
    "#### __range() in For Loops__"
   ]
  },
  {
   "cell_type": "code",
   "execution_count": 56,
   "metadata": {},
   "outputs": [
    {
     "name": "stdout",
     "output_type": "stream",
     "text": [
      "List of numbers:\n",
      "1 2 3 4 5 6 7 8 9 10 \n",
      "List of odd numbers:\n",
      "1 3 5 7 9 \n",
      "List of numbers in descending order:\n",
      "10 9 8 7 6 5 4 3 2 1 "
     ]
    }
   ],
   "source": [
    "# In a for loop, generate integers 1 fo 10\n",
    "print('List of numbers:')\n",
    "for i in range(1, 11):\n",
    "    print(i, end = ' ')\n",
    "\n",
    "# In a for loop, generate odd numbers from 1 to 10\n",
    "print('\\nList of odd numbers:')\n",
    "for i in range(1, 11, 2): \n",
    "    print(i, end = ' ')\n",
    "    \n",
    "# In a for loop, generate integers 1 to 10 in descending order\n",
    "print('\\nList of numbers in descending order:')\n",
    "for i in range(10, 0, -1):\n",
    "    print(i, end = ' ')"
   ]
  },
  {
   "cell_type": "markdown",
   "metadata": {},
   "source": [
    "`range() explanation`\n",
    "```tex\n",
    "range() function returns an object that produces a sequence of integers from start (inclusive) to stop (exclusive) by step.  range(i, j) produces i, i+1, i+2, ..., j-1. Start defaults to 0, and stop is omitted! For example, range(4) produces 0, 1, 2, 3. These are exactly the valid indices for a list of 4 elements. When step is given, it specifies the increment (or decrement).\n",
    "```"
   ]
  },
  {
   "cell_type": "markdown",
   "metadata": {},
   "source": [
    "#### __Looping through elements of a list__"
   ]
  },
  {
   "cell_type": "code",
   "execution_count": 57,
   "metadata": {},
   "outputs": [
    {
     "name": "stdout",
     "output_type": "stream",
     "text": [
      "3\n",
      "5\n",
      "7\n",
      "9\n"
     ]
    }
   ],
   "source": [
    "# Not so pythonic way to print all elements of a list\n",
    "lst = [3, 5, 7, 9]\n",
    "for i in range(len(lst)): \n",
    "    print(lst[i])"
   ]
  },
  {
   "cell_type": "code",
   "execution_count": 58,
   "metadata": {},
   "outputs": [
    {
     "name": "stdout",
     "output_type": "stream",
     "text": [
      "Index: 0 Value: 3\n",
      "Index: 1 Value: 5\n",
      "Index: 2 Value: 7\n",
      "Index: 3 Value: 9\n"
     ]
    }
   ],
   "source": [
    "# Pythonic way\n",
    "lst = [3, 5, 7, 9]\n",
    "for index, value in enumerate(lst): \n",
    "    print('Index:', index, 'Value:', value)"
   ]
  },
  {
   "cell_type": "code",
   "execution_count": 59,
   "metadata": {},
   "outputs": [
    {
     "name": "stdout",
     "output_type": "stream",
     "text": [
      "8 + 9 = 17\n"
     ]
    }
   ],
   "source": [
    "lst1 = [2, 4, 6, 8]\n",
    "lst2 = [3, 5, 7, 9]\n",
    "targetvalue = 17\n",
    "\n",
    "for value1 in lst1: \n",
    "    for value2 in lst2: \n",
    "        if value1 + value2 == targetvalue:\n",
    "            print(value1, '+', value2, '=', targetvalue)"
   ]
  },
  {
   "cell_type": "markdown",
   "metadata": {
    "colab_type": "text",
    "id": "U4qqILlSHQa4"
   },
   "source": [
    "---\n",
    "## 4.3 Enumerate function\n",
    "Enumerate is also a handy function that is used in conjunction with for loops. Enumerates indexes all the items in a list, as shown below"
   ]
  },
  {
   "cell_type": "code",
   "execution_count": 60,
   "metadata": {},
   "outputs": [
    {
     "name": "stdout",
     "output_type": "stream",
     "text": [
      "(0, 'cat')\n",
      "(1, 'dog')\n",
      "(2, 'mouse')\n"
     ]
    }
   ],
   "source": [
    "# Prints out all the items in the list with their corresponding index\n",
    "animals = ['cat', 'dog', 'mouse']\n",
    "for item in enumerate(animals):\n",
    "    print(item)"
   ]
  },
  {
   "cell_type": "code",
   "execution_count": 61,
   "metadata": {
    "colab": {},
    "colab_type": "code",
    "id": "vbv4Gx_OHcls"
   },
   "outputs": [
    {
     "name": "stdout",
     "output_type": "stream",
     "text": [
      "0 cat\n",
      "1 dog\n",
      "2 mouse\n"
     ]
    }
   ],
   "source": [
    "# It is also possible to extract the indexes and elements in the lsit individually\n",
    "for index, animal in enumerate(animals):\n",
    "    print(index, animal)"
   ]
  },
  {
   "cell_type": "markdown",
   "metadata": {
    "colab_type": "text",
    "id": "YF2NvwOtIlHx"
   },
   "source": [
    "```tex\n",
    "Note: The enumerate object and reversed object you've seen before are special data structures that allow you to iterate through them ie. using a for loop. You don't need to know too much about these now but keep in mind you can loop through more than just lists!\n",
    "```"
   ]
  },
  {
   "cell_type": "markdown",
   "metadata": {},
   "source": [
    "---\n",
    "## 4.4 Zip function\n",
    "The zip() function can be used to simultaneously go through elements of multiple lists (must be the same length) in a For Loop."
   ]
  },
  {
   "cell_type": "code",
   "execution_count": 62,
   "metadata": {},
   "outputs": [
    {
     "name": "stdout",
     "output_type": "stream",
     "text": [
      "Ken Ian Michael\n",
      "Biology Chemistry Physics\n",
      "99 85 65\n"
     ]
    }
   ],
   "source": [
    "# You can use the zip() function to simultaneously go through multiple lists of the same length in a For Loop\n",
    "list1 = ['Ken', 'Biology', 99]\n",
    "list2 = ['Ian', 'Chemistry', 85]\n",
    "list3 = ['Michael', 'Physics', 65]\n",
    "  \n",
    "# Here zip() function takes two equal length list and merges them together in pairs \n",
    "for a, b, c in zip(list1,list2, list3): \n",
    "    print (a, b, c)"
   ]
  },
  {
   "cell_type": "markdown",
   "metadata": {
    "colab_type": "text",
    "id": "a6AyL9JvytC5"
   },
   "source": [
    "---\n",
    "## 4.5 List Comprehension (Advanced)"
   ]
  },
  {
   "cell_type": "markdown",
   "metadata": {
    "colab_type": "text",
    "id": "r_C5IOUfytC5"
   },
   "source": [
    "```tex\n",
    "A list comprehension is a compact way to write an expression that expands to a whole list. \n",
    "```\n",
    "\n",
    "`If you encounter an expression such as this:`\n",
    "\n",
    "```python\n",
    "for variable in list:\n",
    "    code\n",
    "```\n",
    "        \n",
    "`It can be briefly written in python as:`\n",
    "\n",
    "```python \n",
    "[ code for variable in list ]\n",
    "```\n",
    "\n",
    "`For example:`\n",
    "\n",
    "```python\n",
    "numbers = [1, 2, 3, 4]\n",
    "for number in numbers:\n",
    "    squares = number * number\n",
    "\n",
    "# Same as:\n",
    "squares = [number * number for number in numbers]\n",
    "```"
   ]
  },
  {
   "cell_type": "code",
   "execution_count": 63,
   "metadata": {},
   "outputs": [
    {
     "name": "stdout",
     "output_type": "stream",
     "text": [
      "['HELLO', 'AND', 'GOODBYE']\n"
     ]
    }
   ],
   "source": [
    "conversation = ['hello', 'and', 'goodbye']\n",
    "shouting = [ word.upper() for word in conversation]\n",
    "print(shouting)"
   ]
  },
  {
   "cell_type": "code",
   "execution_count": 64,
   "metadata": {
    "colab": {},
    "colab_type": "code",
    "id": "fuv34SAmytC7"
   },
   "outputs": [
    {
     "name": "stdout",
     "output_type": "stream",
     "text": [
      "[0, 1, 4, 9, 16, 25, 36, 49, 64, 81]\n"
     ]
    }
   ],
   "source": [
    "# Print list of square numbers from 0 to 9\n",
    "squares = [ x**2 for x in range(10) ]\n",
    "print(squares)"
   ]
  },
  {
   "cell_type": "markdown",
   "metadata": {},
   "source": [
    "---\n",
    "`If you encounter an expression such as this:`\n",
    "\n",
    "```python\n",
    "for variable in list:\n",
    "    if condition: \n",
    "        code\n",
    "```\n",
    "        \n",
    "`It can be briefly written in python as:`\n",
    "\n",
    "```python \n",
    "[ code for variable in list if condition ]\n",
    "```"
   ]
  },
  {
   "cell_type": "code",
   "execution_count": 65,
   "metadata": {
    "colab": {},
    "colab_type": "code",
    "id": "XST8D-5RytC-"
   },
   "outputs": [
    {
     "name": "stdout",
     "output_type": "stream",
     "text": [
      "[2, 1]\n"
     ]
    }
   ],
   "source": [
    "## Select values <= 2\n",
    "nums = [2, 8, 1, 6]\n",
    "small = [ n for n in nums if n <= 2 ]\n",
    "print(small)"
   ]
  },
  {
   "cell_type": "code",
   "execution_count": 66,
   "metadata": {},
   "outputs": [
    {
     "name": "stdout",
     "output_type": "stream",
     "text": [
      "['APPLE', 'BANANA']\n"
     ]
    }
   ],
   "source": [
    "## Select fruits containing 'a', change to upper case\n",
    "fruits = ['apple', 'cherry', 'banana', 'lemon']\n",
    "afruits = [ s.upper() for s in fruits if 'a' in s ]\n",
    "print(afruits)"
   ]
  },
  {
   "cell_type": "markdown",
   "metadata": {},
   "source": [
    "---\n",
    "## Your Turn!"
   ]
  },
  {
   "cell_type": "markdown",
   "metadata": {
    "colab_type": "text",
    "id": "iow7wtPqytC3"
   },
   "source": [
    "### Task 1: Fibonacci Sequence\n",
    "Calculate the hundredth element of the Fibonacci sequence. $F_0=0$, $F_1 = 1$, $F_{i+2} = F_{i+1} + F_{i}$."
   ]
  },
  {
   "cell_type": "code",
   "execution_count": 67,
   "metadata": {
    "colab": {},
    "colab_type": "code",
    "id": "rVMEPYaLytC3"
   },
   "outputs": [],
   "source": [
    "# # CODE HERE\n",
    "# F_i = 0\n",
    "# F_i1 = 1\n",
    "# F_i2 = ????\n",
    "# for i in range(0,98):\n",
    "#     F_i2 = ????\n",
    "#     F_i1 = ????\n",
    "#     F_i = ????\n"
   ]
  },
  {
   "cell_type": "markdown",
   "metadata": {
    "colab_type": "text",
    "id": "Ad156CjXytC_"
   },
   "source": [
    "### Task 2: Replacing Numbers with List Comprehension\n",
    "Create a list comprehension that replaces every number <50 with True and >50 with False:"
   ]
  },
  {
   "cell_type": "code",
   "execution_count": 68,
   "metadata": {
    "colab": {},
    "colab_type": "code",
    "id": "ARX5CJNgytC_"
   },
   "outputs": [],
   "source": [
    "# CODE HERE"
   ]
  },
  {
   "cell_type": "markdown",
   "metadata": {
    "colab_type": "text",
    "id": "D7VdZ0i84fHc"
   },
   "source": [
    "---\n",
    "# <a class=\"anchor\" name=\"dict\"></a> Chapter 5: Dictionaries"
   ]
  },
  {
   "cell_type": "markdown",
   "metadata": {
    "colab_type": "text",
    "id": "_fEW6k8N9aFK"
   },
   "source": [
    "- #### Dictionaries are efficient hash table data structures that stores data in __*key : value*__ pairs. \n",
    "- #### In dictionaries, each value is associated with a unique key and allows quick retrieval of the desired value using its corresponding key.\n",
    "- #### This is useful when you want to assign a value to a unique key or identifier. All keys must be unique for a dictionary.  \n",
    "- #### Dictionaries can be created using {} and the __*key : value*__ pair structure are as shown below:-\n",
    "<div>\n",
    "<img src=\"images/dict-diagram.png\" width=\"500px\" align = \"middle\"/>\n",
    "</div>\n",
    "\n",
    "---\n",
    "## 5.1 Creating a dictionary\n",
    "`PYTHON CODE`\n",
    "```python\n",
    "\n",
    "# A dictionary (dict) can be created by starting with an empty dict {} and then storing key : value pairs into the dict like this:\n",
    "# dict[key] = value-for-that-key\n",
    "grades = {}\n",
    "grades['Joel'] = 80\n",
    "grades['Tim'] = 85\n",
    "grades['Kate'] = 90\n",
    "\n",
    "# Or you can do all at once like this:\n",
    "grades = {'Joel': 80, 'Tim': 85, 'Kate': 90}\n",
    "print(grades)\n",
    "```\n",
    "`OUTPUT`\n",
    "`{'Joel': 80, 'Tim': 85, 'Kate': 90}`\n",
    "\n",
    "---\n",
    "## 5.2 Accessing a dictionary\n",
    "`PYTHON CODE`\n",
    "```python\n",
    "# Retrieve the value associated with the key provided\n",
    "joels_grade = grades['Joel']\n",
    "joels_grade = grades.get('Joel')\n",
    "```\n",
    "`OUTPUT: 80` \n",
    "\n",
    "`PYTHON CODE`\n",
    "```python\n",
    "# keys() method retrieves all the keys in the dictionary\n",
    "all_keys = grades.keys()\n",
    "# values() method retrieves all the values in the dictionary\n",
    "all_values = grades.values()\n",
    "# items() method retrieves all key : value pairs in the dictionary\n",
    "all_items = grades.items()\n",
    "\n",
    "print(list(all_keys))\n",
    "print(list(all_values))\n",
    "print(list(all_items))\n",
    "```\n",
    "`OUTPUT:`\n",
    "`\n",
    "['Joel', 'Tim', 'Kate']\n",
    "[80, 85, 90]\n",
    "[('Joel', 80), ('Tim', 85), ('Kate', 90)]\n",
    "`\n",
    "\n",
    "---\n",
    "## 5.3 Adding and removing entries in a dictionary\n",
    "`PYTHON CODE`\n",
    "```python\n",
    "# Adding a new entry is as easy as declaring a new unique key:value pair\n",
    "grades['Bob'] = 95\n",
    "print(grades)\n",
    "```\n",
    "`OUTPUT:`\n",
    "`{'Joel': 80, 'Tim': 85, 'Kate': 90, 'Bob': 95}`\n",
    "\n",
    "`PYTHON CODE`\n",
    "```python\n",
    "# del dict[key] removes the key : value pair \n",
    "del(grades['Bob'])\n",
    "print(grades)\n",
    "```\n",
    "`OUTPUT:`\n",
    "`{'Joel': 80, 'Tim': 85, 'Kate': 90}`\n",
    "\n",
    "---\n",
    "## 5.4 Checking the existence of a key : value pair\n",
    "`PYTHON CODE`\n",
    "```python\n",
    "# You can check for the existence of a key using in:\n",
    "joel_has_grade = \"Joel\" in grades # Output: True\n",
    "amy_has_grade = \"Amy\" in grades # Output: False\n",
    "\n",
    "if 'Tim' in grades: \n",
    "    print(grades['Tim']) # Output: 85\n",
    "```\n",
    "---\n",
    "## Quick Recap!\n",
    "<div>\n",
    "<img src=\"images/dict_operations.png\" width=\"300px\" align = \"middle\"/>\n",
    "</div>\n",
    "\n",
    "---"
   ]
  },
  {
   "cell_type": "markdown",
   "metadata": {},
   "source": [
    "#### __Creating a dictionary__"
   ]
  },
  {
   "cell_type": "code",
   "execution_count": 69,
   "metadata": {},
   "outputs": [
    {
     "name": "stdout",
     "output_type": "stream",
     "text": [
      "['Joel', 'Tim', 'Kate']\n",
      "[80, 85, 90]\n",
      "[('Joel', 80), ('Tim', 85), ('Kate', 90)]\n"
     ]
    }
   ],
   "source": [
    "grades = {'Joel': 80, 'Tim': 85, 'Kate': 90}\n",
    "\n",
    "all_keys = grades.keys()\n",
    "all_values = grades.values()\n",
    "all_items = grades.items()\n",
    "\n",
    "print(list(all_keys))\n",
    "print(list(all_values))\n",
    "print(list(all_items))"
   ]
  },
  {
   "cell_type": "markdown",
   "metadata": {},
   "source": [
    "#### __Adding a new entry to dictionary__"
   ]
  },
  {
   "cell_type": "code",
   "execution_count": 70,
   "metadata": {},
   "outputs": [
    {
     "name": "stdout",
     "output_type": "stream",
     "text": [
      "{'Joel': 80, 'Tim': 85, 'Kate': 90, 'Bob': 95}\n"
     ]
    }
   ],
   "source": [
    "grades['Bob'] = 95\n",
    "print(grades)"
   ]
  },
  {
   "cell_type": "markdown",
   "metadata": {},
   "source": [
    "#### __Checking the existence of key : value pair__"
   ]
  },
  {
   "cell_type": "code",
   "execution_count": 71,
   "metadata": {},
   "outputs": [
    {
     "name": "stdout",
     "output_type": "stream",
     "text": [
      "95\n"
     ]
    }
   ],
   "source": [
    "if 'Bob' in grades: \n",
    "    print(grades['Bob'])\n",
    "else: \n",
    "    print('Bob is no where to be found!')"
   ]
  },
  {
   "cell_type": "markdown",
   "metadata": {
    "colab_type": "text",
    "id": "Iksiq888_Yv6"
   },
   "source": [
    "#### __Iterating dictionaries__\n",
    "You can also iterate through dictionaries using for loops"
   ]
  },
  {
   "cell_type": "code",
   "execution_count": 72,
   "metadata": {
    "colab": {},
    "colab_type": "code",
    "id": "S6xyR2EbGgzH"
   },
   "outputs": [
    {
     "name": "stdout",
     "output_type": "stream",
     "text": [
      "Key is: Joel\n",
      "Key is: Tim\n",
      "Key is: Kate\n",
      "Key is: Bob\n",
      "Value is: 80\n",
      "Value is: 85\n",
      "Value is: 90\n",
      "Value is: 95\n",
      "Key is: Joel Value is: 80\n",
      "Key is: Tim Value is: 85\n",
      "Key is: Kate Value is: 90\n",
      "Key is: Bob Value is: 95\n"
     ]
    }
   ],
   "source": [
    "# Prints out all the keys in a dictionary\n",
    "for key in grades.keys():\n",
    "  print(\"Key is: \" + str(key))\n",
    "  \n",
    "# Prints out all the values in a dictionary\n",
    "for value in grades.values():\n",
    "  print(\"Value is: \" + str(value))\n",
    "\n",
    "# Get the kay and value pairs in a dictionary\n",
    "for key, value in grades.items():\n",
    "  print(\"Key is: \" + str(key), \"Value is: \" + str(value))"
   ]
  },
  {
   "cell_type": "markdown",
   "metadata": {
    "colab_type": "text",
    "id": "ywM1zkXIKkGn"
   },
   "source": [
    "#### __Removing an entry from a dictionary__"
   ]
  },
  {
   "cell_type": "code",
   "execution_count": 73,
   "metadata": {
    "colab": {},
    "colab_type": "code",
    "id": "_KyMGIDnKnjp"
   },
   "outputs": [
    {
     "name": "stdout",
     "output_type": "stream",
     "text": [
      "{'Joel': 80, 'Tim': 85, 'Kate': 90}\n"
     ]
    }
   ],
   "source": [
    "del(grades['Bob']) # deletes item corresponding to key3 from the dictionary\n",
    "print(grades)"
   ]
  },
  {
   "cell_type": "markdown",
   "metadata": {
    "colab_type": "text",
    "id": "SKbg74toNOGR"
   },
   "source": [
    "#### __Some useful functions on dictionaries__"
   ]
  },
  {
   "cell_type": "code",
   "execution_count": 74,
   "metadata": {
    "colab": {},
    "colab_type": "code",
    "id": "ciLNb21aNUcm"
   },
   "outputs": [
    {
     "name": "stdout",
     "output_type": "stream",
     "text": [
      "3\n",
      "key1\n",
      "key2\n"
     ]
    }
   ],
   "source": [
    "print(len(grades))\n",
    "\n",
    "dict3 = {\"key2\" : 1,\n",
    "         \"key1\" : 1}\n",
    "\n",
    "for key in sorted(dict3):\n",
    "  print(key)"
   ]
  },
  {
   "cell_type": "markdown",
   "metadata": {
    "colab_type": "text",
    "id": "kzCY0tOaKZLu"
   },
   "source": [
    "#### __Applications of dictionaries__\n",
    "Why use dictionaries at all? They come in handy for automating certain tasks faster. Let's say you want to count the number of times each character appears in a string. Would you be able to do it without using a dictionary?"
   ]
  },
  {
   "cell_type": "code",
   "execution_count": 75,
   "metadata": {
    "colab": {},
    "colab_type": "code",
    "id": "VSEvFDg3Ku0O"
   },
   "outputs": [
    {
     "name": "stdout",
     "output_type": "stream",
     "text": [
      "Character: t Frequency: 3\n",
      "Character: e Frequency: 1\n",
      "Character: s Frequency: 2\n",
      "Character: r Frequency: 1\n",
      "Character: i Frequency: 1\n",
      "Character: n Frequency: 1\n",
      "Character: g Frequency: 1\n"
     ]
    }
   ],
   "source": [
    "example = \"test string\"\n",
    "char_dict = {} #initialise empty dictionary\n",
    "\n",
    "# Remove empty space in string and iterate through\n",
    "for char in example.replace(\" \",\"\"):\n",
    "    char_dict[char] = char_dict.get(char, 0) + 1\n",
    "\n",
    "for key, value in char_dict.items():\n",
    "    print(\"Character: \" + str(key), \"Frequency: \" + str(value))"
   ]
  },
  {
   "cell_type": "markdown",
   "metadata": {
    "colab_type": "text",
    "id": "-9-6UPo7HtTW"
   },
   "source": [
    "---\n",
    "## Your Turn!\n",
    "### Task 1: Smartphones\n",
    "```text\n",
    "Given a list of smartphones, can you count the number of times each smartphone model appears in the list? \n",
    "Create a dictionary called phones_dict using the smartphone model as the key and the frequency of the smartphone as the value.\n",
    "```\n",
    "\n",
    "`HINTS:`\n",
    "```python\n",
    "# The expected output of the dictionary based on the given list:\n",
    "{'iPhone': 4, 'Samsung': 2, 'Pixel': 2, 'OnePlus': 3}\n",
    "\n",
    "1. In a for loop, iteratively\n",
    "2. use the list.count(item) method to obtain the number of items in the list\n",
    "3. then assign the key : value pair to the dictionary\n",
    "```"
   ]
  },
  {
   "cell_type": "code",
   "execution_count": 76,
   "metadata": {},
   "outputs": [],
   "source": [
    "phones_list = ['iPhone', 'Samsung', 'Pixel', 'OnePlus', 'OnePlus', 'Pixel', 'Samsung', 'iPhone', 'iPhone', 'iPhone', 'OnePlus']\n",
    "phones_dict = {}"
   ]
  },
  {
   "cell_type": "code",
   "execution_count": 77,
   "metadata": {
    "colab": {},
    "colab_type": "code",
    "id": "jYA1ASUfH7ed"
   },
   "outputs": [
    {
     "name": "stdout",
     "output_type": "stream",
     "text": [
      "{'iPhone': 4, 'Samsung': 2, 'Pixel': 2, 'OnePlus': 3}\n"
     ]
    }
   ],
   "source": [
    "# YOUR CODE: \n",
    "for phone in phones_list: \n",
    "    phone_count = phones_list.count(phone)\n",
    "    phones_dict[phone] = phone_count\n",
    "    \n",
    "print(phones_dict)"
   ]
  },
  {
   "cell_type": "markdown",
   "metadata": {},
   "source": [
    "---\n",
    "### Task 2: Dropped Server Data\n",
    "```text\n",
    "You are a network engineer from Amazon who is investigating dropped data packets between servers located in Penang and London. You are given 2 network diagnostic logs (both of which are a list of dropped character packets) called `log1` and `log2` which are acquired from the data sent by Penang server and data received by London server. \n",
    "Given the 2 lists, print a dictionary containing key : value pairs of the 'dropped character' packets and the frequency in which it was dropped. \n",
    "```\n",
    "\n",
    "`HINTS:`\n",
    "```python\n",
    "# The expected output of the dictionary based on the two lists:\n",
    "{'Y': 5, 'M': 4, 'E': 5, ' ': 4}\n",
    "\n",
    "1. Recall list operations\n",
    "```"
   ]
  },
  {
   "cell_type": "code",
   "execution_count": 78,
   "metadata": {},
   "outputs": [],
   "source": [
    "lst1 = ['Y', 'M', 'E', ' ', 'Y', 'M', 'E', ' ', 'Y', 'M', 'E', ' ']\n",
    "lst2 = ['Y', 'M', 'E', ' ', 'Y', 'E']\n",
    "dropped_data_dict = {}"
   ]
  },
  {
   "cell_type": "code",
   "execution_count": 79,
   "metadata": {},
   "outputs": [
    {
     "name": "stdout",
     "output_type": "stream",
     "text": [
      "{'Y': 5, 'M': 4, 'E': 5, ' ': 4}\n"
     ]
    }
   ],
   "source": [
    "# YOUR CODE\n",
    "appended_lst = lst1 + lst2\n",
    "for item in appended_lst: \n",
    "    item_count = appended_lst.count(item)\n",
    "    dropped_data_dict[item] = item_count\n",
    "\n",
    "print(dropped_data_dict)"
   ]
  },
  {
   "cell_type": "markdown",
   "metadata": {},
   "source": [
    "---\n",
    "### Task 3: Student Database\n",
    "```text \n",
    "You are a module coordinator who is in charge of managing a student database containing student scores. The student database is in a form of a dictionary containing all the scores of four students for each assessment type (e.g.: homework, quizzes and tests). \n",
    "Your boss wants you to calculate the average score of each assessment type and update the scores in the database. \n",
    "```\n",
    "`HINTS:`\n",
    "```python\n",
    "# The expected output of the computed database, calculated_dict:\n",
    "{'homework': 88.5, 'quizzes': 74.0, 'tests': 82.5}\n",
    "\n",
    "1. Loop through the items of a dictionary using the .items() method to retrieve keys and values\n",
    "2. Compute the average of the values\n",
    "3. Assign the newly computed values with the associated keys\n",
    "```"
   ]
  },
  {
   "cell_type": "code",
   "execution_count": 80,
   "metadata": {},
   "outputs": [],
   "source": [
    "student_dict = {\n",
    "  \"homework\": [90, 97, 75, 92],\n",
    "  \"quizzes\": [88, 40, 94, 75],\n",
    "  \"tests\": [75, 90, 62, 45]\n",
    "}\n",
    "calculated_dict = {}"
   ]
  },
  {
   "cell_type": "code",
   "execution_count": 81,
   "metadata": {},
   "outputs": [
    {
     "name": "stdout",
     "output_type": "stream",
     "text": [
      "{'homework': 88.5, 'quizzes': 74.25, 'tests': 68.0}\n"
     ]
    }
   ],
   "source": [
    "# YOUR CODE\n",
    "for key, value in student_dict.items(): \n",
    "    total = sum(value)\n",
    "    average = total/len(value)\n",
    "    calculated_dict[key] = average\n",
    "\n",
    "print(calculated_dict)"
   ]
  },
  {
   "cell_type": "markdown",
   "metadata": {
    "colab_type": "text",
    "id": "HdLlGnK8ytDC"
   },
   "source": [
    "---\n",
    "# <a class=\"anchor\" name=\"while\"></a>Chapter 6: While Loops"
   ]
  },
  {
   "cell_type": "markdown",
   "metadata": {
    "colab_type": "text",
    "id": "8kqOY8ivytDD"
   },
   "source": [
    "While loop is a classic loop with a set condition, while the condition is true, the cycle will repeat.\n",
    "\n",
    "`while loop syntax`\n",
    "```python\n",
    "while condition:     # while this condition is True\n",
    "    repeat_this_code # keep running this code over and over again\n",
    "```\n",
    "\n",
    "`while` is used to create a loop that goes on as long as the condition after `while` is `True` OR until `break` has been called. A classic example of an infinite `while` + `break`:\n",
    "\n",
    "```python\n",
    "while condition:     # while this condition is True, \n",
    "    repeat_this_code # keep running this code over and over again\n",
    "    if condition_that_stops_loop: # but if this condition is met\n",
    "        break        # stop the loop\n",
    "```\n",
    "\n",
    "`NOTE: In Python, every conditional statement must follow with a colon ':' and the code block within must be INDENTED!`"
   ]
  },
  {
   "cell_type": "code",
   "execution_count": 82,
   "metadata": {
    "colab": {},
    "colab_type": "code",
    "id": "ENjXbfybytDD"
   },
   "outputs": [
    {
     "name": "stdout",
     "output_type": "stream",
     "text": [
      "0\n",
      "1\n",
      "2\n",
      "3\n",
      "4\n",
      "5\n",
      "6\n",
      "7\n",
      "8\n",
      "9\n"
     ]
    }
   ],
   "source": [
    "i = 0\n",
    "while i < 10:\n",
    "    print(i)\n",
    "    i += 1 # increment i by 1"
   ]
  },
  {
   "cell_type": "markdown",
   "metadata": {
    "colab_type": "text",
    "id": "ifhimblGytDF"
   },
   "source": [
    "If the while condition is always true, the cycle will never stop."
   ]
  },
  {
   "cell_type": "markdown",
   "metadata": {
    "colab_type": "text",
    "id": "__cKeV4rZ0OT"
   },
   "source": [
    "While loops are commonly used with logic operators to extend their uses"
   ]
  },
  {
   "cell_type": "code",
   "execution_count": 83,
   "metadata": {
    "colab": {},
    "colab_type": "code",
    "id": "zHsXuZXRZ3bT"
   },
   "outputs": [
    {
     "name": "stdout",
     "output_type": "stream",
     "text": [
      "9\n",
      "8\n",
      "7\n",
      "6\n",
      "5\n",
      "4\n",
      "3\n",
      "2\n",
      "1\n"
     ]
    }
   ],
   "source": [
    "i = 9\n",
    "while i < 10 and i > 0:\n",
    "    print(i)\n",
    "    i -= 1 # decrement i by 1"
   ]
  },
  {
   "cell_type": "markdown",
   "metadata": {
    "colab_type": "text",
    "id": "bQv4Yt_KytDI"
   },
   "source": [
    "---\n",
    "# <a class=\"anchor\" name=\"function\"></a>Chapter 7: Functions\n",
    "\n",
    "<div>\n",
    "<img src=\"images/functions-diagram.png\" width=\"200px\", align=\"left\"/>\n",
    "</div>\n",
    "\n",
    "```tex\n",
    "Functions are a basic building block of a programming language. In python, functions can return multiple variables at the output. (unlike C/C++ and Fortran). \n",
    "Function, in a way similar to mathematics, is a rule established between 0 or more objects and returning (with a `return`) a corresponding output. In python a function is defined using def:\n",
    "```\n",
    "\n",
    "`Function syntax`\n",
    "```python\n",
    "def function_name (input1, input2,..., inputN):\n",
    "    code\n",
    "    return output\n",
    "```"
   ]
  },
  {
   "cell_type": "code",
   "execution_count": 84,
   "metadata": {
    "colab": {},
    "colab_type": "code",
    "id": "WZHJZIvTytDJ"
   },
   "outputs": [],
   "source": [
    "def subtract(a, b):\n",
    "    return a - b\n",
    "\n",
    "def add(a, b):\n",
    "    return a + b"
   ]
  },
  {
   "cell_type": "code",
   "execution_count": 85,
   "metadata": {
    "colab": {},
    "colab_type": "code",
    "id": "rwFFcH5TytDL"
   },
   "outputs": [
    {
     "name": "stdout",
     "output_type": "stream",
     "text": [
      "-1\n",
      "2.2\n"
     ]
    }
   ],
   "source": [
    "print(subtract(1, 2))\n",
    "print(add(3.2, -1))"
   ]
  },
  {
   "cell_type": "code",
   "execution_count": 86,
   "metadata": {
    "colab": {},
    "colab_type": "code",
    "id": "ct6gpy0rytDO"
   },
   "outputs": [
    {
     "name": "stdout",
     "output_type": "stream",
     "text": [
      "9\n",
      "11\n"
     ]
    }
   ],
   "source": [
    "# functions can have default input values\n",
    "def plus2(a, b=2):\n",
    "    return a + b\n",
    "\n",
    "print(plus2(7))\n",
    "print(plus2(7,4))"
   ]
  },
  {
   "cell_type": "markdown",
   "metadata": {
    "colab_type": "text",
    "id": "rBbfiaadytDP"
   },
   "source": [
    "Analyse the following function, what do you think it does? Use the function on a number of testcases to see if your guess is correct."
   ]
  },
  {
   "cell_type": "code",
   "execution_count": 87,
   "metadata": {
    "colab": {},
    "colab_type": "code",
    "id": "tRCm5Z7VytDQ"
   },
   "outputs": [],
   "source": [
    "def random_func(a):\n",
    "    something = 0\n",
    "    \n",
    "    for character in str(a):\n",
    "        something += int(character)\n",
    "        \n",
    "    return something"
   ]
  },
  {
   "cell_type": "code",
   "execution_count": 88,
   "metadata": {
    "colab": {},
    "colab_type": "code",
    "id": "g3wtUlXgytDR"
   },
   "outputs": [
    {
     "data": {
      "text/plain": [
       "6"
      ]
     },
     "execution_count": 88,
     "metadata": {},
     "output_type": "execute_result"
    }
   ],
   "source": [
    "random_func(123)"
   ]
  },
  {
   "cell_type": "markdown",
   "metadata": {
    "colab_type": "text",
    "id": "M44sMFEGsOt5"
   },
   "source": [
    "---\n",
    "## Recursive Functions"
   ]
  },
  {
   "cell_type": "markdown",
   "metadata": {
    "colab_type": "text",
    "id": "mf0-o9uG1uP5"
   },
   "source": [
    "Recursive functions are a special type of function where the function calls itself. They are useful for simplifying certain structures of code such as for loops, but come at a cost of increased computing overhead. They are also useful when the bounds of a function are not known."
   ]
  },
  {
   "cell_type": "code",
   "execution_count": 89,
   "metadata": {
    "colab": {
     "base_uri": "https://localhost:8080/",
     "height": 50
    },
    "colab_type": "code",
    "executionInfo": {
     "elapsed": 498,
     "status": "ok",
     "timestamp": 1548976998035,
     "user": {
      "displayName": "Edward Lim",
      "photoUrl": "",
      "userId": "05219823243799720278"
     },
     "user_tz": 0
    },
    "id": "zsEHnBHHsSKX",
    "outputId": "77f6e1b5-73e5-4253-9322-186097470448"
   },
   "outputs": [
    {
     "name": "stdout",
     "output_type": "stream",
     "text": [
      "120\n",
      "120\n"
     ]
    }
   ],
   "source": [
    "# Factorial function using for loops\n",
    "def factorial_for_loop(x):\n",
    "    answer = 1\n",
    "    for i in range(1,x+1):\n",
    "        answer *= i\n",
    "    return answer\n",
    "\n",
    "# Factorial function using recursion\n",
    "def factorial_recursion(x):\n",
    "    if x == 0: \n",
    "        return 1\n",
    "    return x*factorial_recursion(x-1)\n",
    "\n",
    "print(factorial_for_loop(5))\n",
    "print(factorial_recursion(5))"
   ]
  },
  {
   "cell_type": "markdown",
   "metadata": {},
   "source": [
    "---\n",
    "## Your Turn!\n",
    "### Task 1: Even Numbers Function"
   ]
  },
  {
   "cell_type": "markdown",
   "metadata": {
    "colab_type": "text",
    "id": "0598FtoNytDT"
   },
   "source": [
    "Combine your knowledge of comprehension lists and functions to write a function that finds all the even numbers between n and m:\n",
    "\n",
    "Write test cases to test your function!"
   ]
  },
  {
   "cell_type": "code",
   "execution_count": 91,
   "metadata": {
    "colab": {},
    "colab_type": "code",
    "id": "YLxx7KIHytDU"
   },
   "outputs": [],
   "source": [
    "# CODE HERE\n",
    "# def name_your_function(array, n, m):"
   ]
  },
  {
   "cell_type": "markdown",
   "metadata": {},
   "source": [
    "---\n",
    "# <a class=\"anchor\" name=\"methods\"></a>Chapter 8: Methods\n",
    "\n",
    "A method is a function that takes a class instance as its first parameter. Methods are members of classes. \n",
    "### Data Types and Type Conversion\n",
    "```python\n",
    "str(), examples = '5', '3.45', 'True' # Variables to strings\n",
    "int(), examples = 5, 3, 1 # Variables to integers\n",
    "float(), examples = 5.0, 1.0 # Variables to floats\n",
    "bool(), examples = True, False, True # Variables to Booleans\n",
    "```\n",
    "\n",
    "### List Methods Quick Reference\n",
    "```python\n",
    "my_list.index(a) # Get the index of an item \n",
    "my_list.count(a) # Count an item\n",
    "my_list.append('!') # Append an item at a time\n",
    "my_list.remove('!') # Remove an item\n",
    "del(my_list[0:1]) # Remove an item\n",
    "my_list.reverse() # Reverse the list\n",
    "my_list.extend('!') # Append an item\n",
    "my_list.pop(-1) # Remove an item\n",
    "my_list.insert(0,'!') # Insert an item\n",
    "my_list.sort() # Sort the list\n",
    "```\n",
    "\n",
    "### String Methods Quick Reference\n",
    "```python\n",
    "my_string.upper() # String to uppercase\n",
    "my_string.lower() # String to lowercase\n",
    "my_string.count('w') # Count String elements\n",
    "my_string.replace('e', 'i') # Replace String elements\n",
    "my_string.strip() # Strip whitespaces\n",
    "```\n",
    "\n",
    "### Ask for Help!\n",
    "```python\n",
    "help(str) # prints out a user-friendly documentation of the subject\n",
    "``` "
   ]
  },
  {
   "cell_type": "code",
   "execution_count": 92,
   "metadata": {},
   "outputs": [],
   "source": [
    "st = 'hello my name is Sam'"
   ]
  },
  {
   "cell_type": "code",
   "execution_count": 93,
   "metadata": {},
   "outputs": [
    {
     "data": {
      "text/plain": [
       "'hello my name is sam'"
      ]
     },
     "execution_count": 93,
     "metadata": {},
     "output_type": "execute_result"
    }
   ],
   "source": [
    "st.lower()"
   ]
  },
  {
   "cell_type": "code",
   "execution_count": 94,
   "metadata": {},
   "outputs": [
    {
     "data": {
      "text/plain": [
       "'HELLO MY NAME IS SAM'"
      ]
     },
     "execution_count": 94,
     "metadata": {},
     "output_type": "execute_result"
    }
   ],
   "source": [
    "st.upper()"
   ]
  },
  {
   "cell_type": "code",
   "execution_count": 95,
   "metadata": {},
   "outputs": [
    {
     "data": {
      "text/plain": [
       "['hello', 'my', 'name', 'is', 'Sam']"
      ]
     },
     "execution_count": 95,
     "metadata": {},
     "output_type": "execute_result"
    }
   ],
   "source": [
    "st.split()"
   ]
  },
  {
   "cell_type": "code",
   "execution_count": 96,
   "metadata": {},
   "outputs": [],
   "source": [
    "tweet = 'Go Sports! #Sports'"
   ]
  },
  {
   "cell_type": "code",
   "execution_count": 97,
   "metadata": {},
   "outputs": [
    {
     "data": {
      "text/plain": [
       "['Go Sports! ', 'Sports']"
      ]
     },
     "execution_count": 97,
     "metadata": {},
     "output_type": "execute_result"
    }
   ],
   "source": [
    "tweet.split('#')"
   ]
  },
  {
   "cell_type": "code",
   "execution_count": 98,
   "metadata": {},
   "outputs": [
    {
     "data": {
      "text/plain": [
       "'Sports'"
      ]
     },
     "execution_count": 98,
     "metadata": {},
     "output_type": "execute_result"
    }
   ],
   "source": [
    "tweet.split('#')[1]"
   ]
  },
  {
   "cell_type": "code",
   "execution_count": 99,
   "metadata": {},
   "outputs": [],
   "source": [
    "d = {'key1':'item1','key2':'item2'}"
   ]
  },
  {
   "cell_type": "code",
   "execution_count": 100,
   "metadata": {},
   "outputs": [
    {
     "data": {
      "text/plain": [
       "dict_keys(['key1', 'key2'])"
      ]
     },
     "execution_count": 100,
     "metadata": {},
     "output_type": "execute_result"
    }
   ],
   "source": [
    "d.keys()"
   ]
  },
  {
   "cell_type": "code",
   "execution_count": 101,
   "metadata": {},
   "outputs": [
    {
     "data": {
      "text/plain": [
       "dict_items([('key1', 'item1'), ('key2', 'item2')])"
      ]
     },
     "execution_count": 101,
     "metadata": {},
     "output_type": "execute_result"
    }
   ],
   "source": [
    "d.items()"
   ]
  },
  {
   "cell_type": "code",
   "execution_count": 102,
   "metadata": {},
   "outputs": [],
   "source": [
    "lst = [1,2,3]"
   ]
  },
  {
   "cell_type": "code",
   "execution_count": 103,
   "metadata": {},
   "outputs": [
    {
     "data": {
      "text/plain": [
       "3"
      ]
     },
     "execution_count": 103,
     "metadata": {},
     "output_type": "execute_result"
    }
   ],
   "source": [
    "lst.pop()"
   ]
  },
  {
   "cell_type": "code",
   "execution_count": 104,
   "metadata": {},
   "outputs": [
    {
     "data": {
      "text/plain": [
       "[1, 2]"
      ]
     },
     "execution_count": 104,
     "metadata": {},
     "output_type": "execute_result"
    }
   ],
   "source": [
    "lst"
   ]
  },
  {
   "cell_type": "code",
   "execution_count": 105,
   "metadata": {},
   "outputs": [
    {
     "data": {
      "text/plain": [
       "False"
      ]
     },
     "execution_count": 105,
     "metadata": {},
     "output_type": "execute_result"
    }
   ],
   "source": [
    "'x' in [1,2,3]"
   ]
  },
  {
   "cell_type": "code",
   "execution_count": 106,
   "metadata": {},
   "outputs": [
    {
     "data": {
      "text/plain": [
       "True"
      ]
     },
     "execution_count": 106,
     "metadata": {},
     "output_type": "execute_result"
    }
   ],
   "source": [
    "'x' in ['x','y','z']"
   ]
  },
  {
   "cell_type": "markdown",
   "metadata": {
    "colab_type": "text",
    "id": "j8nD0w5MNxsw"
   },
   "source": [
    "---\n",
    "# <a class=\"anchor\" name=\"exercise\"></a>Exercises"
   ]
  },
  {
   "cell_type": "markdown",
   "metadata": {
    "colab_type": "text",
    "id": "BaDBNseSytDa"
   },
   "source": [
    "\n",
    "## Exercise 1: Sum\n",
    "Code a function that sums the digits in a number.\n"
   ]
  },
  {
   "cell_type": "code",
   "execution_count": 107,
   "metadata": {
    "colab": {},
    "colab_type": "code",
    "id": "LyREGapIytDc"
   },
   "outputs": [],
   "source": [
    "# CODE HERE"
   ]
  },
  {
   "cell_type": "markdown",
   "metadata": {
    "colab_type": "text",
    "id": "_qmNdcEUytDf"
   },
   "source": [
    "---\n",
    "## Exercise 2: Sum Multiple\n",
    "Find the sum of all integer multiples of 3 or 5 smaller than 10000."
   ]
  },
  {
   "cell_type": "code",
   "execution_count": 108,
   "metadata": {
    "colab": {},
    "colab_type": "code",
    "id": "XvSLpUkxytDg"
   },
   "outputs": [],
   "source": [
    "# CODE HERE"
   ]
  },
  {
   "cell_type": "markdown",
   "metadata": {
    "colab_type": "text",
    "id": "dli48oXZytDX"
   },
   "source": [
    "***\n",
    "## Exercise 3: Palindrome\n",
    "Create a function that determines if a given string is a palindrome.\n",
    "A palindrome is defined as a string that when reversed, is identical to the original string.\n",
    "\n",
    "Example: <br>\n",
    "*anna* is a palindrome <br>\n",
    "*go dog* is a palindrome <br>\n",
    "*PYME* is not a palindrome\n",
    "\n",
    "You may assume the input is all lowercase and does not have punctuation"
   ]
  },
  {
   "cell_type": "code",
   "execution_count": 111,
   "metadata": {
    "colab": {},
    "colab_type": "code",
    "id": "WS-Mo8ALdsJG"
   },
   "outputs": [],
   "source": [
    "# def palindrome(string):\n",
    "  #CODE HERE"
   ]
  },
  {
   "cell_type": "markdown",
   "metadata": {
    "colab_type": "text",
    "id": "SYv2EezlytDh"
   },
   "source": [
    "---\n",
    "## Exercise 4: Primes\n",
    "Code a function that decides whether the input is a prime number or not.\n",
    "\n",
    "Find the sum of the first 100 prime numbers."
   ]
  },
  {
   "cell_type": "code",
   "execution_count": 112,
   "metadata": {
    "colab": {},
    "colab_type": "code",
    "id": "Nld1FQ7wytDh"
   },
   "outputs": [],
   "source": [
    "# CODE HERE"
   ]
  },
  {
   "cell_type": "markdown",
   "metadata": {
    "colab_type": "text",
    "id": "2OS4CJ8eOLSP"
   },
   "source": [
    "## Exercise 5: What's on the menu?\n",
    "Create three lists: food = [schnitzel, salad, soup, noodles, bread, fish], unavailable = [salad, noodles, bread], new = [maggi, roti canai, nasi goreng]\n",
    "    \n",
    " Remove all 'unavailable' food from the list 'food', add all 'new' food to the list 'food'. Make sure each food is in the list only once.\n",
    " \n",
    " **CHALLENGE: Solve this exercise in only one line of code ;)** (apart from creating the lists)"
   ]
  },
  {
   "cell_type": "code",
   "execution_count": 113,
   "metadata": {
    "colab": {},
    "colab_type": "code",
    "id": "O4b7WrncORgP"
   },
   "outputs": [],
   "source": [
    "# CODE HERE\n"
   ]
  },
  {
   "cell_type": "markdown",
   "metadata": {
    "colab_type": "text",
    "id": "OqS03wFMX5dW"
   },
   "source": [
    "---\n",
    "# <a class=\"anchor\" name=\"classes\"></a>Chapter 9: Classes\n"
   ]
  },
  {
   "cell_type": "markdown",
   "metadata": {
    "colab_type": "text",
    "id": "XQwKnTHReFEe"
   },
   "source": [
    "Classes are special data structures that encapsulate other data types and functions.\n",
    "\n",
    "We can define our own classes which serve specialised tasks for our purposes"
   ]
  },
  {
   "cell_type": "code",
   "execution_count": 114,
   "metadata": {
    "colab": {},
    "colab_type": "code",
    "id": "bH5lTa5nX6wx"
   },
   "outputs": [],
   "source": [
    "# Classes are declared using the 'class' keyword\n",
    "class Dog:\n",
    "  \n",
    "  # Our dog class has two data members, one string for the name and one int for the age. These data members are associaated with the class 'Dog'\n",
    "    name = \"Toby\"\n",
    "    age = 5"
   ]
  },
  {
   "cell_type": "markdown",
   "metadata": {
    "colab_type": "text",
    "id": "kFmXsuhJeT2n"
   },
   "source": [
    "Now that we have defined the 'Dog' class, we can create an object (instance) of the class by assigning it to a variable similar to how we assign integers to variables\n",
    "\n",
    "We can now access the data members of this object with the '.' operator"
   ]
  },
  {
   "cell_type": "code",
   "execution_count": 115,
   "metadata": {
    "colab": {},
    "colab_type": "code",
    "id": "5SPDIIpacJS-"
   },
   "outputs": [
    {
     "name": "stdout",
     "output_type": "stream",
     "text": [
      "Toby\n",
      "5\n"
     ]
    }
   ],
   "source": [
    "# Instantiate a dog object and assign it to the my_dog variable\n",
    "my_dog = Dog()\n",
    "\n",
    "# Access my_dog's data members using the . operator\n",
    "print(my_dog.name)\n",
    "print(my_dog.age)"
   ]
  },
  {
   "cell_type": "markdown",
   "metadata": {
    "colab_type": "text",
    "id": "2VP0BU6UeqI4"
   },
   "source": [
    "But not all dogs are named Toby and are 5 years old. What if we want to generalise our class so we can create 'Dog' objects with different names and ages?\n",
    "\n",
    "That what initialisers are used for."
   ]
  },
  {
   "cell_type": "code",
   "execution_count": 116,
   "metadata": {
    "colab": {},
    "colab_type": "code",
    "id": "u1CtM3GDcni6"
   },
   "outputs": [],
   "source": [
    "class Dog:\n",
    "  \n",
    "  # Initialiser for dog class\n",
    "    def __init__(self, name, age):\n",
    "        # The self pointer is used here to assign the name passed to the initialiser to the name data member belonging to the object\n",
    "        self.name = name\n",
    "        self.age = age\n",
    "\n",
    "# NOTE: Don't worry too much about the self pointer. It is not critical for this course, just know that by convention, the self keyword is passed into any member functions of a class"
   ]
  },
  {
   "cell_type": "markdown",
   "metadata": {
    "colab_type": "text",
    "id": "eZWFFlcefLys"
   },
   "source": [
    "Now let's create a new dog object using our initialiser!"
   ]
  },
  {
   "cell_type": "code",
   "execution_count": 117,
   "metadata": {
    "colab": {},
    "colab_type": "code",
    "id": "OAFhMRk3cw_2"
   },
   "outputs": [
    {
     "name": "stdout",
     "output_type": "stream",
     "text": [
      "Spots\n",
      "3\n"
     ]
    }
   ],
   "source": [
    "# Initialise a Dog object using the initialiser to assign our chosen name and age\n",
    "my_dog = Dog(\"Spots\", 3)\n",
    "\n",
    "# Access my_dog's data members using the . operator\n",
    "print(my_dog.name)\n",
    "print(my_dog.age)"
   ]
  },
  {
   "cell_type": "markdown",
   "metadata": {
    "colab_type": "text",
    "id": "l0mV6dRwfS_T"
   },
   "source": [
    "You can also define member functions within a class. Similar to the data members, these functions are tied to the class"
   ]
  },
  {
   "cell_type": "code",
   "execution_count": 118,
   "metadata": {
    "colab": {},
    "colab_type": "code",
    "id": "8nXIp-HpdpKv"
   },
   "outputs": [],
   "source": [
    "class Dog:\n",
    "\n",
    "    def __init__(self, name, age):\n",
    "        self.name = name\n",
    "        self.age = age\n",
    "\n",
    "    # Define a member function. Member functions are tied to classes\n",
    "    def bark(self):\n",
    "        print(\"Woof woof\")"
   ]
  },
  {
   "cell_type": "markdown",
   "metadata": {
    "colab_type": "text",
    "id": "_iVb5iAufdhv"
   },
   "source": [
    "Now, we can call the bark function of my_dog! Remember, this bark() function is tied to the class, meaning you can't just call bark() directly!"
   ]
  },
  {
   "cell_type": "code",
   "execution_count": 119,
   "metadata": {
    "colab": {},
    "colab_type": "code",
    "id": "laQwn2j7dU-l"
   },
   "outputs": [
    {
     "name": "stdout",
     "output_type": "stream",
     "text": [
      "Woof woof\n"
     ]
    }
   ],
   "source": [
    "# Initialise a Dog object using the initialiser to assign our chosen name and age\n",
    "my_dog = Dog(\"Spots\", 3)\n",
    "\n",
    "# Call the bark function associated with my_dog\n",
    "my_dog.bark()"
   ]
  },
  {
   "cell_type": "code",
   "execution_count": 120,
   "metadata": {
    "colab": {},
    "colab_type": "code",
    "id": "OasMEw-ufsHZ"
   },
   "outputs": [
    {
     "ename": "NameError",
     "evalue": "name 'bark' is not defined",
     "output_type": "error",
     "traceback": [
      "\u001b[0;31m---------------------------------------------------------------------------\u001b[0m",
      "\u001b[0;31mNameError\u001b[0m                                 Traceback (most recent call last)",
      "\u001b[0;32m<ipython-input-120-ee0185c2d39c>\u001b[0m in \u001b[0;36m<module>\u001b[0;34m\u001b[0m\n\u001b[0;32m----> 1\u001b[0;31m \u001b[0mbark\u001b[0m\u001b[0;34m(\u001b[0m\u001b[0;34m)\u001b[0m \u001b[0;31m# WILL NOT WORK\u001b[0m\u001b[0;34m\u001b[0m\u001b[0;34m\u001b[0m\u001b[0m\n\u001b[0m",
      "\u001b[0;31mNameError\u001b[0m: name 'bark' is not defined"
     ]
    }
   ],
   "source": [
    "bark() # WILL NOT WORK"
   ]
  },
  {
   "cell_type": "markdown",
   "metadata": {
    "colab_type": "text",
    "id": "xmt6hGjhfwTI"
   },
   "source": [
    "** You do not need to know too much about classes, just keep in mind that when you are using external libraries, you are essentially using classes within the library to accomplish specific tasks (matrix operations, plotting graphs, etc) **"
   ]
  }
 ],
 "metadata": {
  "colab": {
   "collapsed_sections": [
    "K5SPq-zSys_j",
    "r_8UBDGdytAv",
    "702b-7R9ytBM",
    "QEtzHGOfytCA",
    "5J3FjoDiytCK",
    "tWs3jw4tytCX",
    "P59pCAkFytCp",
    "a6AyL9JvytC5",
    "D7VdZ0i84fHc",
    "HdLlGnK8ytDC",
    "bQv4Yt_KytDI",
    "j8nD0w5MNxsw",
    "BaDBNseSytDa",
    "_qmNdcEUytDf",
    "dli48oXZytDX",
    "SYv2EezlytDh",
    "OqS03wFMX5dW"
   ],
   "name": "lec_1.ipynb",
   "provenance": [],
   "version": "0.3.2"
  },
  "kernelspec": {
   "display_name": "Python 3",
   "language": "python",
   "name": "python3"
  },
  "language_info": {
   "codemirror_mode": {
    "name": "ipython",
    "version": 3
   },
   "file_extension": ".py",
   "mimetype": "text/x-python",
   "name": "python",
   "nbconvert_exporter": "python",
   "pygments_lexer": "ipython3",
   "version": "3.7.3"
  }
 },
 "nbformat": 4,
 "nbformat_minor": 4
}
