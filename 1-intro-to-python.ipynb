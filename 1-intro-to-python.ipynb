{
 "cells": [
  {
   "cell_type": "markdown",
   "metadata": {},
   "source": [
    "# YME: Introduction to Python Workshop\n",
    "\n",
    "<div>\n",
    "<img src=\"https://raw.githubusercontent.com/KenYew/YME-Python-Workshop/master/images/python-logo.png\" width=\"400px\" align = \"left\"/>\n",
    "</div>\n",
    "\n",
    "\n",
    "### __Python is an object-oriented, high-level interpreted programming language__ with integrated dynamic semantics primarily for web and app development. Python is relatively simple, so it's easy to learn since it requires a unique syntax that focuses on readability. Additionally, Python supports the use of modules and packages, which means that programs can be designed in a modular style and code can be reused across a variety of projects. \n",
    "\n",
    "\n",
    "<!-- ### <u>Advantages</u> -->\n",
    "## **Advantages**\n",
    "#### 1. Easy to Read, Learn and Write 📖\n",
    "> Python is a high-level programming language that has English-like syntax. This makes it easier to read and understand the code. Python is really easy to pick up and learn, that is why a lot of people recommend Python to beginners. You need less lines of code to perform the same task as compared to other major languages like C/C++ and Java.\n",
    "\n",
    "#### 2. Improved Productivity 📈\n",
    "> Python is a very productive language. Due to the simplicity of Python, developers can focus on solving the problem.\n",
    "They don’t need to spend too much time in understanding the syntax or behaviour of the programming language. You write less code and get more things done.\n",
    "\n",
    "#### 3. Interpreted Programming Language 🖥\n",
    "> Python is an interpreted language which means that Python directly executes the code line by line. In case of any error, it stops further execution and reports back the error which has occurred.\n",
    "\n",
    "#### 4. Extensive Library Support 📚\n",
    "> The standard library of Python is huge, you can find almost all the functions needed for your task. Python also has support to  There are readily available tools to deal with most complicated problems in today's world, especially for data science and machine learning. (e.g.: NumPy, Pandas, Scikit-Learn)\n",
    "\n",
    "#### 5. Dynamically Typed 💫\n",
    "> Python doesn’t know the type of variable until we run the code. It automatically assigns the data type during execution. The programmer doesn’t need to worry about declaring variables and their data types.\n",
    "\n",
    "## **Disadvantages**\n",
    "#### 1. Slow Speed 🐢\n",
    "> Since Python is an interpreted language and dynamically-typed language, the line by line execution of code often leads to slow execution. The dynamic nature of Python is also responsible for the slow speed of Python because it has to do the extra work while executing code. So, Python is not used for purposes where speed is an important aspect of the project.\n",
    "\n",
    "#### 2. Not Memory Efficient 💿\n",
    "> To provide simplicity to the developer, Python has to do a little tradeoff. The Python programming language uses a large amount of memory. This can be a disadvantage while building applications when we prefer memory optimization.\n",
    "\n",
    "---\n",
    "#### Author: Ken Yew Piong\n",
    "\n",
    "<i class=\"fa fa-linkedin-square fa-1x\" aria-hidden=\"true\"></i> Linkedin: [**@Ken Yew Piong**](https://www.linkedin.com/in/ken-yew-piong/)\n",
    "\n",
    "<i class=\"fa fa-github-square fa-1x\" aria-hidden=\"true\"></i> GitHub: [**@KenYew**](https://github.com/KenYew)\n",
    "\n",
    "<i class=\"fa fa-facebook-square fa-1x\" aria-hidden=\"true\"></i> Messenger: [**@kkenyew**](https://m.me/kkenyew)\n",
    "\n",
    "<i class=\"fa fa-envelope-square\" aria-hidden=\"true\"></i> Mail: josephpiong@live.com"
   ]
  },
  {
   "cell_type": "code",
   "execution_count": 1,
   "metadata": {},
   "outputs": [
    {
     "data": {
      "text/html": [
       "<style>\n",
       "table {float:left}\n",
       "</style>\n"
      ],
      "text/plain": [
       "<IPython.core.display.HTML object>"
      ]
     },
     "metadata": {},
     "output_type": "display_data"
    }
   ],
   "source": [
    "%%html\n",
    "<style>\n",
    "table {float:left}\n",
    "</style>"
   ]
  },
  {
   "cell_type": "markdown",
   "metadata": {},
   "source": [
    "---\n",
    "### Jupyter Lab Start-up\n",
    "> to run Jupyter lab, type in Anaconda Prompt (Windows) or Terminal (MacOS): <br>\n",
    "    `jupyter lab` <br>\n",
    "\n",
    "### Jupyter Lab Shortcuts\n",
    "*With the cell selected,* <br>\n",
    "`a` : insert a new cell above <br>\n",
    "`b` : insert a new cell below <br>\n",
    "`m` : change the current cell to Markdown <br>\n",
    "`y` : change the current cell to code <br>\n",
    "`Enter` : go back to edit mode <br>\n",
    "`Shift + Enter` : execute the cell and then move to the next cell <br>\n",
    "`?` : help <br>\n",
    "\n",
    "### Python Programming Quick Reference\n",
    "`Shift + /` : keyboard shortcut to comment highlighted code <br>\n",
    "`#` : comment a single line of code <br>\n",
    "`\"\"\" \"\"\"` : comment multiple lines of code <br>\n",
    "`print(variable)` : prints the variable into output console <br>\n",
    "`type(variable)` : determines the data type of the variable <br>\n",
    "`len(variable)` : determines the length of the variable <br>\n",
    "`function()` : calls the function <br>\n",
    "`variable.method()` : calls and applies the method onto variable <br>\n",
    "\n"
   ]
  },
  {
   "cell_type": "markdown",
   "metadata": {},
   "source": [
    "---\n",
    "# Table of Contents\n",
    "\n",
    "In this workshop, we will briefly cover the key elements that make Python stands out among the other programming languages and also cover the basis of its core data structures.\n",
    "\n",
    "* **Chapter 1:** Variables and Data Types\n",
    "* **Chapter 2:** Lists\n",
    "* **Chapter 3:** Conditional Statements\n",
    "* **Chapter 4:** For Loops\n",
    "* **Chapter 5:** Dictionaries\n",
    "* **Chapter 6:** While Loops\n",
    "* **Chapter 7:** Functions\n",
    "* **Chapter 8:** Methods\n",
    "\n",
    "<!-- #### <li> [Introduction to Python](#intro)</li>\n",
    "#### <li> [Variables and Data Types](#data)</li>\n",
    "#### <li> [Lists](#lists)</li>\n",
    "#### <li> [Conditional Statements](#conditional)</li>\n",
    "#### <li> [For Loops](#for)</li>\n",
    "#### <li> [Dictionaries](#dict)</li>\n",
    "#### <li> [While Loops](#while)</li>\n",
    "#### <li> [Functions](#function)</li>\n",
    "#### <li> [Exercises](#exercise)</li>\n",
    "#### <li> [Classes](#classes)</li> -->"
   ]
  },
  {
   "cell_type": "markdown",
   "metadata": {
    "colab_type": "text",
    "id": "K5SPq-zSys_j"
   },
   "source": [
    "---\n",
    "# <a class=\"anchor\" name=\"var\"></a> Chapter 1: Variables and Data Types"
   ]
  },
  {
   "cell_type": "markdown",
   "metadata": {
    "colab_type": "text",
    "id": "R0uzJ02Mys_o"
   },
   "source": [
    "    Variables are \"black boxes\" used to store values. When a variable is created, Python reserves some space in memory to store the values. The Python interpreter automatically allocate memory and decides what can be stored in the reserved memory. Hence, Python can dynamically and automatically assign values of any data type to variables without needing to explicitly declare their data types (like in Java). The most common data types are:\n",
    "> - **Strings** - A \"string\" of characters\n",
    "> - **Integers** - Whole numbers\n",
    "> - **Floating-point values** - Decimal numbers\n",
    "> - **Boolean** - Binary logic (True / False)\n",
    "\n",
    "`PYTHON CODE`\n",
    "```python\n",
    "my_string = 'Hello World!'\n",
    "my_integer = 100\n",
    "my_float = 10.5\n",
    "my_boolean = True \n",
    "print(my_string, my_integer, my_float, my_boolean)\n",
    "```\n",
    "\n",
    "`OUTPUT`\n",
    "```\n",
    "Hello World! 100 10.5 True\n",
    "```\n"
   ]
  },
  {
   "cell_type": "markdown",
   "metadata": {},
   "source": [
    "---\n",
    "## 1.1 Commenting\n",
    "`Comment Syntax in Python`\n",
    "```python\n",
    " # SINGLE HASHTAG for single-line comments \n",
    " \"\"\" \n",
    " TRIPLE QUOTATION MARKS for multi-line comments\n",
    " \"\"\"\n",
    "```\n",
    "`EXAMPLE`\n",
    "```python\n",
    "a = 5 # setting variable a to value 5\n",
    "\"\"\"\n",
    "This piece of code assigns the variable a to value 5\n",
    "Commenting is a good programming practice to help developers understand your code!\n",
    "\"\"\"\n",
    "```"
   ]
  },
  {
   "cell_type": "markdown",
   "metadata": {},
   "source": [
    "---\n",
    "## 1.2 Variable Declaring\n",
    "##### __In this example, we will declare 4 different variables of different data types! We can use the type() function to verify each variable's data type!__"
   ]
  },
  {
   "cell_type": "code",
   "execution_count": null,
   "metadata": {
    "colab": {},
    "colab_type": "code",
    "id": "69iBV3nPys_3"
   },
   "outputs": [],
   "source": [
    "a = 5  # the variable a is assigned the value 5\n",
    "type(a)  # the type() function displays the variable type of the argument in the brackets"
   ]
  },
  {
   "cell_type": "code",
   "execution_count": null,
   "metadata": {
    "colab": {},
    "colab_type": "code",
    "id": "n9V5K04UytAJ"
   },
   "outputs": [],
   "source": [
    "# python automatically guesses the variable type of your input, can you google what this variable type stands for?\n",
    "b = 0.299\n",
    "type(b)"
   ]
  },
  {
   "cell_type": "code",
   "execution_count": null,
   "metadata": {},
   "outputs": [],
   "source": [
    "c = 'Hello World!'\n",
    "type(c)"
   ]
  },
  {
   "cell_type": "code",
   "execution_count": null,
   "metadata": {},
   "outputs": [],
   "source": [
    "d = False\n",
    "type(d)"
   ]
  },
  {
   "cell_type": "markdown",
   "metadata": {},
   "source": [
    "---\n",
    "## 1.3 Strings"
   ]
  },
  {
   "cell_type": "code",
   "execution_count": null,
   "metadata": {},
   "outputs": [],
   "source": [
    "single_quotes = 'I can declare strings using single quotes!'\n",
    "double_quotes = \"I can declare strings using double quotes!\"\n",
    "wrap_single_quotes = \"I can write special characters like '' inside double quotes!\"\n",
    "\n",
    "print(single_quotes)\n",
    "print(double_quotes)\n",
    "print(wrap_single_quotes)"
   ]
  },
  {
   "cell_type": "markdown",
   "metadata": {
    "colab_type": "text",
    "id": "ERLdW1OwytAQ"
   },
   "source": [
    "---\n",
    "## 1.4 Printing\n",
    "In order to print out the value of a variable or a calculation, you can use the function print()\n",
    "##### __Simple Printing__"
   ]
  },
  {
   "cell_type": "code",
   "execution_count": null,
   "metadata": {
    "colab": {},
    "colab_type": "code",
    "id": "nEzFvIjgytAS"
   },
   "outputs": [],
   "source": [
    "print(a) # don't forget the brackets ()!\n",
    "print(b)\n",
    "print(a, b) # the ',' separator provides a space between variables when printing\n",
    "print('My numbers are', a, 'and', b) # You can combine more strings and variables with ','"
   ]
  },
  {
   "cell_type": "markdown",
   "metadata": {},
   "source": [
    "##### __Format Printing__"
   ]
  },
  {
   "cell_type": "code",
   "execution_count": null,
   "metadata": {},
   "outputs": [],
   "source": [
    "# Declare variables of different data types\n",
    "my_name = 'Ken'\n",
    "my_number = 27\n",
    "\n",
    "# Format printing\n",
    "print('My name is {} and my favourite number is {}'.format(my_name, my_number))\n",
    "\n",
    "# f-string printing (Python 3.6 and above only)\n",
    "print(f'My name is {my_name} and my favourite number is {my_number}')"
   ]
  },
  {
   "cell_type": "markdown",
   "metadata": {},
   "source": [
    "##### __Printing new spaces and lines__"
   ]
  },
  {
   "cell_type": "code",
   "execution_count": null,
   "metadata": {},
   "outputs": [],
   "source": [
    "# Using \\t and \\n to create a new space and line respectively\n",
    "print('This is a string \\t with a space and \\n a new line.')"
   ]
  },
  {
   "cell_type": "code",
   "execution_count": null,
   "metadata": {},
   "outputs": [],
   "source": [
    "# Combining everything we've learned\n",
    "print(f'My name is {my_name}\\n and my favourite number is, wait for it... \\t {my_number}!')"
   ]
  },
  {
   "cell_type": "markdown",
   "metadata": {
    "colab_type": "text",
    "id": "I7EGrWPkytAW"
   },
   "source": [
    "---\n",
    "## 1.5 Mathematical Operations"
   ]
  },
  {
   "cell_type": "markdown",
   "metadata": {},
   "source": [
    "##### __Python Syntax for Mathematical Operations__\n",
    "| Operation | Description |       \n",
    "| :--: |:------------- |\n",
    "|`x + y`| sum of x and y | \n",
    "| `x - y` | difference of x and y |\n",
    "|`x * y`| product of x and y | \n",
    "| `x / y` | quotient of x and y |\n",
    "|`x // y`| floored quotient of x and y | \n",
    "| `x % y` | remainder of x / y (modulo) |\n",
    "|`x ** y`| x to the power of y | "
   ]
  },
  {
   "cell_type": "code",
   "execution_count": null,
   "metadata": {
    "colab": {},
    "colab_type": "code",
    "id": "71xmcVtLytAY"
   },
   "outputs": [],
   "source": [
    "# Assign variable x to the value 10\n",
    "x = 10\n",
    "\n",
    "# Perform the following mathematical operations and print the results\n",
    "print(x + 2)\n",
    "print(x - 2)\n",
    "print(x * 2)\n",
    "print(x / 2)\n",
    "print(x // 3)\n",
    "print(x % 2)\n",
    "print(x ** 2)"
   ]
  },
  {
   "cell_type": "markdown",
   "metadata": {},
   "source": [
    "---\n",
    "## 1.6 Multi-variable Operations\n",
    "##### It is possible to add multiple variables of different data types in Python. The resulting type is chosen automomatically. This is called broadcasting"
   ]
  },
  {
   "cell_type": "code",
   "execution_count": null,
   "metadata": {},
   "outputs": [],
   "source": [
    "type1 = 'str'   # string\n",
    "type2 = 4       # int\n",
    "type3 = 4.5     # float\n",
    "type4 = True    # bool (logic value True / False)\n",
    "\n",
    "print(type2 + type3)\n",
    "print(type3 + type4)\n",
    "# print(type1 + type2) # This line of code will cause an error because you cannot perform operations on float and int together hence data conversion comes in handy"
   ]
  },
  {
   "cell_type": "markdown",
   "metadata": {
    "colab_type": "text",
    "id": "r_8UBDGdytAv"
   },
   "source": [
    "---\n",
    "## 1.7 Strings Revisited\n",
    "### (A) String Arithmetics\n",
    "##### __There is an arithmetic associated to the string data type, see how a string behaves under the following operands:__"
   ]
  },
  {
   "cell_type": "code",
   "execution_count": null,
   "metadata": {
    "colab": {},
    "colab_type": "code",
    "id": "e3MAURfOytA2"
   },
   "outputs": [],
   "source": [
    "hello = \"Hello\"\n",
    "space = \" \"\n",
    "world = \"World!\"\n",
    "print(hello + space + world)\n",
    "print((hello + space)*2 + world)"
   ]
  },
  {
   "cell_type": "markdown",
   "metadata": {
    "colab_type": "text",
    "id": "M-QB2q5IytA6"
   },
   "source": [
    "##### _Notice that the sign \"+\" concatenates strings, but adds numbers when applied to `int`s or `float`s. An operator with different operations for different types is called an \"overloaded operator\"._"
   ]
  },
  {
   "cell_type": "markdown",
   "metadata": {},
   "source": [
    "\n",
    "### (B) String Slices\n",
    "\n",
    "<div>\n",
    "<img src=\"https://developers.google.com/edu/python/images/hello.png\" width=\"250px\" align = \"left\"/>\n",
    "</div>\n",
    "\n",
    "The \"slice\" syntax is a handy way to refer to sub-parts of sequences -- typically strings and lists. The slice s[start:end] is the elements beginning at start and extending up to but not including end. Suppose we have s = \"Hello\"\n",
    "\n",
    "* `s[1:4]` is 'ell' -- chars starting at index 1 and extending up to but not including index 4\n",
    "* `s[1:]` is 'ello' -- omitting either index defaults to the start or end of the string\n",
    "* `s[:]` is 'Hello' -- omitting both always gives us a copy of the whole thing (this is the pythonic way to copy a sequence like a string or list)\n",
    "* `s[1:100]` is 'ello' -- an index that is too big is truncated down to the string length\n"
   ]
  },
  {
   "cell_type": "code",
   "execution_count": null,
   "metadata": {},
   "outputs": [],
   "source": [
    "s = 'Hello'\n",
    "print(s[1:4])\n",
    "print(s[1:])\n",
    "print(s[:])\n",
    "print(s[1:100])\n",
    "\n",
    "print(s[::2]) # You can print every 2 characters\n",
    "print(s[-1]) # You can also print characters by negative indexing (see diagram above)"
   ]
  },
  {
   "cell_type": "markdown",
   "metadata": {},
   "source": [
    "---\n",
    "## 1.8 Data Type Conversion\n",
    "##### __It is possible to manually change the data type of a variable, for example strings to integers or floating-point numbers.__"
   ]
  },
  {
   "cell_type": "code",
   "execution_count": null,
   "metadata": {
    "colab": {},
    "colab_type": "code",
    "id": "gseYgE4uytA7"
   },
   "outputs": [],
   "source": [
    "# Declare the string s\n",
    "s = \"123\"\n",
    "\n",
    "# Convert String to Integer\n",
    "si = int(s) # string s converted to an integer\n",
    "print(si)\n",
    "\n",
    "# Convert String to Float\n",
    "sf = float(s) # string s converted to a floating point number\n",
    "print(sf)"
   ]
  },
  {
   "cell_type": "markdown",
   "metadata": {
    "colab_type": "text",
    "id": "c25_KoGNytA-"
   },
   "source": [
    "##### __... or vice-versa:__"
   ]
  },
  {
   "cell_type": "code",
   "execution_count": null,
   "metadata": {
    "colab": {},
    "colab_type": "code",
    "id": "NSwvC4X2ytA_"
   },
   "outputs": [],
   "source": [
    "# Declare the integer d\n",
    "d = 123\n",
    "\n",
    "# Convert Integer to String\n",
    "ds = str(d)\n",
    "print('this is a string:', ds, type(ds))"
   ]
  },
  {
   "cell_type": "markdown",
   "metadata": {
    "colab_type": "text",
    "id": "P5ffVwZ4ytBH"
   },
   "source": [
    "##### __Finally, strings can be split into lists!__"
   ]
  },
  {
   "cell_type": "code",
   "execution_count": null,
   "metadata": {
    "colab": {},
    "colab_type": "code",
    "id": "qdbkPdTIytBJ"
   },
   "outputs": [],
   "source": [
    "s = \"123\"\n",
    "print(len(s))   # How long is this string?\n",
    "list(s)"
   ]
  },
  {
   "cell_type": "markdown",
   "metadata": {},
   "source": [
    "---\n",
    "### Variables and Data Types Quick Reference\n",
    "\n",
    "<div>\n",
    "<img src=\"https://raw.githubusercontent.com/KenYew/YME-Python-Workshop/master/images/variables_assignment.png\" width=\"400px\" align = \"left\"/>\n",
    "</div>\n",
    "\n",
    "<div>\n",
    "<img src=\"https://raw.githubusercontent.com/KenYew/YME-Python-Workshop/master/images/base_types.png\" width=\"400px\" align = \"middle\"/>\n",
    "</div>"
   ]
  },
  {
   "cell_type": "markdown",
   "metadata": {},
   "source": [
    "---\n",
    "### Data Conversion Quick Reference\n",
    "\n",
    "<div>\n",
    "<img src=\"https://raw.githubusercontent.com/KenYew/YME-Python-Workshop/master/images/data_conversions.png\" width=\"600px\" align = \"left\"/>\n",
    "</div>"
   ]
  },
  {
   "cell_type": "markdown",
   "metadata": {},
   "source": [
    "___\n",
    "## Your Turn!"
   ]
  },
  {
   "cell_type": "markdown",
   "metadata": {
    "colab_type": "text",
    "id": "x09KPyb1ytAd"
   },
   "source": [
    "#### Task 1: Write a code to print the sum of the variables `a` and `b`"
   ]
  },
  {
   "cell_type": "code",
   "execution_count": null,
   "metadata": {
    "colab": {},
    "colab_type": "code",
    "id": "7Y48TaCTytAe"
   },
   "outputs": [],
   "source": [
    "a = 2\n",
    "b = 3\n",
    "# YOUR CODE\n"
   ]
  },
  {
   "cell_type": "markdown",
   "metadata": {
    "colab_type": "text",
    "id": "Z93CuafdytAh"
   },
   "source": [
    "#### Task 2: Python can also work as a very powerful calculator, what is 99 to the power of 99? (use Python mathematical operations)"
   ]
  },
  {
   "cell_type": "code",
   "execution_count": null,
   "metadata": {
    "colab": {},
    "colab_type": "code",
    "id": "gXyUWiEiytAi"
   },
   "outputs": [],
   "source": [
    "# YOUR CODE\n"
   ]
  },
  {
   "cell_type": "markdown",
   "metadata": {
    "colab_type": "text",
    "id": "V2SNEu4KytAl"
   },
   "source": [
    "#### Task 3: Create a new variable and print out its type"
   ]
  },
  {
   "cell_type": "code",
   "execution_count": null,
   "metadata": {
    "colab": {},
    "colab_type": "code",
    "id": "9lBq_8nfytAn"
   },
   "outputs": [],
   "source": [
    "# YOUR CODE\n"
   ]
  },
  {
   "cell_type": "markdown",
   "metadata": {
    "colab_type": "text",
    "id": "vmgTV-wfytBE"
   },
   "source": [
    "#### Task 4: Create a new string variable \"2019\", convert it to an integer, and add the result to the float number number = 5.7"
   ]
  },
  {
   "cell_type": "code",
   "execution_count": null,
   "metadata": {
    "colab": {},
    "colab_type": "code",
    "id": "OXg5uV0SytBF"
   },
   "outputs": [],
   "source": [
    "# YOUR CODE\n"
   ]
  },
  {
   "cell_type": "markdown",
   "metadata": {
    "colab_type": "text",
    "id": "702b-7R9ytBM"
   },
   "source": [
    "---\n",
    "# <a class=\"anchor\" name=\"lists\"></a>Chapter 2: Lists\n",
    "#### List is a collection consisting of mutable sequences of elements (e.g.: once created, the separate elements can be changed). Lists are ordered, changeable and allow duplicate members.\n",
    "<div>\n",
    "<img src=\"https://developers.google.com/edu/python/images/list1.png\" width=\"700px\" align = \"left\"/>\n",
    "</div>\n",
    "\n",
    "`PYTHON CODE`\n",
    "```python\n",
    "colors = ['red', 'blue', 'green']\n",
    "print colors[0]    ## red\n",
    "print colors[2]    ## green\n",
    "print len(colors)  ## 3\n",
    "```"
   ]
  },
  {
   "cell_type": "markdown",
   "metadata": {},
   "source": [
    "---\n",
    "## 2.1 Creating a list\n",
    "`PYTHON CODE`\n",
    "```python\n",
    "# Use square brackets to create your list\n",
    "a = [element1, element2, element3]\n",
    "```"
   ]
  },
  {
   "cell_type": "code",
   "execution_count": null,
   "metadata": {},
   "outputs": [],
   "source": [
    "my_list = ['red', 'blue', 'green']\n",
    "print(my_list)"
   ]
  },
  {
   "cell_type": "markdown",
   "metadata": {
    "colab_type": "text",
    "id": "IdRf-zTOytBp"
   },
   "source": [
    "The elements in a list do not need to be all of the same type."
   ]
  },
  {
   "cell_type": "code",
   "execution_count": null,
   "metadata": {
    "colab": {},
    "colab_type": "code",
    "id": "VB5FOZsPytBp"
   },
   "outputs": [],
   "source": [
    "good_list = ['Data Science', 485, True, 0.001]\n",
    "print(good_list)"
   ]
  },
  {
   "cell_type": "markdown",
   "metadata": {},
   "source": [
    "---\n",
    "## 2.2 Adding a new element to the list\n",
    "`PYTHON CODE`\n",
    "```python\n",
    "# Use the append method to add a new element at the end of the list\n",
    "my_list.append(element)\n",
    "```"
   ]
  },
  {
   "cell_type": "code",
   "execution_count": null,
   "metadata": {},
   "outputs": [],
   "source": [
    "my_list.append('orange')\n",
    "print(my_list)"
   ]
  },
  {
   "cell_type": "markdown",
   "metadata": {},
   "source": [
    "`PYTHON CODE`\n",
    "```python\n",
    "# You can also use the insert method to add your element at a specific index\n",
    "my_list.insert(index, element)\n",
    "```"
   ]
  },
  {
   "cell_type": "code",
   "execution_count": null,
   "metadata": {},
   "outputs": [],
   "source": [
    "my_list.insert(2, 'purple')\n",
    "print(my_list)"
   ]
  },
  {
   "cell_type": "markdown",
   "metadata": {},
   "source": [
    "---\n",
    "## 2.3 Removing an element from the list\n",
    "`PYTHON CODE`\n",
    "```python\n",
    "# Use the remove method to remove the specified element\n",
    "my_list.remove(element) \n",
    "# Or use the pop method to remove an element from the end of the list\n",
    "my_list.pop()\n",
    "```"
   ]
  },
  {
   "cell_type": "code",
   "execution_count": null,
   "metadata": {},
   "outputs": [],
   "source": [
    "my_list.remove('orange')\n",
    "my_list.remove('purple')\n",
    "print(my_list)"
   ]
  },
  {
   "cell_type": "markdown",
   "metadata": {},
   "source": [
    "---\n",
    "## 2.4 Lists operations\n",
    "Lists can be added together! The code below appends list b to list a!"
   ]
  },
  {
   "cell_type": "code",
   "execution_count": null,
   "metadata": {
    "colab": {},
    "colab_type": "code",
    "id": "Ep_znahsytBM"
   },
   "outputs": [],
   "source": [
    "a = [1, 2, 3]\n",
    "b = [2, 5]\n",
    "c = a + b        # Lists can be added together, this appends list b to list a!\n",
    "print(c)"
   ]
  },
  {
   "cell_type": "markdown",
   "metadata": {
    "colab_type": "text",
    "id": "gAikpIxhytBQ"
   },
   "source": [
    "Try if lists can be subtracted or multiplied!"
   ]
  },
  {
   "cell_type": "code",
   "execution_count": null,
   "metadata": {
    "colab": {},
    "colab_type": "code",
    "id": "dBqm9EgMytBR"
   },
   "outputs": [],
   "source": [
    "# CODE HERE\n",
    "a = [1, 2, 3]\n",
    "b = [2, 5]\n",
    "# Hint: c = a ? b\n",
    "# print(c)"
   ]
  },
  {
   "cell_type": "markdown",
   "metadata": {
    "colab_type": "text",
    "id": "WzYdiIUcytBi"
   },
   "source": [
    "---\n",
    "## 2.5 List statistics\n",
    "Below you can see some handy functions that can be perfomed on a list:"
   ]
  },
  {
   "cell_type": "code",
   "execution_count": null,
   "metadata": {
    "colab": {},
    "colab_type": "code",
    "id": "qXTGj0IsytBj"
   },
   "outputs": [],
   "source": [
    "lst = [1, 2, 3]\n",
    "print(len(lst)) # Prints the length of the list\n",
    "print(sum(lst)) # Prints the total sum of elements of the list"
   ]
  },
  {
   "cell_type": "markdown",
   "metadata": {
    "colab_type": "text",
    "id": "Fgq54YXlytBl"
   },
   "source": [
    "---\n",
    "## 2.6 Sorting a list\n",
    "`PYTHON CODE`\n",
    "```python\n",
    "# Use the sort method to sort the list\n",
    "lst.sort()\n",
    "\n",
    "# Use the reverse() method to reverse the list\n",
    "lst.reverse()\n",
    "```\n",
    "> __Note:__ _sort() and reverse() methods are void methods (it does not return any value) but rather applies their effect on the list._"
   ]
  },
  {
   "cell_type": "code",
   "execution_count": null,
   "metadata": {},
   "outputs": [],
   "source": [
    "lst = [5, 3, 8, 1]\n",
    "lst.sort()\n",
    "print(lst)\n",
    "lst.reverse()\n",
    "print(lst)"
   ]
  },
  {
   "cell_type": "markdown",
   "metadata": {
    "colab_type": "text",
    "id": "osv5N2hCNUNN"
   },
   "source": [
    "---\n",
    "## 2.7 Create a list of unique elements\n",
    "The set() function for lists which returns all the unique elements in a list:"
   ]
  },
  {
   "cell_type": "code",
   "execution_count": null,
   "metadata": {
    "colab": {
     "base_uri": "https://localhost:8080/",
     "height": 50
    },
    "colab_type": "code",
    "executionInfo": {
     "elapsed": 487,
     "status": "ok",
     "timestamp": 1548976865850,
     "user": {
      "displayName": "Edward Lim",
      "photoUrl": "",
      "userId": "05219823243799720278"
     },
     "user_tz": 0
    },
    "id": "klLThBQqNaCt",
    "outputId": "ece73dcc-3a5e-471f-83c6-593ff95318bc"
   },
   "outputs": [],
   "source": [
    "sample_list = [1, 1, 1, 1, 2, 2, 2, 2, 3, 3, 3, 3, 3, 4, 4, 4, 4, 4]\n",
    "print(set(sample_list)) # set() method outputs only a list of unique elements\n",
    "\n",
    "# Also works for strings as python treats strings as a list of characters!\n",
    "sample_string = \"Hello World!\"\n",
    "print(set(sample_string))\n",
    "\n",
    "# Note that the outputs of set are not sorted and it also included the empty space ' ' as a unique character"
   ]
  },
  {
   "cell_type": "markdown",
   "metadata": {
    "colab_type": "text",
    "id": "mCRtYeahytBx"
   },
   "source": [
    "---\n",
    "## 2.8 Range function\n",
    "`range()` is a particularly useful iterator that can be converted into a list:"
   ]
  },
  {
   "cell_type": "code",
   "execution_count": null,
   "metadata": {
    "colab": {},
    "colab_type": "code",
    "id": "ZHLB9hsOytBy"
   },
   "outputs": [],
   "source": [
    "r = range(10)\n",
    "print(r)"
   ]
  },
  {
   "cell_type": "markdown",
   "metadata": {
    "colab_type": "text",
    "id": "6Ru7tQ0kytB0"
   },
   "source": [
    "In the future you will see that the result of the `range()` function behaves just like a list would when combined with certain functions or in loops. If you want the result to really be a list, make sure to convert it!"
   ]
  },
  {
   "cell_type": "code",
   "execution_count": null,
   "metadata": {
    "colab": {},
    "colab_type": "code",
    "id": "KjfgDKfCytB2"
   },
   "outputs": [],
   "source": [
    "r = list(r)    \n",
    "print(r)\n",
    "print(len(r), sum(r))"
   ]
  },
  {
   "cell_type": "markdown",
   "metadata": {
    "colab_type": "text",
    "id": "xpQtn2_oytB3"
   },
   "source": [
    "The `range()` function can have a specified start, end and step size. The syntax is: range(first element, last element, step size)\n",
    "\n",
    "If step size is not specified, the default value is one."
   ]
  },
  {
   "cell_type": "code",
   "execution_count": null,
   "metadata": {
    "colab": {},
    "colab_type": "code",
    "id": "UF7VlbhNytB5"
   },
   "outputs": [],
   "source": [
    "print(list(range(1,10,2)))\n",
    "print(list(range(1,10)))\n",
    "print(list(range(10,1,-1)))"
   ]
  },
  {
   "cell_type": "markdown",
   "metadata": {},
   "source": [
    "---\n",
    "### List Operations and Range Quick Reference\n",
    "\n",
    "<div>\n",
    "<img src=\"https://raw.githubusercontent.com/KenYew/YME-Python-Workshop/master/images/list_operations.png\" width=\"500px\" align = \"left\"/>\n",
    "</div>\n",
    "\n",
    "<div>\n",
    "<img src=\"https://raw.githubusercontent.com/KenYew/YME-Python-Workshop/master/images/range_integer_sequences.png\" width=\"500px\" align = \"middle\"/>\n",
    "</div>"
   ]
  },
  {
   "cell_type": "markdown",
   "metadata": {
    "colab_type": "text",
    "id": "QEtzHGOfytCA"
   },
   "source": [
    "---\n",
    "## 2.9 Accessing elements in a list\n",
    "- #### Elements in a list can be accessed separately, each element has an associated index starting from 0.\n",
    "- #### Most programming languages including Python use zero-based indexing meaning the first element of the list is associated with index 0 first and so on. \n",
    "<div>\n",
    "<img src=\"https://raw.githubusercontent.com/KenYew/YME-Python-Workshop/master/images/list_indexing.png\" width=\"1000px\" align = \"middle\"/>\n",
    "</div>\n"
   ]
  },
  {
   "cell_type": "markdown",
   "metadata": {},
   "source": [
    "#### __Accessing elements in a list__"
   ]
  },
  {
   "cell_type": "code",
   "execution_count": null,
   "metadata": {
    "colab": {},
    "colab_type": "code",
    "id": "S3wfzy1oytBV"
   },
   "outputs": [],
   "source": [
    "lst = [1, 2, 3] # Instantiate list containing integers 1, 2 and 3\n",
    "print(lst[0])     # Accessing the first element by index 0, not 1! PYTHON uses zero-based indexing!\n",
    "print(lst[2])     # Accessing the third element of the list\n",
    "print(lst[-1])    # Accessing the last element of the list\n",
    "lst[0] = 5        # Overwriting the first element with value 5\n",
    "print(lst)        # Printing out the modified list"
   ]
  },
  {
   "cell_type": "markdown",
   "metadata": {
    "colab_type": "text",
    "id": "nkOPjlwDytCB"
   },
   "source": [
    "You have already seen how to access a single element in a list:"
   ]
  },
  {
   "cell_type": "code",
   "execution_count": null,
   "metadata": {
    "colab": {},
    "colab_type": "code",
    "id": "HKmAi3HgytCB"
   },
   "outputs": [],
   "source": [
    "a = [3, 1, 4, 1, 5, 9, 2, 6, 5, 3, 5, 9]\n",
    "print(a[0])\n",
    "print(a[1])\n",
    "print(a[-1])"
   ]
  },
  {
   "cell_type": "markdown",
   "metadata": {
    "colab_type": "text",
    "id": "X4g7XvT4ytCG"
   },
   "source": [
    "---\n",
    "#### __Accessing multiple elements (sublists) from a list__\n",
    "In python, you can also access \"sublists\" of lists.\n",
    "`PYTHON SYNTAX`\n",
    "```python\n",
    "# The list follows a sequence of elements from start (inclusive) to stop (exclusive) by step. \n",
    "list[ start : end : step ] \n",
    "# For example, \n",
    "a = [1, 2, 3, 4, 5]\n",
    "print(a[0:2]) # 0th element is included but 2nd element is excluded\n",
    "```\n",
    "`OUTPUT`\n",
    "`[1,2]`\n"
   ]
  },
  {
   "cell_type": "code",
   "execution_count": null,
   "metadata": {},
   "outputs": [],
   "source": [
    "a = [1, 2, 3, 4, 5, 6, 7, 8, 9, 10]\n",
    "print(a[0:2])   # first two elements\n",
    "print(a[:2])    # from the start to element two\n",
    "print(a[7:])    # from element seven to the end\n",
    "print(a[-2:])   # from second last element to the end\n",
    "print(a[::2])   # every second element from the start to the end"
   ]
  },
  {
   "cell_type": "markdown",
   "metadata": {
    "colab_type": "text",
    "id": "3rF0S3N8ytBr"
   },
   "source": [
    "Lists can also contain more lists, exciting! Let's append a list at the end of a list:"
   ]
  },
  {
   "cell_type": "code",
   "execution_count": null,
   "metadata": {
    "colab": {},
    "colab_type": "code",
    "id": "DSs_j8lCytBs"
   },
   "outputs": [],
   "source": [
    "good_list.append(['another', 'list'])\n",
    "print(good_list)\n",
    "print(good_list[-1][0]) # picks the first element of the last element of good_list"
   ]
  },
  {
   "cell_type": "markdown",
   "metadata": {
    "colab_type": "text",
    "id": "5J3FjoDiytCK"
   },
   "source": [
    "---\n",
    "## 2.10 Boolean Operations"
   ]
  },
  {
   "cell_type": "markdown",
   "metadata": {
    "colab_type": "text",
    "id": "VczvzFbMytCL"
   },
   "source": [
    "In Python it is often necessary to write down conditions which result in a boolean value (either `False` or `True`). It is important to learn how to evaluate such conditions using basic logic. Let's look at some logic operations first:\n",
    "\n",
    "##### __Python Syntax for Boolean Operations__\n",
    "| Operation | Description |       \n",
    "| :--: |:------------- |\n",
    "|`x or y`| if x is false, then y, else x | \n",
    "| `x and y` | if x is false, then x, else y |\n",
    "|`not x`| f x is false, then `True`, else `False` | "
   ]
  },
  {
   "cell_type": "code",
   "execution_count": null,
   "metadata": {
    "colab": {},
    "colab_type": "code",
    "id": "oHfPNnCiytCM"
   },
   "outputs": [],
   "source": [
    "print('OR Operator:')\n",
    "print(True or False)\n",
    "print(False or False)\n",
    "print(True or True)\n",
    "\n",
    "print('\\nAND Operator:')\n",
    "print(False and False)\n",
    "print(True and True)\n",
    "print(True and False)\n",
    "\n",
    "print('\\nNOT Operator:')\n",
    "print(not False)\n",
    "print(not True)"
   ]
  },
  {
   "cell_type": "markdown",
   "metadata": {
    "colab_type": "text",
    "id": "aPqthjLzytCN"
   },
   "source": [
    "#### This can be summarised into this table\n",
    "\n",
    "![alt text](https://upload.wikimedia.org/wikipedia/commons/4/4a/Truth_table_for_AND%2C_OR%2C_and_NOT.png)"
   ]
  },
  {
   "cell_type": "markdown",
   "metadata": {
    "colab_type": "text",
    "id": "LYLE8QNPytCQ"
   },
   "source": [
    "---\n",
    "## 2.11 Comparison Operations\n",
    "Now we can test a few logic operations on these variables, look at the cell below and try to guess the output! Write your guesses down before running the cell!\n",
    "\n",
    "##### __Python Syntax for Comparisons Operations__\n",
    "| Operation | Description |       \n",
    "| :--: |:------------- |\n",
    "|`<`| strictly less than | \n",
    "|`<=`| less than or equal | \n",
    "|`>`| strictly greater than | \n",
    "|`>=`| greater than or equal | \n",
    "|`==`| equal | \n",
    "|`!=`| not equal | "
   ]
  },
  {
   "cell_type": "code",
   "execution_count": null,
   "metadata": {
    "colab": {},
    "colab_type": "code",
    "id": "l4CWfIjuytCR"
   },
   "outputs": [],
   "source": [
    "print(a == b) # a equal to b\n",
    "print(a+a == b) # 2a equal to b\n",
    "print(a != b) # a not equal to b\n",
    "print(a > b) # a greater than b\n",
    "print(a < b) # a lesser than b\n",
    "print(a <= b) # a lesser or equal to b"
   ]
  },
  {
   "cell_type": "markdown",
   "metadata": {
    "colab_type": "text",
    "id": "KWWdKfYVytCS"
   },
   "source": [
    "There are a few more intuitive operations that will come handy later on:\n",
    "\n",
    "##### __Python Syntax for More Comparisons Operations__\n",
    "| Operation | Description |       \n",
    "| :--: |:------------- |\n",
    "|`in`| object within | \n",
    "|`not in`| negated object within | \n",
    "|`is`| object identity | \n",
    "|`is not`| negated object identity | \n"
   ]
  },
  {
   "cell_type": "code",
   "execution_count": null,
   "metadata": {
    "colab": {},
    "colab_type": "code",
    "id": "BBIW3nYpytCT"
   },
   "outputs": [],
   "source": [
    "print(a in c) #if a is in c?\n",
    "print(b in c) #if b is in c?\n",
    "print(a not in c) #if a is not in c?\n",
    "print(b not in c) #if b is not in c?\n",
    "print(a and b in c) #if both a and b is in c?\n",
    "print(a or b in c) #if either a or b is in c?\n",
    "\n",
    "print(2 is '2') #if integer 2 is string 2?\n",
    "print(\"2\" is '2') #double quote and single quotes are equivalent?\n",
    "print(2 is not '2') #if integer 2 is not string 2?"
   ]
  },
  {
   "cell_type": "markdown",
   "metadata": {
    "colab_type": "text",
    "id": "6q5R49RFytCW"
   },
   "source": [
    "Make sure you understand each of the above results, if you don't, ask one of the demonstrators."
   ]
  },
  {
   "cell_type": "markdown",
   "metadata": {},
   "source": [
    "---\n",
    "## Your Turn!\n",
    "### Task 1: List Basics"
   ]
  },
  {
   "cell_type": "markdown",
   "metadata": {
    "colab_type": "text",
    "id": "i1RZU2O4ytBt"
   },
   "source": [
    "```python\n",
    "Create a list containing numbers from 0 to 7. \n",
    "e.g.: [0, 1, 2, 3, 4, 5, 6, 7]\n",
    "The use the `len()` function and print out the length of the list.\n",
    "```"
   ]
  },
  {
   "cell_type": "code",
   "execution_count": null,
   "metadata": {
    "colab": {},
    "colab_type": "code",
    "id": "N5g5CLGhytBv"
   },
   "outputs": [],
   "source": [
    "# YOUR CODE\n",
    "my_list = []"
   ]
  },
  {
   "cell_type": "markdown",
   "metadata": {},
   "source": [
    "```tex\n",
    "Create a list containing numbers between 10 and 25. Then sort the list in descending order. \n",
    "```"
   ]
  },
  {
   "cell_type": "code",
   "execution_count": null,
   "metadata": {},
   "outputs": [],
   "source": [
    "# YOUR CODE\n"
   ]
  },
  {
   "cell_type": "markdown",
   "metadata": {
    "colab_type": "text",
    "id": "PswJ3ndxytBc"
   },
   "source": [
    "```tex\n",
    "Can you use your python knowledge of lists and strings to find the 10th character in the sentence below?\n",
    "```"
   ]
  },
  {
   "cell_type": "code",
   "execution_count": null,
   "metadata": {
    "colab": {},
    "colab_type": "code",
    "id": "wXGfbsNZytBe"
   },
   "outputs": [],
   "source": [
    "s = \"This is a sTring with an exciting 10th character!\"\n",
    "# YOUR CODE\n"
   ]
  },
  {
   "cell_type": "markdown",
   "metadata": {
    "colab_type": "text",
    "id": "bk5wvWPxytCI"
   },
   "source": [
    "    Using the given list below, print out the following sublists:\n",
    "\n",
    "```python\n",
    "1. All elements between the 2nd and 5th element (e.g.: [2, 3, 4]) \n",
    "Note: Be careful of Python's zero indexing!\n",
    "2. Every second element of the list\n",
    "3. Print out the whole list backwards\n",
    "4. Exchange the order of the 4th and 5th element and the 8th and 9th element. (e.g. [1, 2, 3, 8, 9, 6, 7, 4, 5, 10])\n",
    "```"
   ]
  },
  {
   "cell_type": "code",
   "execution_count": null,
   "metadata": {
    "colab": {},
    "colab_type": "code",
    "id": "Tf_6cDBrytCJ"
   },
   "outputs": [],
   "source": [
    "lst = [1, 2, 3, 4, 5, 6, 7, 8, 9, 10]\n",
    "# YOUR CODE\n"
   ]
  },
  {
   "cell_type": "markdown",
   "metadata": {
    "colab_type": "text",
    "id": "tWs3jw4tytCX"
   },
   "source": [
    "---\n",
    "# <a class=\"anchor\" name=\"conditional\"></a> Chapter 3: Conditional Statements\n",
    "Conditional statements are useful when we want to run some parts of the code only if some conditions are fulfilled. \n",
    "If the `[Condition]` in the if statement has the value True, the `[Code]` will be executed, otherwise it will not.\n",
    "\n",
    "\n",
    "`if statement syntax`\n",
    "```python\n",
    "if condition: # If condition is True\n",
    "    code # then run this block of code\n",
    "```\n",
    "\n",
    "`if, elif, else statement syntax`\n",
    "```python\n",
    "if condition 1:   # If condition 1 is True, run code 1\n",
    "    code 1 \n",
    "elif condition 2: # If condition 1 is False but condition 2 is True, run code 2\n",
    "    code 2\n",
    "else:             # If condition 1 and 2 are False, run code 3\n",
    "    code 3\n",
    "```\n",
    "\n",
    "`NOTE: In Python, every conditional statement must follow with a colon ':' and the code block within must be INDENTED!`"
   ]
  },
  {
   "cell_type": "code",
   "execution_count": null,
   "metadata": {
    "colab": {},
    "colab_type": "code",
    "id": "oIAOLb61ytCY"
   },
   "outputs": [],
   "source": [
    "# Lets start with a few simple conditional statements\n",
    "if True:\n",
    "    print(\"The condition after \\\"if\\\" is true!\")"
   ]
  },
  {
   "cell_type": "code",
   "execution_count": null,
   "metadata": {
    "colab": {},
    "colab_type": "code",
    "id": "G5eyzpX_ytCZ"
   },
   "outputs": [],
   "source": [
    "if False:\n",
    "    print(\"The condition after \\\"if\\\" is false :( !\")"
   ]
  },
  {
   "cell_type": "code",
   "execution_count": null,
   "metadata": {
    "colab": {},
    "colab_type": "code",
    "id": "r9pFl2QCytCg",
    "scrolled": true
   },
   "outputs": [],
   "source": [
    "# It is possible to include a number of conditions! If neither is true, then the code in else will run.\n",
    "a = 5\n",
    "if a == 2:\n",
    "    print(\"a is equal to two!\")\n",
    "elif a == 3 or a == 4:\n",
    "    print(\"a is equal to three or four?\")\n",
    "else:\n",
    "    print(\"a is not equal to either two, three or four!\")"
   ]
  },
  {
   "cell_type": "markdown",
   "metadata": {},
   "source": [
    "---\n",
    "### Conditional Statement Quick Reference\n",
    "\n",
    "<div>\n",
    "<img src=\"https://raw.githubusercontent.com/KenYew/YME-Python-Workshop/master/images/conditional_statement.png\" width=\"500px\" align = \"left\"/>\n",
    "</div>\n"
   ]
  },
  {
   "cell_type": "markdown",
   "metadata": {},
   "source": [
    "---\n",
    "## Your Turn!\n",
    "## Task 1: Worker's Pay\n",
    "    Write a program to prompt the user for hours and rate per hour to compute gross pay. Take into account that the factory gives the employee 1.5 times the hourly rate for hours worked above 40 hours. \n",
    "$ \\text{Employee Extra Pay} = 40 \\times rate + (hours - 40) \\times 1.5 \\times rate $\n",
    "\n",
    "`\n",
    "INPUTS:\n",
    "Enter Hours: 45\n",
    "Rate: 10\n",
    "`\n",
    "\n",
    "`\n",
    "OUTPUT: \n",
    "Pay: 475.0\n",
    "`"
   ]
  },
  {
   "cell_type": "code",
   "execution_count": null,
   "metadata": {},
   "outputs": [],
   "source": [
    "hours = 45\n",
    "rate = 10\n",
    "\n",
    "# YOUR CODE\n"
   ]
  },
  {
   "cell_type": "markdown",
   "metadata": {},
   "source": [
    "---\n",
    "## Task 2: Grade System\n",
    "    Write a program to prompt for a score between 0.0 and 1.0. If the core is out of range print an error. If the score is between 0.0 and 1.0, print a grade using the following table:\n",
    "\n",
    "```python\n",
    "Score Grade\n",
    ">= 0.9 A\n",
    ">= 0.8 B\n",
    ">= 0.7 C\n",
    ">= 0.6 D\n",
    "< 0.6 F\n",
    "```"
   ]
  },
  {
   "cell_type": "code",
   "execution_count": null,
   "metadata": {},
   "outputs": [],
   "source": [
    "score = 0.79 # Change for 0.92, 0.82, 0.62, 0.52 to test your code\n",
    "# YOUR CODE\n"
   ]
  },
  {
   "cell_type": "markdown",
   "metadata": {},
   "source": [
    "---\n",
    "## Task 3: Check Length of String"
   ]
  },
  {
   "cell_type": "markdown",
   "metadata": {
    "colab_type": "text",
    "id": "JXvtFCHSytCm"
   },
   "source": [
    "Write a code that takes a list with n elements on its input, and returns the string `\"Too long\"` if the n > 10, `\"Too short\"` if n < 10, and `\"Ideal\"` if n = 10."
   ]
  },
  {
   "cell_type": "code",
   "execution_count": null,
   "metadata": {
    "colab": {},
    "colab_type": "code",
    "id": "VNn7ALlnytCn"
   },
   "outputs": [],
   "source": [
    "lst = [5, 10, 12]\n",
    "# for n in lst: # Looping through each element of the list with variable n\n",
    "    # YOUR CODE (uncomment the for loop above then write your conditional statements)"
   ]
  },
  {
   "cell_type": "markdown",
   "metadata": {
    "colab_type": "text",
    "id": "P59pCAkFytCp"
   },
   "source": [
    "---\n",
    "# <a class=\"anchor\" name=\"for\"></a>Chapter 4: For Loops"
   ]
  },
  {
   "cell_type": "markdown",
   "metadata": {
    "colab_type": "text",
    "id": "OohG3uF2ytCr"
   },
   "source": [
    "Loops are one of the most important structures you will learn today, they allow cerain parts of the code to be executed multiple times. In Python the `for` loop is used extensively. \n",
    "\n",
    "`FOR LOOP SYNTAX`\n",
    "```python\n",
    "list_of_elements = [element1, element2, element3]\n",
    "for variable in list_of_elements:\n",
    "    # Iteration 1: variable = element1 \n",
    "    # Iteration 2: variable = element2\n",
    "    # Iteration 3: variable = element3\n",
    "```\n",
    "\n",
    "`EXAMPLE PYTHON CODE`\n",
    "```python\n",
    "items_list = ['apples', 'oranges', 'bananas']\n",
    "for item in items_list: \n",
    "    print(item)\n",
    "```\n",
    "`OUTPUT`\n",
    "```\n",
    "apples\n",
    "oranges\n",
    "bananas\n",
    "```"
   ]
  },
  {
   "cell_type": "markdown",
   "metadata": {},
   "source": [
    "---\n",
    "## 4.1 Lists in For Loops"
   ]
  },
  {
   "cell_type": "code",
   "execution_count": null,
   "metadata": {},
   "outputs": [],
   "source": [
    "# One by one, each element of the list is assigned to the variable, i, then the code inside the For Loop is executed\n",
    "namelist = ['John', 'Amy', 'Kate']\n",
    "for name in namelist:\n",
    "    print(name)"
   ]
  },
  {
   "cell_type": "code",
   "execution_count": null,
   "metadata": {
    "colab": {},
    "colab_type": "code",
    "id": "LlooAVMUytCu"
   },
   "outputs": [],
   "source": [
    "# You can use lists containing elements of different datatypes as well!\n",
    "fancy_list = [4, 1.27, 'my_string', True]\n",
    "for item in fancy_list: \n",
    "    print(item)"
   ]
  },
  {
   "cell_type": "code",
   "execution_count": null,
   "metadata": {
    "colab": {},
    "colab_type": "code",
    "id": "mI4vD_beytCy"
   },
   "outputs": [],
   "source": [
    "# You can also iterate each character of a string\n",
    "for i in \"abc\":   \n",
    "    print(i)\n",
    "# This is because python treats a string as an array of characters ie. ['a','b','c']"
   ]
  },
  {
   "cell_type": "code",
   "execution_count": null,
   "metadata": {
    "colab": {},
    "colab_type": "code",
    "id": "9aGP8V3mytC1"
   },
   "outputs": [],
   "source": [
    "# sometimes it is useful to have two nested for loops, keep in mind the more nested loops the slower the code!\n",
    "for i in [1,2,3]:\n",
    "    for j in range(2):\n",
    "        print(i, j)"
   ]
  },
  {
   "cell_type": "markdown",
   "metadata": {},
   "source": [
    "---\n",
    "## 4.2 Range function\n",
    "```tex \n",
    "The range() function generates the integer numbers between the given start integer to the stop integer, which is generally used to iterate over with for loop. \n",
    "```\n",
    "`PYTHON CODE`\n",
    "```python\n",
    "range(start, stop, step)\n",
    "my_range = range(1, 10, 2)\n",
    "print(list(my_range))\n",
    "```\n",
    "\n",
    "`OUTPUT` \n",
    "`[1, 3, 5, 7, 9]`"
   ]
  },
  {
   "cell_type": "code",
   "execution_count": null,
   "metadata": {},
   "outputs": [],
   "source": [
    "# The range() function outputs an object with a list of numbers that follow zero-based indexing!\n",
    "my_range = range(5) # Generates an object with a list of numbers from 0 to 4\n",
    "print(list(my_range)) # You have to convert it into a list to print the list of numbers"
   ]
  },
  {
   "cell_type": "markdown",
   "metadata": {},
   "source": [
    "#### __range() in For Loops__"
   ]
  },
  {
   "cell_type": "code",
   "execution_count": null,
   "metadata": {},
   "outputs": [],
   "source": [
    "# In a for loop, generate integers 1 fo 10\n",
    "print('List of numbers:')\n",
    "for i in range(1, 11):\n",
    "    print(i, end = ' ')\n",
    "\n",
    "# In a for loop, generate odd numbers from 1 to 10\n",
    "print('\\nList of odd numbers:')\n",
    "for i in range(1, 11, 2): \n",
    "    print(i, end = ' ')\n",
    "    \n",
    "# In a for loop, generate integers 1 to 10 in descending order\n",
    "print('\\nList of numbers in descending order:')\n",
    "for i in range(10, 0, -1):\n",
    "    print(i, end = ' ')"
   ]
  },
  {
   "cell_type": "markdown",
   "metadata": {},
   "source": [
    "`range() explanation`\n",
    "```tex\n",
    "range() function returns an object that produces a sequence of integers from start (inclusive) to stop (exclusive) by step.  range(i, j) produces i, i+1, i+2, ..., j-1. Start defaults to 0, and stop is omitted! For example, range(4) produces 0, 1, 2, 3. These are exactly the valid indices for a list of 4 elements. When step is given, it specifies the increment (or decrement).\n",
    "```"
   ]
  },
  {
   "cell_type": "markdown",
   "metadata": {},
   "source": [
    "#### __Looping through elements of a list__"
   ]
  },
  {
   "cell_type": "code",
   "execution_count": null,
   "metadata": {},
   "outputs": [],
   "source": [
    "# Not so pythonic way to print all elements of a list\n",
    "lst = [3, 5, 7, 9]\n",
    "for i in range(len(lst)): \n",
    "    print(lst[i])"
   ]
  },
  {
   "cell_type": "code",
   "execution_count": null,
   "metadata": {},
   "outputs": [],
   "source": [
    "# Pythonic way\n",
    "lst = [3, 5, 7, 9]\n",
    "for index, value in enumerate(lst): \n",
    "    print('Index:', index, 'Value:', value)"
   ]
  },
  {
   "cell_type": "code",
   "execution_count": null,
   "metadata": {},
   "outputs": [],
   "source": [
    "lst1 = [2, 4, 6, 8]\n",
    "lst2 = [3, 5, 7, 9]\n",
    "targetvalue = 17\n",
    "\n",
    "for value1 in lst1: \n",
    "    for value2 in lst2: \n",
    "        if value1 + value2 == targetvalue:\n",
    "            print(value1, '+', value2, '=', targetvalue)"
   ]
  },
  {
   "cell_type": "markdown",
   "metadata": {
    "colab_type": "text",
    "id": "U4qqILlSHQa4"
   },
   "source": [
    "---\n",
    "## 4.3 Enumerate function\n",
    "Enumerate is also a handy function that is used in conjunction with for loops. Enumerates indexes all the items in a list, as shown below"
   ]
  },
  {
   "cell_type": "code",
   "execution_count": null,
   "metadata": {},
   "outputs": [],
   "source": [
    "# Prints out all the items in the list with their corresponding index\n",
    "animals = ['cat', 'dog', 'mouse']\n",
    "for item in enumerate(animals):\n",
    "    print(item)"
   ]
  },
  {
   "cell_type": "code",
   "execution_count": null,
   "metadata": {
    "colab": {},
    "colab_type": "code",
    "id": "vbv4Gx_OHcls"
   },
   "outputs": [],
   "source": [
    "# It is also possible to extract the indexes and elements in the lsit individually\n",
    "for index, animal in enumerate(animals):\n",
    "    print(index, animal)"
   ]
  },
  {
   "cell_type": "markdown",
   "metadata": {
    "colab_type": "text",
    "id": "YF2NvwOtIlHx"
   },
   "source": [
    "```tex\n",
    "Note: The enumerate object and reversed object you've seen before are special data structures that allow you to iterate through them ie. using a for loop. You don't need to know too much about these now but keep in mind you can loop through more than just lists!\n",
    "```"
   ]
  },
  {
   "cell_type": "markdown",
   "metadata": {},
   "source": [
    "---\n",
    "## 4.4 Zip function\n",
    "The zip() function can be used to simultaneously go through elements of multiple lists (must be the same length) in a For Loop."
   ]
  },
  {
   "cell_type": "code",
   "execution_count": null,
   "metadata": {},
   "outputs": [],
   "source": [
    "# You can use the zip() function to simultaneously go through multiple lists of the same length in a For Loop\n",
    "list1 = ['Ken', 'Biology', 99]\n",
    "list2 = ['Ian', 'Chemistry', 85]\n",
    "list3 = ['Michael', 'Physics', 65]\n",
    "  \n",
    "# Here zip() function takes two equal length list and merges them together in pairs \n",
    "for a, b, c in zip(list1,list2, list3): \n",
    "    print (a, b, c)"
   ]
  },
  {
   "cell_type": "markdown",
   "metadata": {
    "colab_type": "text",
    "id": "a6AyL9JvytC5"
   },
   "source": [
    "---\n",
    "## 4.5 List Comprehension (Advanced)"
   ]
  },
  {
   "cell_type": "markdown",
   "metadata": {
    "colab_type": "text",
    "id": "r_C5IOUfytC5"
   },
   "source": [
    "```tex\n",
    "A list comprehension is a compact way to write an expression that expands to a whole list. \n",
    "```\n",
    "\n",
    "`If you encounter an expression such as this:`\n",
    "\n",
    "```python\n",
    "for variable in list:\n",
    "    code\n",
    "```\n",
    "        \n",
    "`It can be briefly written in python as:`\n",
    "\n",
    "```python \n",
    "[ code for variable in list ]\n",
    "```\n",
    "\n",
    "`For example:`\n",
    "\n",
    "```python\n",
    "numbers = [1, 2, 3, 4]\n",
    "for number in numbers:\n",
    "    squares = number * number\n",
    "\n",
    "# Same as:\n",
    "squares = [number * number for number in numbers]\n",
    "```"
   ]
  },
  {
   "cell_type": "code",
   "execution_count": null,
   "metadata": {},
   "outputs": [],
   "source": [
    "conversation = ['hello', 'and', 'goodbye']\n",
    "shouting = [ word.upper() for word in conversation]\n",
    "print(shouting)"
   ]
  },
  {
   "cell_type": "code",
   "execution_count": null,
   "metadata": {
    "colab": {},
    "colab_type": "code",
    "id": "fuv34SAmytC7"
   },
   "outputs": [],
   "source": [
    "# Print list of square numbers from 0 to 9\n",
    "squares = [ x**2 for x in range(10) ]\n",
    "print(squares)"
   ]
  },
  {
   "cell_type": "markdown",
   "metadata": {},
   "source": [
    "---\n",
    "`If you encounter an expression such as this:`\n",
    "\n",
    "```python\n",
    "for variable in list:\n",
    "    if condition: \n",
    "        code\n",
    "```\n",
    "        \n",
    "`It can be briefly written in python as:`\n",
    "\n",
    "```python \n",
    "[ code for variable in list if condition ]\n",
    "```"
   ]
  },
  {
   "cell_type": "code",
   "execution_count": null,
   "metadata": {
    "colab": {},
    "colab_type": "code",
    "id": "XST8D-5RytC-"
   },
   "outputs": [],
   "source": [
    "## Select values <= 2\n",
    "nums = [2, 8, 1, 6]\n",
    "small = [ n for n in nums if n <= 2 ]\n",
    "print(small)"
   ]
  },
  {
   "cell_type": "code",
   "execution_count": null,
   "metadata": {},
   "outputs": [],
   "source": [
    "## Select fruits containing 'a', change to upper case\n",
    "fruits = ['apple', 'cherry', 'banana', 'lemon']\n",
    "afruits = [ s.upper() for s in fruits if 'a' in s ]\n",
    "print(afruits)"
   ]
  },
  {
   "cell_type": "markdown",
   "metadata": {},
   "source": [
    "---\n",
    "## Your Turn!"
   ]
  },
  {
   "cell_type": "markdown",
   "metadata": {
    "colab_type": "text",
    "id": "ZpkvJKyAytB9"
   },
   "source": [
    "### Task 1: Multiples of 3\n",
    "    Create a list of all the multiples of 3 between 10 and 25\n",
    "    \n",
    "`OUTPUT: [12, 15, 18, 21, 24]`"
   ]
  },
  {
   "cell_type": "code",
   "execution_count": null,
   "metadata": {
    "colab": {},
    "colab_type": "code",
    "id": "wYQsHh7LytB-"
   },
   "outputs": [],
   "source": [
    "# YOUR CODE\n"
   ]
  },
  {
   "cell_type": "markdown",
   "metadata": {},
   "source": [
    "---\n",
    "### Task 2: Filtersum\n",
    "Go through the list below and print two types of sums\n",
    "1. The sum of all odd numbers\n",
    "2. The sum of all even numbers\n",
    "\n",
    "```python\n",
    "INPUT: lst = [100, 200, 523, 1, 46, 23, 87, 66, 1049]\n",
    "```\n",
    "`OUTPUT: \n",
    "EVEN: 412\n",
    "ODD: 1683`"
   ]
  },
  {
   "cell_type": "code",
   "execution_count": null,
   "metadata": {},
   "outputs": [],
   "source": [
    "lst = [100, 200, 523, 1, 46, 23, 87, 66, 1049]\n",
    "# YOUR CODE\n"
   ]
  },
  {
   "cell_type": "markdown",
   "metadata": {
    "colab_type": "text",
    "id": "_qmNdcEUytDf"
   },
   "source": [
    "---\n",
    "### Task 3: Sum Multiple\n",
    "```tex\n",
    "Find the sum of all integers that are multiples of 3 or 5 but smaller than 100\n",
    "Answer: 3582\n",
    "```"
   ]
  },
  {
   "cell_type": "code",
   "execution_count": null,
   "metadata": {
    "colab": {},
    "colab_type": "code",
    "id": "XvSLpUkxytDg"
   },
   "outputs": [],
   "source": [
    "# YOUR CODE\n"
   ]
  },
  {
   "cell_type": "markdown",
   "metadata": {},
   "source": [
    "---\n",
    "### Task 4: Triangle\n",
    "Take a string with a single character, and a number, as inputs. Output a right triangle, starting from the base, made up of that character. \n",
    "\n",
    "`HINT: use a for loop with range n and print the number of characters equivalent to n, then decrement n`\n",
    "\n",
    "```python\n",
    "Sample Input:\n",
    "c = '#'\n",
    "n = 5\n",
    "\n",
    "Sample Output:\n",
    "\n",
    "#####\n",
    "####\n",
    "###\n",
    "##\n",
    "#\n",
    "```"
   ]
  },
  {
   "cell_type": "code",
   "execution_count": null,
   "metadata": {},
   "outputs": [],
   "source": [
    "c = '#'\n",
    "n = 5\n",
    "\n",
    "# YOUR CODE\n"
   ]
  },
  {
   "cell_type": "markdown",
   "metadata": {
    "colab_type": "text",
    "id": "2OS4CJ8eOLSP"
   },
   "source": [
    "---\n",
    "### Task 5: What's on the menu?\n",
    "Given the following lists of food that are on the menu, unavailable and newly added.\n",
    "```python\n",
    "food = [schnitzel, salad, soup, noodles, bread, fish]\n",
    "unavailable = [salad, noodles, bread]\n",
    "new = [maggi, roti canai, nasi goreng]\n",
    "```\n",
    "\n",
    "    Remove all the 'unavailable' food and add all the 'new' food to the list 'food'. \n",
    "    Make sure each food is in the list only once.\n",
    " \n",
    " **CHALLENGE: Solve this exercise in only one line of code ;)** (apart from creating the lists)"
   ]
  },
  {
   "cell_type": "code",
   "execution_count": null,
   "metadata": {
    "colab": {},
    "colab_type": "code",
    "id": "O4b7WrncORgP"
   },
   "outputs": [],
   "source": [
    "food = ['schnitzel', 'salad', 'soup', 'noodles', 'bread', 'fish']\n",
    "unavailable = ['salad', 'noodles', 'bread']\n",
    "new = ['maggi', 'roti canai', 'nasi goreng']\n",
    "\n",
    "# YOUR CODE\n"
   ]
  },
  {
   "cell_type": "markdown",
   "metadata": {
    "colab_type": "text",
    "id": "D7VdZ0i84fHc"
   },
   "source": [
    "---\n",
    "# <a class=\"anchor\" name=\"dict\"></a> Chapter 5: Dictionaries"
   ]
  },
  {
   "cell_type": "markdown",
   "metadata": {
    "colab_type": "text",
    "id": "_fEW6k8N9aFK"
   },
   "source": [
    "- #### Dictionaries are efficient hash table data structures that stores data in __*key : value*__ pairs. \n",
    "- #### In dictionaries, each value is associated with a unique key and allows quick retrieval of the desired value using its corresponding key.\n",
    "- #### This is useful when you want to assign a value to a unique key or identifier. All keys must be unique for a dictionary.  \n",
    "- #### Dictionaries can be created using {} and the __*key : value*__ pair structure are as shown below:-\n",
    "<div>\n",
    "<img src=\"https://raw.githubusercontent.com/KenYew/YME-Python-Workshop/master/images/dict-diagram.png\" width=\"500px\" align = \"middle\"/>\n",
    "</div>\n",
    "\n",
    "---\n",
    "## 5.1 Creating a dictionary\n",
    "`PYTHON CODE`\n",
    "```python\n",
    "\n",
    "# A dictionary (dict) can be created by starting with an empty dict {} and then storing key : value pairs into the dict like this:\n",
    "# dict[key] = value-for-that-key\n",
    "grades = {}\n",
    "grades['Joel'] = 80\n",
    "grades['Tim'] = 85\n",
    "grades['Kate'] = 90\n",
    "\n",
    "# Or you can do all at once like this:\n",
    "grades = {'Joel': 80, 'Tim': 85, 'Kate': 90}\n",
    "print(grades)\n",
    "```\n",
    "`OUTPUT`\n",
    "`{'Joel': 80, 'Tim': 85, 'Kate': 90}`\n",
    "\n",
    "---\n",
    "## 5.2 Accessing a dictionary\n",
    "`PYTHON CODE`\n",
    "```python\n",
    "# Retrieve the value associated with the key provided\n",
    "joels_grade = grades['Joel']\n",
    "joels_grade = grades.get('Joel')\n",
    "```\n",
    "`OUTPUT: 80` \n",
    "\n",
    "`PYTHON CODE`\n",
    "```python\n",
    "# keys() method retrieves all the keys in the dictionary\n",
    "all_keys = grades.keys()\n",
    "# values() method retrieves all the values in the dictionary\n",
    "all_values = grades.values()\n",
    "# items() method retrieves all key : value pairs in the dictionary\n",
    "all_items = grades.items()\n",
    "\n",
    "print(list(all_keys))\n",
    "print(list(all_values))\n",
    "print(list(all_items))\n",
    "```\n",
    "`OUTPUT:`\n",
    "`\n",
    "['Joel', 'Tim', 'Kate']\n",
    "[80, 85, 90]\n",
    "[('Joel', 80), ('Tim', 85), ('Kate', 90)]\n",
    "`\n",
    "\n",
    "---\n",
    "## 5.3 Adding and removing entries in a dictionary\n",
    "`PYTHON CODE`\n",
    "```python\n",
    "# Adding a new entry is as easy as declaring a new unique key:value pair\n",
    "grades['Bob'] = 95\n",
    "print(grades)\n",
    "```\n",
    "`OUTPUT:`\n",
    "`{'Joel': 80, 'Tim': 85, 'Kate': 90, 'Bob': 95}`\n",
    "\n",
    "`PYTHON CODE`\n",
    "```python\n",
    "# del dict[key] removes the key : value pair \n",
    "del(grades['Bob'])\n",
    "print(grades)\n",
    "```\n",
    "`OUTPUT:`\n",
    "`{'Joel': 80, 'Tim': 85, 'Kate': 90}`\n",
    "\n",
    "---\n",
    "## 5.4 Checking the existence of a key : value pair\n",
    "`PYTHON CODE`\n",
    "```python\n",
    "# You can check for the existence of a key using in:\n",
    "joel_has_grade = \"Joel\" in grades # Output: True\n",
    "amy_has_grade = \"Amy\" in grades # Output: False\n",
    "\n",
    "if 'Tim' in grades: \n",
    "    print(grades['Tim']) # Output: 85\n",
    "```\n",
    "---\n",
    "### Dictionary Operations Quick Reference\n",
    "<div>\n",
    "<img src=\"https://raw.githubusercontent.com/KenYew/YME-Python-Workshop/master/images/dict_operations.png\" width=\"300px\" align = \"middle\"/>\n",
    "</div>\n",
    "\n",
    "---"
   ]
  },
  {
   "cell_type": "markdown",
   "metadata": {},
   "source": [
    "#### __Creating a dictionary__"
   ]
  },
  {
   "cell_type": "code",
   "execution_count": null,
   "metadata": {},
   "outputs": [],
   "source": [
    "grades = {'Joel': 80, 'Tim': 85, 'Kate': 90}\n",
    "\n",
    "all_keys = grades.keys()\n",
    "all_values = grades.values()\n",
    "all_items = grades.items()\n",
    "\n",
    "print(list(all_keys))\n",
    "print(list(all_values))\n",
    "print(list(all_items))"
   ]
  },
  {
   "cell_type": "markdown",
   "metadata": {},
   "source": [
    "#### __Adding a new entry to dictionary__"
   ]
  },
  {
   "cell_type": "code",
   "execution_count": null,
   "metadata": {},
   "outputs": [],
   "source": [
    "grades['Bob'] = 95\n",
    "print(grades)"
   ]
  },
  {
   "cell_type": "markdown",
   "metadata": {},
   "source": [
    "#### __Checking the existence of key : value pair__"
   ]
  },
  {
   "cell_type": "code",
   "execution_count": null,
   "metadata": {},
   "outputs": [],
   "source": [
    "if 'Bob' in grades: \n",
    "    print(grades['Bob'])\n",
    "else: \n",
    "    print('Bob is no where to be found!')"
   ]
  },
  {
   "cell_type": "markdown",
   "metadata": {
    "colab_type": "text",
    "id": "Iksiq888_Yv6"
   },
   "source": [
    "#### __Iterating dictionaries__\n",
    "You can also iterate through dictionaries using for loops"
   ]
  },
  {
   "cell_type": "code",
   "execution_count": null,
   "metadata": {
    "colab": {},
    "colab_type": "code",
    "id": "S6xyR2EbGgzH"
   },
   "outputs": [],
   "source": [
    "# Prints out all the keys in a dictionary\n",
    "for key in grades.keys():\n",
    "    print(\"Key is: \" + str(key))\n",
    "\n",
    "# Prints out all the values in a dictionary\n",
    "for value in grades.values():\n",
    "    print(\"Value is: \" + str(value))\n",
    "\n",
    "# Get the kay and value pairs in a dictionary\n",
    "for key, value in grades.items():\n",
    "    print(\"Key is: \" + str(key), \"Value is: \" + str(value))"
   ]
  },
  {
   "cell_type": "markdown",
   "metadata": {
    "colab_type": "text",
    "id": "ywM1zkXIKkGn"
   },
   "source": [
    "#### __Removing an entry from a dictionary__"
   ]
  },
  {
   "cell_type": "code",
   "execution_count": null,
   "metadata": {
    "colab": {},
    "colab_type": "code",
    "id": "_KyMGIDnKnjp"
   },
   "outputs": [],
   "source": [
    "del(grades['Bob']) # deletes item corresponding to key3 from the dictionary\n",
    "print(grades)"
   ]
  },
  {
   "cell_type": "markdown",
   "metadata": {
    "colab_type": "text",
    "id": "SKbg74toNOGR"
   },
   "source": [
    "#### __Some useful functions on dictionaries__"
   ]
  },
  {
   "cell_type": "code",
   "execution_count": null,
   "metadata": {
    "colab": {},
    "colab_type": "code",
    "id": "ciLNb21aNUcm"
   },
   "outputs": [],
   "source": [
    "print(len(grades))\n",
    "\n",
    "dict3 = {\"key2\" : 1,\n",
    "         \"key1\" : 1}\n",
    "\n",
    "for key in sorted(dict3):\n",
    "    print(key)"
   ]
  },
  {
   "cell_type": "markdown",
   "metadata": {
    "colab_type": "text",
    "id": "kzCY0tOaKZLu"
   },
   "source": [
    "#### __Applications of dictionaries__\n",
    "Why use dictionaries at all? They come in handy for automating certain tasks faster. Let's say you want to count the number of times each character appears in a string. Would you be able to do it without using a dictionary?"
   ]
  },
  {
   "cell_type": "code",
   "execution_count": null,
   "metadata": {
    "colab": {},
    "colab_type": "code",
    "id": "VSEvFDg3Ku0O"
   },
   "outputs": [],
   "source": [
    "example = \"test string\"\n",
    "char_dict = {} #initialise empty dictionary\n",
    "\n",
    "# Remove empty space in string and iterate through\n",
    "for char in example.replace(\" \",\"\"):\n",
    "    char_dict[char] = char_dict.get(char, 0) + 1\n",
    "\n",
    "for key, value in char_dict.items():\n",
    "    print(\"Character: \" + str(key), \"Frequency: \" + str(value))"
   ]
  },
  {
   "cell_type": "markdown",
   "metadata": {
    "colab_type": "text",
    "id": "-9-6UPo7HtTW"
   },
   "source": [
    "---\n",
    "## Your Turn!\n",
    "### Task 1: Smartphones\n",
    "```text\n",
    "Given a list of smartphones, can you count the number of times each smartphone model appears in the list? \n",
    "Create a dictionary called phones_dict using the smartphone model as the key and the frequency of the smartphone as the value.\n",
    "```\n",
    "\n",
    "`HINTS:`\n",
    "```python\n",
    "# The expected output of the dictionary based on the given list:\n",
    "{'iPhone': 4, 'Samsung': 2, 'Pixel': 2, 'OnePlus': 3}\n",
    "\n",
    "1. In a for loop, iteratively\n",
    "2. use the list.count(item) method to obtain the number of items in the list\n",
    "3. then assign the key : value pair to the dictionary\n",
    "```"
   ]
  },
  {
   "cell_type": "code",
   "execution_count": null,
   "metadata": {},
   "outputs": [],
   "source": [
    "phones_list = ['iPhone', 'Samsung', 'Pixel', 'OnePlus', 'OnePlus', 'Pixel', 'Samsung', 'iPhone', 'iPhone', 'iPhone', 'OnePlus']\n",
    "phones_dict = {}"
   ]
  },
  {
   "cell_type": "code",
   "execution_count": null,
   "metadata": {
    "colab": {},
    "colab_type": "code",
    "id": "jYA1ASUfH7ed"
   },
   "outputs": [],
   "source": [
    "# YOUR CODE: \n"
   ]
  },
  {
   "cell_type": "markdown",
   "metadata": {},
   "source": [
    "---\n",
    "### Task 2: Dropped Server Data\n",
    "```text\n",
    "You are a network engineer from Amazon who is investigating dropped data packets between servers located in Penang and London. You are given 2 network diagnostic logs (both of which are a list of dropped character packets) called `log1` and `log2` which are acquired from the data sent by Penang server and data received by London server. \n",
    "Given the 2 lists, print a dictionary containing key : value pairs of the 'dropped character' packets and the frequency in which it was dropped. \n",
    "```\n",
    "\n",
    "`HINTS:`\n",
    "```python\n",
    "# The expected output of the dictionary based on the two lists:\n",
    "{'Y': 5, 'M': 4, 'E': 5, ' ': 4}\n",
    "\n",
    "1. Recall list operations\n",
    "```"
   ]
  },
  {
   "cell_type": "code",
   "execution_count": null,
   "metadata": {},
   "outputs": [],
   "source": [
    "lst1 = ['Y', 'M', 'E', ' ', 'Y', 'M', 'E', ' ', 'Y', 'M', 'E', ' ']\n",
    "lst2 = ['Y', 'M', 'E', ' ', 'Y', 'E']\n",
    "dropped_data_dict = {}"
   ]
  },
  {
   "cell_type": "code",
   "execution_count": null,
   "metadata": {},
   "outputs": [],
   "source": [
    "# YOUR CODE\n"
   ]
  },
  {
   "cell_type": "markdown",
   "metadata": {},
   "source": [
    "---\n",
    "### Task 3: Student Database\n",
    "```text \n",
    "You are a module coordinator who is in charge of managing a student database containing student scores. The student database is in a form of a dictionary containing all the scores of four students for each assessment type (e.g.: homework, quizzes and tests). \n",
    "Your boss wants you to calculate the average score of each assessment type and update the scores in the database. \n",
    "```\n",
    "`HINTS:`\n",
    "```python\n",
    "# The expected output of the computed database, calculated_dict:\n",
    "{'homework': 88.5, 'quizzes': 74.0, 'tests': 82.5}\n",
    "\n",
    "1. Loop through the items of a dictionary using the .items() method to retrieve keys and values\n",
    "2. Compute the average of the values\n",
    "3. Assign the newly computed values with the associated keys\n",
    "```"
   ]
  },
  {
   "cell_type": "code",
   "execution_count": null,
   "metadata": {},
   "outputs": [],
   "source": [
    "student_dict = {\n",
    "  \"homework\": [90, 97, 75, 92],\n",
    "  \"quizzes\": [88, 40, 94, 75],\n",
    "  \"tests\": [75, 90, 62, 45]\n",
    "}\n",
    "calculated_dict = {}"
   ]
  },
  {
   "cell_type": "code",
   "execution_count": null,
   "metadata": {},
   "outputs": [],
   "source": [
    "# YOUR CODE\n"
   ]
  },
  {
   "cell_type": "markdown",
   "metadata": {
    "colab_type": "text",
    "id": "HdLlGnK8ytDC"
   },
   "source": [
    "---\n",
    "# <a class=\"anchor\" name=\"while\"></a>Chapter 6: While Loops"
   ]
  },
  {
   "cell_type": "markdown",
   "metadata": {
    "colab_type": "text",
    "id": "8kqOY8ivytDD"
   },
   "source": [
    "While loop is a classic loop with a set condition, while the condition is true, the cycle will repeat.\n",
    "\n",
    "`while loop syntax`\n",
    "```python\n",
    "while condition:     # while this condition is True\n",
    "    repeat_this_code # keep running this code over and over again\n",
    "```\n",
    "\n",
    "`while` is used to create a loop that goes on as long as the condition after `while` is `True` OR until `break` has been called. A classic example of an infinite `while` + `break`:\n",
    "\n",
    "```python\n",
    "while condition:     # while this condition is True, \n",
    "    repeat_this_code # keep running this code over and over again\n",
    "    if condition_that_stops_loop: # but if this condition is met\n",
    "        break        # stop the loop\n",
    "```\n",
    "\n",
    "`NOTE: In Python, every conditional statement must follow with a colon ':' and the code block within must be INDENTED!`"
   ]
  },
  {
   "cell_type": "code",
   "execution_count": null,
   "metadata": {
    "colab": {},
    "colab_type": "code",
    "id": "ENjXbfybytDD"
   },
   "outputs": [],
   "source": [
    "i = 0\n",
    "while i < 10:\n",
    "    print(i)\n",
    "    i += 1 # increment i by 1"
   ]
  },
  {
   "cell_type": "markdown",
   "metadata": {
    "colab_type": "text",
    "id": "ifhimblGytDF"
   },
   "source": [
    "If the while condition is always true, the cycle will never stop."
   ]
  },
  {
   "cell_type": "markdown",
   "metadata": {
    "colab_type": "text",
    "id": "__cKeV4rZ0OT"
   },
   "source": [
    "While loops are commonly used with logic operators to extend their uses"
   ]
  },
  {
   "cell_type": "code",
   "execution_count": null,
   "metadata": {
    "colab": {},
    "colab_type": "code",
    "id": "zHsXuZXRZ3bT"
   },
   "outputs": [],
   "source": [
    "i = 9\n",
    "while i < 10 and i > 0:\n",
    "    print(i)\n",
    "    i -= 1 # decrement i by 1"
   ]
  },
  {
   "cell_type": "markdown",
   "metadata": {},
   "source": [
    "---\n",
    "## Your Turn!\n",
    "### Task 1: Squared Numbers\n",
    "```tex\n",
    "Create a while loop that prints out all the numbers from 1 to 10 squared (1, 4, 9, 16, ... , 100), each on their own line.\n",
    "```"
   ]
  },
  {
   "cell_type": "code",
   "execution_count": null,
   "metadata": {},
   "outputs": [],
   "source": [
    "num = 1\n",
    "\n",
    "# YOUR CODE\n"
   ]
  },
  {
   "cell_type": "markdown",
   "metadata": {},
   "source": [
    "---\n",
    "### Task 2: Debugging\n",
    "```python\n",
    "A team working on a software found a bug in a program, but needs to find out which\n",
    "version the bug first appeared. You are given a list of `boolean`s denoting whether the \n",
    "bug is present or not. You may assume that the bug surely exists and the list is not empty.\n",
    "\n",
    "For example:\n",
    "lst = [False, False, False, False, True, True, True]\n",
    "\n",
    "Here, we can see that at the fifth version, the bug first appeared. (Remember that lists are 0-indexed!)\n",
    "\n",
    "Output:\n",
    "5\n",
    "\n",
    "Your task:\n",
    "Write code that uses a `while` loop to find out which version the bug first appeared in.\n",
    "``` \n",
    "\n",
    "#### Further work:\n",
    "* [CHALLENGE] Is your code fast for very long lists? Does it need to search every single 'False's from the start\n",
    "(or 'True's from the end) to find the first 'True'? Is there a better and faster method to do this? (Hint: Binary Search)\n",
    "* What if the data is corrupted? For example: [False, False, True, False, True]. What should this output?\n"
   ]
  },
  {
   "cell_type": "code",
   "execution_count": null,
   "metadata": {},
   "outputs": [],
   "source": [
    "lst = [False, False, False, False, True, True, True]"
   ]
  },
  {
   "cell_type": "code",
   "execution_count": null,
   "metadata": {},
   "outputs": [],
   "source": [
    "# YOUR CODE\n"
   ]
  },
  {
   "cell_type": "markdown",
   "metadata": {
    "colab_type": "text",
    "id": "-9-6UPo7HtTW"
   },
   "source": [
    "---\n",
    "### Task 3: Multiply Operator from Scratch\n",
    "```tex\n",
    "Given two integers `a` and `b`, multiply the two numbers without using the multiply (*) operator.\n",
    "Your implementation must use a `while` loop.\n",
    "```\n",
    "\n",
    "\n",
    "Further work:\n",
    "* Does your code work on negative integers?\n",
    "* Can you write equivalent code using a `for` loop instead of a `while` loop?\n",
    "* Write code to raise a number `a` to a power `b` using the same concept, you may now use the multiply (*) operator, but not the power (**) operator. (bonus points if you manage without (*) even if it's slow!)\n",
    "* [CHALLENGE] For the motivated: what is the most efficient way of multiplying two integers\n",
    "<br> or raising an integer to a power of another integer? Can you implement those algorithms?\n",
    "\n"
   ]
  },
  {
   "cell_type": "code",
   "execution_count": null,
   "metadata": {},
   "outputs": [],
   "source": [
    "a = 12\n",
    "b = 30"
   ]
  },
  {
   "cell_type": "code",
   "execution_count": null,
   "metadata": {},
   "outputs": [],
   "source": [
    "# YOUR CODE\n"
   ]
  },
  {
   "cell_type": "markdown",
   "metadata": {
    "colab_type": "text",
    "id": "bQv4Yt_KytDI"
   },
   "source": [
    "---\n",
    "# <a class=\"anchor\" name=\"function\"></a>Chapter 7: Functions\n",
    "\n",
    "<div>\n",
    "<img src=\"https://raw.githubusercontent.com/KenYew/YME-Python-Workshop/master/images/functions-diagram.png\" width=\"200px\", align=\"left\"/>\n",
    "</div>\n",
    "\n",
    "```tex\n",
    "Functions are a basic building block of a programming language. In python, functions can return multiple variables at the output. (unlike C/C++ and Fortran). \n",
    "Function, in a way similar to mathematics, is a rule established between 0 or more objects and returning (with a `return`) a corresponding output. In python a function is defined using def:\n",
    "```\n",
    "\n",
    "`Function syntax`\n",
    "```python\n",
    "def function_name (input1, input2,..., inputN):\n",
    "    code\n",
    "    return output\n",
    "```"
   ]
  },
  {
   "cell_type": "code",
   "execution_count": null,
   "metadata": {
    "colab": {},
    "colab_type": "code",
    "id": "WZHJZIvTytDJ"
   },
   "outputs": [],
   "source": [
    "def subtract(a, b):\n",
    "    return a - b\n",
    "\n",
    "def add(a, b):\n",
    "    return a + b"
   ]
  },
  {
   "cell_type": "code",
   "execution_count": null,
   "metadata": {
    "colab": {},
    "colab_type": "code",
    "id": "rwFFcH5TytDL"
   },
   "outputs": [],
   "source": [
    "print(subtract(1, 2))\n",
    "print(add(3.2, -1))"
   ]
  },
  {
   "cell_type": "code",
   "execution_count": null,
   "metadata": {
    "colab": {},
    "colab_type": "code",
    "id": "ct6gpy0rytDO"
   },
   "outputs": [],
   "source": [
    "# functions can have default input values\n",
    "def plus2(a, b=2):\n",
    "    return a + b\n",
    "\n",
    "print(plus2(7))\n",
    "print(plus2(7,4))"
   ]
  },
  {
   "cell_type": "markdown",
   "metadata": {
    "colab_type": "text",
    "id": "rBbfiaadytDP"
   },
   "source": [
    "Analyse the following function, what do you think it does? Use the function on a number of testcases to see if your guess is correct."
   ]
  },
  {
   "cell_type": "code",
   "execution_count": null,
   "metadata": {
    "colab": {},
    "colab_type": "code",
    "id": "tRCm5Z7VytDQ"
   },
   "outputs": [],
   "source": [
    "def random_func(a):\n",
    "    something = 0\n",
    "    \n",
    "    for character in str(a):\n",
    "        something += int(character)\n",
    "        \n",
    "    return something"
   ]
  },
  {
   "cell_type": "code",
   "execution_count": null,
   "metadata": {
    "colab": {},
    "colab_type": "code",
    "id": "g3wtUlXgytDR"
   },
   "outputs": [],
   "source": [
    "random_func(123)"
   ]
  },
  {
   "cell_type": "markdown",
   "metadata": {
    "colab_type": "text",
    "id": "M44sMFEGsOt5"
   },
   "source": [
    "---\n",
    "## 7.1 Recursive Functions"
   ]
  },
  {
   "cell_type": "markdown",
   "metadata": {
    "colab_type": "text",
    "id": "mf0-o9uG1uP5"
   },
   "source": [
    "Recursive functions are a special type of function where the function calls itself. They are useful for simplifying certain structures of code such as for loops, but come at a cost of increased computing overhead. They are also useful when the bounds of a function are not known."
   ]
  },
  {
   "cell_type": "code",
   "execution_count": null,
   "metadata": {
    "colab": {
     "base_uri": "https://localhost:8080/",
     "height": 50
    },
    "colab_type": "code",
    "executionInfo": {
     "elapsed": 498,
     "status": "ok",
     "timestamp": 1548976998035,
     "user": {
      "displayName": "Edward Lim",
      "photoUrl": "",
      "userId": "05219823243799720278"
     },
     "user_tz": 0
    },
    "id": "zsEHnBHHsSKX",
    "outputId": "77f6e1b5-73e5-4253-9322-186097470448"
   },
   "outputs": [],
   "source": [
    "# Factorial function using for loops\n",
    "def factorial_for_loop(x):\n",
    "    answer = 1\n",
    "    for i in range(1,x+1):\n",
    "        answer *= i\n",
    "    return answer\n",
    "\n",
    "# Factorial function using recursion\n",
    "def factorial_recursion(x):\n",
    "    if x == 0: \n",
    "        return 1\n",
    "    return x*factorial_recursion(x-1)\n",
    "\n",
    "print(factorial_for_loop(5))\n",
    "print(factorial_recursion(5))"
   ]
  },
  {
   "cell_type": "markdown",
   "metadata": {},
   "source": [
    "---\n",
    "### Function Definition Quick Reference\n",
    "<div>\n",
    "<img src=\"https://raw.githubusercontent.com/KenYew/YME-Python-Workshop/master/images/function_definition.png\" width=\"500px\" align = \"left\"/>\n",
    "</div>"
   ]
  },
  {
   "cell_type": "markdown",
   "metadata": {},
   "source": [
    "---\n",
    "## Your Turn!\n",
    "### Task 1: Even Numbers Function"
   ]
  },
  {
   "cell_type": "markdown",
   "metadata": {
    "colab_type": "text",
    "id": "0598FtoNytDT"
   },
   "source": [
    "Combine your knowledge of comprehension lists and functions to write a function that finds all the even numbers between n and m:\n",
    "\n",
    "Write test cases to test your function!"
   ]
  },
  {
   "cell_type": "code",
   "execution_count": null,
   "metadata": {
    "colab": {},
    "colab_type": "code",
    "id": "YLxx7KIHytDU"
   },
   "outputs": [],
   "source": [
    "# YOUR CODE\n",
    "# def name_your_function(n, m):\n",
    "\n",
    "# print(name_your_function(0,10)) # function call"
   ]
  },
  {
   "cell_type": "markdown",
   "metadata": {},
   "source": [
    "---\n",
    "### Task 2: Personalised Greetings\n",
    "```tex\n",
    "Create a function that sends a personalised message to a list of users given as a dictionary. Do this by simply printing the email address it should be sent to and a greeting with their names included. If the user has no name, greet them without a name. The dictionary contains the users email address, name and age.\n",
    "```\n",
    "\n",
    "`HINTS:`\n",
    "```tex\n",
    "# The expected output of the function:\n",
    "To: email_from_list@bing.com\n",
    "Hello 'Name'\n",
    "\n",
    "1. Use a for loop to iterate over the keys & values of the dictionary\n",
    "2. Use an if statement to check if a name is available\n",
    "3. Print the email address you are sending it to and the personalised greeting\n",
    "4. You may use print() to print a blank line\n",
    "```"
   ]
  },
  {
   "cell_type": "code",
   "execution_count": null,
   "metadata": {},
   "outputs": [],
   "source": [
    "users = {\n",
    "    \"UserID_1\" : [\"expert_gamer8@gmail.com\",\"Kevin Lee\",23],\n",
    "    \"UserID_2\" : [\"sparkypinky97@yahoo.com\",\"Siti Batrisyia\",21],\n",
    "    \"UserID_3\" : [\"handsome_man300@aol.com\",\"Pavindran Kumar\",22],\n",
    "    \"UserID_4\" : [\"anonymousdude@yahoo.com\",None,None]\n",
    "}\n",
    "\n",
    "# def send_email(email_list):\n",
    "    # YOUR CODE\n",
    "    "
   ]
  },
  {
   "cell_type": "markdown",
   "metadata": {},
   "source": [
    "---\n",
    "### Task 3: Distance from Zero\n",
    "    First, define a function called distance_from_zero, with one argument (choose any argument name you like). If the type of the argument is either int or float, the function should return the absolute value of the function input. Otherwise, the function should return \"Nope\". \n",
    "    Check if it works calling the function with -5.6 and \"what?\".\n",
    "```python\n",
    "INPUT: -5.6\n",
    "OUTPUT: 5.6\n",
    "INPUT: 'what?'\n",
    "OUTPUT: 'Nope'\n",
    "```"
   ]
  },
  {
   "cell_type": "code",
   "execution_count": null,
   "metadata": {},
   "outputs": [],
   "source": [
    "# def distance_from_zero(num):\n",
    "    # YOUR CODE"
   ]
  },
  {
   "cell_type": "markdown",
   "metadata": {},
   "source": [
    "---\n",
    "### Task 4: Cube\n",
    "    First, define a function called cube that takes an argument called number.\n",
    "    Make that function return the cube of that number (i.e. that number multiplied by itself and multiplied by itself once again).\n",
    "    Define a second function called by_three that takes an argument called number. \n",
    "    If that number is divisible by 3, by_three should call cube(number) and return its result. \n",
    "    Otherwise, by_three should return False.\n",
    "    \n",
    "```python\n",
    "INPUT: 9\n",
    "CALLS: by_three(9) -> cube(9) \n",
    "OUTPUT: 729\n",
    "```"
   ]
  },
  {
   "cell_type": "code",
   "execution_count": null,
   "metadata": {},
   "outputs": [],
   "source": [
    "# def cube(number):\n",
    "    # YOUR CODE\n",
    "\n",
    "# def by_three(number):\n",
    "    # YOUR CODE\n",
    "    \n",
    "# by_three(9) # Function call"
   ]
  },
  {
   "cell_type": "markdown",
   "metadata": {},
   "source": [
    "---\n",
    "### Task 5: Normalizing data\n",
    "```tex\n",
    "Create a function that normalizes a dataset by dividing each data point by the mean of the dataset.\n",
    "```\n",
    "\n",
    "`HINTS:`\n",
    "```tex\n",
    "\n",
    "1. The mean of the dataset is the sum of all the data points divided by the number of data points.\n",
    "2. Use sum() and len() to compute the mean\n",
    "3. Create an empty list to store the normalized values\n",
    "4. Use a for loop to compute the normalized value and append it to the empty list made\n",
    "```"
   ]
  },
  {
   "cell_type": "code",
   "execution_count": null,
   "metadata": {},
   "outputs": [],
   "source": [
    "dataset = [2,7,3,5,8,3,6,8,3,9,1,4]\n",
    "\n",
    "# def normalize(data):\n",
    "    # YOUR CODE\n"
   ]
  },
  {
   "cell_type": "markdown",
   "metadata": {},
   "source": [
    "---\n",
    "# <a class=\"anchor\" name=\"methods\"></a>Chapter 8: Methods\n",
    "\n",
    "A method is a function that takes a class instance as its first parameter. Methods are members of classes. \n",
    "### Data Types and Type Conversion\n",
    "```python\n",
    "str(), examples = '5', '3.45', 'True' # Variables to strings\n",
    "int(), examples = 5, 3, 1 # Variables to integers\n",
    "float(), examples = 5.0, 1.0 # Variables to floats\n",
    "bool(), examples = True, False, True # Variables to Booleans\n",
    "```\n",
    "\n",
    "### List Methods Quick Reference\n",
    "```python\n",
    "my_list.index(a) # Get the index of an item \n",
    "my_list.count(a) # Count an item\n",
    "my_list.append('!') # Append an item at a time\n",
    "my_list.remove('!') # Remove an item\n",
    "del(my_list[0:1]) # Remove an item\n",
    "my_list.reverse() # Reverse the list\n",
    "my_list.extend('!') # Append an item\n",
    "my_list.pop(-1) # Remove an item\n",
    "my_list.insert(0,'!') # Insert an item\n",
    "my_list.sort() # Sort the list\n",
    "```\n",
    "\n",
    "### String Methods Quick Reference\n",
    "```python\n",
    "my_string.upper() # String to uppercase\n",
    "my_string.lower() # String to lowercase\n",
    "my_string.count('w') # Count String elements\n",
    "my_string.replace('e', 'i') # Replace String elements\n",
    "my_string.strip() # Strip whitespaces\n",
    "```\n",
    "\n",
    "### Ask for Help!\n",
    "```python\n",
    "help(str) # prints out a user-friendly documentation of the subject\n",
    "``` "
   ]
  },
  {
   "cell_type": "markdown",
   "metadata": {},
   "source": [
    "---\n",
    "### String Methods"
   ]
  },
  {
   "cell_type": "code",
   "execution_count": null,
   "metadata": {},
   "outputs": [],
   "source": [
    "st = 'hello my name is Sam'"
   ]
  },
  {
   "cell_type": "code",
   "execution_count": null,
   "metadata": {},
   "outputs": [],
   "source": [
    "st.lower()"
   ]
  },
  {
   "cell_type": "code",
   "execution_count": null,
   "metadata": {},
   "outputs": [],
   "source": [
    "st.upper()"
   ]
  },
  {
   "cell_type": "code",
   "execution_count": null,
   "metadata": {},
   "outputs": [],
   "source": [
    "st.split()"
   ]
  },
  {
   "cell_type": "code",
   "execution_count": null,
   "metadata": {},
   "outputs": [],
   "source": [
    "tweet = 'Go Sports! #Sports'"
   ]
  },
  {
   "cell_type": "code",
   "execution_count": null,
   "metadata": {},
   "outputs": [],
   "source": [
    "tweet.split('#')"
   ]
  },
  {
   "cell_type": "code",
   "execution_count": null,
   "metadata": {},
   "outputs": [],
   "source": [
    "tweet.split('#')[1]"
   ]
  },
  {
   "cell_type": "markdown",
   "metadata": {},
   "source": [
    "---\n",
    "### Dictionary Methods"
   ]
  },
  {
   "cell_type": "code",
   "execution_count": null,
   "metadata": {},
   "outputs": [],
   "source": [
    "d = {'key1':'item1','key2':'item2'}"
   ]
  },
  {
   "cell_type": "code",
   "execution_count": null,
   "metadata": {},
   "outputs": [],
   "source": [
    "d.keys()"
   ]
  },
  {
   "cell_type": "code",
   "execution_count": null,
   "metadata": {},
   "outputs": [],
   "source": [
    "d.items()"
   ]
  },
  {
   "cell_type": "markdown",
   "metadata": {
    "colab_type": "text",
    "id": "BaDBNseSytDa"
   },
   "source": [
    "---\n",
    "# Further Exercises\n",
    "### Exercise 1: Sum\n",
    "Code a function that sums the digits in a number.\n",
    "```python\n",
    "INPUT: n = 997\n",
    "so the sum of digits are: 9 + 9 + 7 = 25\n",
    "OUTPUT: 25\n",
    "```"
   ]
  },
  {
   "cell_type": "code",
   "execution_count": null,
   "metadata": {
    "colab": {},
    "colab_type": "code",
    "id": "LyREGapIytDc"
   },
   "outputs": [],
   "source": [
    "n = 997\n",
    "# YOUR CODE\n"
   ]
  },
  {
   "cell_type": "markdown",
   "metadata": {
    "colab_type": "text",
    "id": "dli48oXZytDX"
   },
   "source": [
    "---\n",
    "### Exercise 2: Palindrome\n",
    "Create a function that determines if a given string is a palindrome.\n",
    "A palindrome is defined as a string that when reversed, is identical to the original string.\n",
    "\n",
    "Example: <br>\n",
    "*anna* is a palindrome <br>\n",
    "*go dog* is a palindrome <br>\n",
    "*PYME* is not a palindrome\n",
    "\n",
    "You may assume the input is all lowercase and does not have punctuation"
   ]
  },
  {
   "cell_type": "code",
   "execution_count": null,
   "metadata": {
    "colab": {},
    "colab_type": "code",
    "id": "WS-Mo8ALdsJG"
   },
   "outputs": [],
   "source": [
    "# YOUR CODE\n"
   ]
  },
  {
   "cell_type": "markdown",
   "metadata": {
    "colab_type": "text",
    "id": "SYv2EezlytDh"
   },
   "source": [
    "---\n",
    "### Exercise 3: Prime Numbers\n",
    "Code a function that decides whether the input is a prime number or not.\n",
    "\n",
    "Find the sum of all prime numbers between 0 and 100"
   ]
  },
  {
   "cell_type": "code",
   "execution_count": null,
   "metadata": {
    "colab": {},
    "colab_type": "code",
    "id": "Nld1FQ7wytDh"
   },
   "outputs": [],
   "source": [
    "# YOUR CODE\n"
   ]
  },
  {
   "cell_type": "markdown",
   "metadata": {},
   "source": [
    "---\n",
    "### Exercise 4: Holiday Trip Budget Management\n",
    "Let's use functions to calculate your trip's costs:\n",
    "\n",
    "1. Define a function called `hotel_cost` with one argument nights as input. The hotel costs £140 per night. So, the function `hotel_cost` should return $140 * nights$.\n",
    "\n",
    "2. Define a function called `plane_ride_cost` that takes a string, city, as input. The function should return a different price depending on the location, similar to the code example above. \n",
    "\n",
    "3. Below are the valid destinations and their corresponding round-trip prices.\n",
    "```python\n",
    "\"Charlotte\": 183\n",
    "\"Tampa\": 220\n",
    "\"Pittsburgh\": 222\n",
    "\"Los Angeles\": 475\n",
    "```\n",
    "\n",
    "4. Below your existing code, define a function called `rental_car_cost` with an argument called days. \n",
    "\n",
    "5. Calculate the cost of renting the car: Every day you rent the car costs £40 (cost=40*days). If you rent the car for 7 or more days, you get £50 off your total (cost-=50). \n",
    "\n",
    "6. Alternatively (elif), if you rent the car for 3 or more days, you get £20 off your total. You cannot get both of the above discounts. Return that cost. \n",
    "\n",
    "7. Then, define a function called trip_cost that takes two arguments, city and days. Like the example above, have your function return the sum of calling the rental_car_cost(days), hotel_cost(days), and plane_ride_cost(city) functions.\n",
    "\n",
    "8. Modify your trip_cost function definion. Add a third argument, spending_money. Modify what the `trip_cost` function does. Add the variable `spending_money` to the sum that it returns.\n",
    "\n",
    "`EXAMPLE:`\n",
    "\n",
    "```python\n",
    "INPUTS:\n",
    "nights= 10\n",
    "city= 'Los Angeles'\n",
    "days= 7\n",
    "spending_money= 500\n",
    "```\n",
    "\n",
    "`OUTPUT: 2685`\n"
   ]
  },
  {
   "cell_type": "code",
   "execution_count": null,
   "metadata": {},
   "outputs": [],
   "source": [
    "nights= 10\n",
    "city= 'Los Angeles'\n",
    "days= 7\n",
    "spending_money= 500\n",
    "\n",
    "# def hotel_cost(nights):\n",
    "    # YOUR CODE\n",
    "\n",
    "# def plane_ride_cost(city):\n",
    "    # YOUR CODE\n",
    "\n",
    "\n",
    "# def rental_car_cost(days):\n",
    "    # YOUR CODE\n",
    "\n",
    "# def trip_cost(city,days,spending_money):\n",
    "    # YOUR CODE\n",
    "    \n",
    "# trip_cost(city,days,spending_money) # FUNCTION CALL"
   ]
  },
  {
   "cell_type": "markdown",
   "metadata": {},
   "source": [
    "---\n",
    "### Exercise 5: Prime Numbers using List Comprehension\n",
    "Python supports list comprehension which is useful if you want to do a quick pre-processing a list of data or if you want to map a list to another list under a defined transformation.\n",
    "\n",
    "Consider the following code:\n",
    "```\n",
    "#List from 1 to 10 inclusive\n",
    "linear = list(range(1,11))\n",
    "\n",
    "#List from 1^2 to 10^2 inclusive\n",
    "square = [x**2 for x in linear]\n",
    "\n",
    "#List from square with element less than 50\n",
    "less_than_50 = [x for x in square if x < 50]\n",
    "\n",
    "#List from linear with odd element multiplied by -1\n",
    "negative_odd = [-x if x%2 else x for x in linear]\n",
    "```\n",
    "Using the above examples, write a one-liner (excluding initialisation line) in Python 3 that returns prime numbers from a given list of numbers.\n",
    "\n",
    "Hint: You might want to use the function all() that accepts a list of Boolean values as input and return *true* if all values in the list are *true*."
   ]
  },
  {
   "cell_type": "code",
   "execution_count": null,
   "metadata": {},
   "outputs": [],
   "source": [
    "# CODE HERE\n"
   ]
  },
  {
   "cell_type": "markdown",
   "metadata": {},
   "source": [
    "---\n",
    "### Exercise 6: Poetic Square Matrix\n",
    "Min Heguy is a poetic guy and wanted to create a poetic square matrix with its elements to be the sum of its index. The index used is denoted as i and j which represents the row number and column number respectively.\n",
    "\n",
    "For example:\n",
    "```\n",
    "2 3 4   -> i=1 ; j=1,2,3\n",
    "3 4 5\n",
    "4 5 6\n",
    "|\n",
    "v\n",
    "i=1,2,3 ; j = 1\n",
    "```\n",
    "However, he does not know how to write a program to build his matrix. As his best buddy, write a Python 3 code that create the NxN matrix for him, given only the dimension N.\n",
    "<br>\n",
    "As the plot thickens, he wanted to know the cost of reciting the poetic matrix in real world. All he know is that the cost of each element is equal to its value.\n",
    "<br>\n",
    "For the example matrix above (N=3), the cost would be:\n",
    "<br>\n",
    "(2+3+4) + (3+4+5) + (4+5+6) = `36`\n",
    "<br>\n",
    "Hence, calculate the cost of building such NxN matrix given the value of N."
   ]
  },
  {
   "cell_type": "code",
   "execution_count": null,
   "metadata": {},
   "outputs": [],
   "source": [
    "# CODE HERE\n"
   ]
  },
  {
   "cell_type": "markdown",
   "metadata": {},
   "source": [
    "---\n",
    "### Exercise 7: SLAYER\n",
    "    Write a program that can be used to check guesses for the following puzzle:\n",
    "\n",
    "    For what six-digit number SLAYER is the following equation true, where each letter stands for the digit in the position shown? Digits can be repeated.\n",
    "```python\n",
    "    SLAYER + SLAYER + SLAYER = LAYERS\n",
    "```\n",
    "\n",
    "    Start with a variable, v, that will contain the guess. Tell the user whether their guess is correct.\n",
    "\n",
    "    Extension: Make the program foolproof!\n",
    "     - Check that the number is 6 digits long.\n",
    "\n",
    "`One correct guess is 142857.`\n"
   ]
  },
  {
   "cell_type": "code",
   "execution_count": null,
   "metadata": {},
   "outputs": [],
   "source": [
    "# YOUR CODE\n"
   ]
  },
  {
   "cell_type": "markdown",
   "metadata": {},
   "source": [
    "---\n",
    "### Exercise 8: Rrrreeeeeeeeeeeeee\n",
    "\n",
    "You are given a string composed of letters/spaces and single-digit, nonzero numbers. Using for loops, output each substring x number of times, where x is the single digit number proceeding each substring.\n",
    "\n",
    "For example:\n",
    "\n",
    "```tex\n",
    "word = \"y4ee3 5t1\"\n",
    "\n",
    "output = \"yyyyeeeeee     t\"\n",
    "```"
   ]
  },
  {
   "cell_type": "code",
   "execution_count": null,
   "metadata": {},
   "outputs": [],
   "source": [
    "word = \"r4 e e 7l1 3ma3oo5\"\n",
    "# YOUR CODE\n"
   ]
  }
 ],
 "metadata": {
  "colab": {
   "collapsed_sections": [
    "K5SPq-zSys_j",
    "r_8UBDGdytAv",
    "702b-7R9ytBM",
    "QEtzHGOfytCA",
    "5J3FjoDiytCK",
    "tWs3jw4tytCX",
    "P59pCAkFytCp",
    "a6AyL9JvytC5",
    "D7VdZ0i84fHc",
    "HdLlGnK8ytDC",
    "bQv4Yt_KytDI",
    "j8nD0w5MNxsw",
    "BaDBNseSytDa",
    "_qmNdcEUytDf",
    "dli48oXZytDX",
    "SYv2EezlytDh",
    "OqS03wFMX5dW"
   ],
   "name": "lec_1.ipynb",
   "provenance": [],
   "version": "0.3.2"
  },
  "kernelspec": {
   "display_name": "Python 3",
   "language": "python",
   "name": "python3"
  },
  "language_info": {
   "codemirror_mode": {
    "name": "ipython",
    "version": 3
   },
   "file_extension": ".py",
   "mimetype": "text/x-python",
   "name": "python",
   "nbconvert_exporter": "python",
   "pygments_lexer": "ipython3",
   "version": "3.7.3"
  }
 },
 "nbformat": 4,
 "nbformat_minor": 4
}
